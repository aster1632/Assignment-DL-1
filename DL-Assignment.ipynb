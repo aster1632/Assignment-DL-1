{
 "cells": [
  {
   "cell_type": "markdown",
   "metadata": {},
   "source": [
    "___\n",
    "\n",
    "<p style=\"text-align: center;\"><img src=\"https://docs.google.com/uc?id=1lY0Uj5R04yMY3-ZppPWxqCr5pvBLYPnV\" class=\"img-fluid\" alt=\"CLRSWY\"></p>\n",
    "\n",
    "___"
   ]
  },
  {
   "cell_type": "markdown",
   "metadata": {},
   "source": [
    "<h1 style=\"text-align: center;\">Deep Learning<br><br>Assignment-1<br><br>Churn Data<br><h1>"
   ]
  },
  {
   "cell_type": "markdown",
   "metadata": {},
   "source": [
    "# Keras Classification"
   ]
  },
  {
   "cell_type": "code",
   "execution_count": 3,
   "metadata": {},
   "outputs": [],
   "source": [
    "import numpy as np\n",
    "import pandas as pd\n",
    "import matplotlib.pyplot as plt\n",
    "import seaborn as sns\n",
    "\n",
    "import warnings\n",
    "warnings.filterwarnings(\"ignore\")\n",
    "warnings.warn(\"this will not show\")\n",
    "\n",
    "plt.rcParams[\"figure.figsize\"] = (10,6)\n",
    "\n",
    "sns.set_style(\"whitegrid\")\n",
    "pd.set_option('display.float_format', lambda x: '%.3f' % x)\n",
    "\n",
    "pd.set_option('display.max_columns', None)"
   ]
  },
  {
   "cell_type": "markdown",
   "metadata": {},
   "source": [
    "## Exploratory Data Analysis and Visualization"
   ]
  },
  {
   "cell_type": "code",
   "execution_count": 4,
   "metadata": {
    "scrolled": true
   },
   "outputs": [
    {
     "data": {
      "text/html": [
       "<div>\n",
       "<style scoped>\n",
       "    .dataframe tbody tr th:only-of-type {\n",
       "        vertical-align: middle;\n",
       "    }\n",
       "\n",
       "    .dataframe tbody tr th {\n",
       "        vertical-align: top;\n",
       "    }\n",
       "\n",
       "    .dataframe thead th {\n",
       "        text-align: right;\n",
       "    }\n",
       "</style>\n",
       "<table border=\"1\" class=\"dataframe\">\n",
       "  <thead>\n",
       "    <tr style=\"text-align: right;\">\n",
       "      <th></th>\n",
       "      <th>RowNumber</th>\n",
       "      <th>CustomerId</th>\n",
       "      <th>Surname</th>\n",
       "      <th>CreditScore</th>\n",
       "      <th>Geography</th>\n",
       "      <th>Gender</th>\n",
       "      <th>Age</th>\n",
       "      <th>Tenure</th>\n",
       "      <th>Balance</th>\n",
       "      <th>NumOfProducts</th>\n",
       "      <th>HasCrCard</th>\n",
       "      <th>IsActiveMember</th>\n",
       "      <th>EstimatedSalary</th>\n",
       "      <th>Exited</th>\n",
       "    </tr>\n",
       "  </thead>\n",
       "  <tbody>\n",
       "    <tr>\n",
       "      <th>0</th>\n",
       "      <td>1</td>\n",
       "      <td>15634602</td>\n",
       "      <td>Hargrave</td>\n",
       "      <td>619</td>\n",
       "      <td>France</td>\n",
       "      <td>Female</td>\n",
       "      <td>42</td>\n",
       "      <td>2</td>\n",
       "      <td>0.000</td>\n",
       "      <td>1</td>\n",
       "      <td>1</td>\n",
       "      <td>1</td>\n",
       "      <td>101348.880</td>\n",
       "      <td>1</td>\n",
       "    </tr>\n",
       "    <tr>\n",
       "      <th>1</th>\n",
       "      <td>2</td>\n",
       "      <td>15647311</td>\n",
       "      <td>Hill</td>\n",
       "      <td>608</td>\n",
       "      <td>Spain</td>\n",
       "      <td>Female</td>\n",
       "      <td>41</td>\n",
       "      <td>1</td>\n",
       "      <td>83807.860</td>\n",
       "      <td>1</td>\n",
       "      <td>0</td>\n",
       "      <td>1</td>\n",
       "      <td>112542.580</td>\n",
       "      <td>0</td>\n",
       "    </tr>\n",
       "    <tr>\n",
       "      <th>2</th>\n",
       "      <td>3</td>\n",
       "      <td>15619304</td>\n",
       "      <td>Onio</td>\n",
       "      <td>502</td>\n",
       "      <td>France</td>\n",
       "      <td>Female</td>\n",
       "      <td>42</td>\n",
       "      <td>8</td>\n",
       "      <td>159660.800</td>\n",
       "      <td>3</td>\n",
       "      <td>1</td>\n",
       "      <td>0</td>\n",
       "      <td>113931.570</td>\n",
       "      <td>1</td>\n",
       "    </tr>\n",
       "    <tr>\n",
       "      <th>3</th>\n",
       "      <td>4</td>\n",
       "      <td>15701354</td>\n",
       "      <td>Boni</td>\n",
       "      <td>699</td>\n",
       "      <td>France</td>\n",
       "      <td>Female</td>\n",
       "      <td>39</td>\n",
       "      <td>1</td>\n",
       "      <td>0.000</td>\n",
       "      <td>2</td>\n",
       "      <td>0</td>\n",
       "      <td>0</td>\n",
       "      <td>93826.630</td>\n",
       "      <td>0</td>\n",
       "    </tr>\n",
       "    <tr>\n",
       "      <th>4</th>\n",
       "      <td>5</td>\n",
       "      <td>15737888</td>\n",
       "      <td>Mitchell</td>\n",
       "      <td>850</td>\n",
       "      <td>Spain</td>\n",
       "      <td>Female</td>\n",
       "      <td>43</td>\n",
       "      <td>2</td>\n",
       "      <td>125510.820</td>\n",
       "      <td>1</td>\n",
       "      <td>1</td>\n",
       "      <td>1</td>\n",
       "      <td>79084.100</td>\n",
       "      <td>0</td>\n",
       "    </tr>\n",
       "  </tbody>\n",
       "</table>\n",
       "</div>"
      ],
      "text/plain": [
       "   RowNumber  CustomerId   Surname  CreditScore Geography  Gender  Age  \\\n",
       "0          1    15634602  Hargrave          619    France  Female   42   \n",
       "1          2    15647311      Hill          608     Spain  Female   41   \n",
       "2          3    15619304      Onio          502    France  Female   42   \n",
       "3          4    15701354      Boni          699    France  Female   39   \n",
       "4          5    15737888  Mitchell          850     Spain  Female   43   \n",
       "\n",
       "   Tenure    Balance  NumOfProducts  HasCrCard  IsActiveMember  \\\n",
       "0       2      0.000              1          1               1   \n",
       "1       1  83807.860              1          0               1   \n",
       "2       8 159660.800              3          1               0   \n",
       "3       1      0.000              2          0               0   \n",
       "4       2 125510.820              1          1               1   \n",
       "\n",
       "   EstimatedSalary  Exited  \n",
       "0       101348.880       1  \n",
       "1       112542.580       0  \n",
       "2       113931.570       1  \n",
       "3        93826.630       0  \n",
       "4        79084.100       0  "
      ]
     },
     "execution_count": 4,
     "metadata": {},
     "output_type": "execute_result"
    }
   ],
   "source": [
    "df = pd.read_csv(\"Churn_Modelling.csv\")\n",
    "df.head()"
   ]
  },
  {
   "cell_type": "code",
   "execution_count": 5,
   "metadata": {},
   "outputs": [
    {
     "name": "stdout",
     "output_type": "stream",
     "text": [
      "<class 'pandas.core.frame.DataFrame'>\n",
      "RangeIndex: 10000 entries, 0 to 9999\n",
      "Data columns (total 14 columns):\n",
      " #   Column           Non-Null Count  Dtype  \n",
      "---  ------           --------------  -----  \n",
      " 0   RowNumber        10000 non-null  int64  \n",
      " 1   CustomerId       10000 non-null  int64  \n",
      " 2   Surname          10000 non-null  object \n",
      " 3   CreditScore      10000 non-null  int64  \n",
      " 4   Geography        10000 non-null  object \n",
      " 5   Gender           10000 non-null  object \n",
      " 6   Age              10000 non-null  int64  \n",
      " 7   Tenure           10000 non-null  int64  \n",
      " 8   Balance          10000 non-null  float64\n",
      " 9   NumOfProducts    10000 non-null  int64  \n",
      " 10  HasCrCard        10000 non-null  int64  \n",
      " 11  IsActiveMember   10000 non-null  int64  \n",
      " 12  EstimatedSalary  10000 non-null  float64\n",
      " 13  Exited           10000 non-null  int64  \n",
      "dtypes: float64(2), int64(9), object(3)\n",
      "memory usage: 1.1+ MB\n"
     ]
    }
   ],
   "source": [
    "df.info()"
   ]
  },
  {
   "cell_type": "code",
   "execution_count": 6,
   "metadata": {},
   "outputs": [
    {
     "data": {
      "text/plain": [
       "0"
      ]
     },
     "execution_count": 6,
     "metadata": {},
     "output_type": "execute_result"
    }
   ],
   "source": [
    "df.duplicated().sum()"
   ]
  },
  {
   "cell_type": "code",
   "execution_count": 7,
   "metadata": {},
   "outputs": [
    {
     "data": {
      "text/html": [
       "<div>\n",
       "<style scoped>\n",
       "    .dataframe tbody tr th:only-of-type {\n",
       "        vertical-align: middle;\n",
       "    }\n",
       "\n",
       "    .dataframe tbody tr th {\n",
       "        vertical-align: top;\n",
       "    }\n",
       "\n",
       "    .dataframe thead th {\n",
       "        text-align: right;\n",
       "    }\n",
       "</style>\n",
       "<table border=\"1\" class=\"dataframe\">\n",
       "  <thead>\n",
       "    <tr style=\"text-align: right;\">\n",
       "      <th></th>\n",
       "      <th>count</th>\n",
       "      <th>mean</th>\n",
       "      <th>std</th>\n",
       "      <th>min</th>\n",
       "      <th>25%</th>\n",
       "      <th>50%</th>\n",
       "      <th>75%</th>\n",
       "      <th>max</th>\n",
       "    </tr>\n",
       "  </thead>\n",
       "  <tbody>\n",
       "    <tr>\n",
       "      <th>RowNumber</th>\n",
       "      <td>10000.000</td>\n",
       "      <td>5000.500</td>\n",
       "      <td>2886.896</td>\n",
       "      <td>1.000</td>\n",
       "      <td>2500.750</td>\n",
       "      <td>5000.500</td>\n",
       "      <td>7500.250</td>\n",
       "      <td>10000.000</td>\n",
       "    </tr>\n",
       "    <tr>\n",
       "      <th>CustomerId</th>\n",
       "      <td>10000.000</td>\n",
       "      <td>15690940.569</td>\n",
       "      <td>71936.186</td>\n",
       "      <td>15565701.000</td>\n",
       "      <td>15628528.250</td>\n",
       "      <td>15690738.000</td>\n",
       "      <td>15753233.750</td>\n",
       "      <td>15815690.000</td>\n",
       "    </tr>\n",
       "    <tr>\n",
       "      <th>CreditScore</th>\n",
       "      <td>10000.000</td>\n",
       "      <td>650.529</td>\n",
       "      <td>96.653</td>\n",
       "      <td>350.000</td>\n",
       "      <td>584.000</td>\n",
       "      <td>652.000</td>\n",
       "      <td>718.000</td>\n",
       "      <td>850.000</td>\n",
       "    </tr>\n",
       "    <tr>\n",
       "      <th>Age</th>\n",
       "      <td>10000.000</td>\n",
       "      <td>38.922</td>\n",
       "      <td>10.488</td>\n",
       "      <td>18.000</td>\n",
       "      <td>32.000</td>\n",
       "      <td>37.000</td>\n",
       "      <td>44.000</td>\n",
       "      <td>92.000</td>\n",
       "    </tr>\n",
       "    <tr>\n",
       "      <th>Tenure</th>\n",
       "      <td>10000.000</td>\n",
       "      <td>5.013</td>\n",
       "      <td>2.892</td>\n",
       "      <td>0.000</td>\n",
       "      <td>3.000</td>\n",
       "      <td>5.000</td>\n",
       "      <td>7.000</td>\n",
       "      <td>10.000</td>\n",
       "    </tr>\n",
       "    <tr>\n",
       "      <th>Balance</th>\n",
       "      <td>10000.000</td>\n",
       "      <td>76485.889</td>\n",
       "      <td>62397.405</td>\n",
       "      <td>0.000</td>\n",
       "      <td>0.000</td>\n",
       "      <td>97198.540</td>\n",
       "      <td>127644.240</td>\n",
       "      <td>250898.090</td>\n",
       "    </tr>\n",
       "    <tr>\n",
       "      <th>NumOfProducts</th>\n",
       "      <td>10000.000</td>\n",
       "      <td>1.530</td>\n",
       "      <td>0.582</td>\n",
       "      <td>1.000</td>\n",
       "      <td>1.000</td>\n",
       "      <td>1.000</td>\n",
       "      <td>2.000</td>\n",
       "      <td>4.000</td>\n",
       "    </tr>\n",
       "    <tr>\n",
       "      <th>HasCrCard</th>\n",
       "      <td>10000.000</td>\n",
       "      <td>0.706</td>\n",
       "      <td>0.456</td>\n",
       "      <td>0.000</td>\n",
       "      <td>0.000</td>\n",
       "      <td>1.000</td>\n",
       "      <td>1.000</td>\n",
       "      <td>1.000</td>\n",
       "    </tr>\n",
       "    <tr>\n",
       "      <th>IsActiveMember</th>\n",
       "      <td>10000.000</td>\n",
       "      <td>0.515</td>\n",
       "      <td>0.500</td>\n",
       "      <td>0.000</td>\n",
       "      <td>0.000</td>\n",
       "      <td>1.000</td>\n",
       "      <td>1.000</td>\n",
       "      <td>1.000</td>\n",
       "    </tr>\n",
       "    <tr>\n",
       "      <th>EstimatedSalary</th>\n",
       "      <td>10000.000</td>\n",
       "      <td>100090.240</td>\n",
       "      <td>57510.493</td>\n",
       "      <td>11.580</td>\n",
       "      <td>51002.110</td>\n",
       "      <td>100193.915</td>\n",
       "      <td>149388.247</td>\n",
       "      <td>199992.480</td>\n",
       "    </tr>\n",
       "    <tr>\n",
       "      <th>Exited</th>\n",
       "      <td>10000.000</td>\n",
       "      <td>0.204</td>\n",
       "      <td>0.403</td>\n",
       "      <td>0.000</td>\n",
       "      <td>0.000</td>\n",
       "      <td>0.000</td>\n",
       "      <td>0.000</td>\n",
       "      <td>1.000</td>\n",
       "    </tr>\n",
       "  </tbody>\n",
       "</table>\n",
       "</div>"
      ],
      "text/plain": [
       "                    count         mean       std          min          25%  \\\n",
       "RowNumber       10000.000     5000.500  2886.896        1.000     2500.750   \n",
       "CustomerId      10000.000 15690940.569 71936.186 15565701.000 15628528.250   \n",
       "CreditScore     10000.000      650.529    96.653      350.000      584.000   \n",
       "Age             10000.000       38.922    10.488       18.000       32.000   \n",
       "Tenure          10000.000        5.013     2.892        0.000        3.000   \n",
       "Balance         10000.000    76485.889 62397.405        0.000        0.000   \n",
       "NumOfProducts   10000.000        1.530     0.582        1.000        1.000   \n",
       "HasCrCard       10000.000        0.706     0.456        0.000        0.000   \n",
       "IsActiveMember  10000.000        0.515     0.500        0.000        0.000   \n",
       "EstimatedSalary 10000.000   100090.240 57510.493       11.580    51002.110   \n",
       "Exited          10000.000        0.204     0.403        0.000        0.000   \n",
       "\n",
       "                         50%          75%          max  \n",
       "RowNumber           5000.500     7500.250    10000.000  \n",
       "CustomerId      15690738.000 15753233.750 15815690.000  \n",
       "CreditScore          652.000      718.000      850.000  \n",
       "Age                   37.000       44.000       92.000  \n",
       "Tenure                 5.000        7.000       10.000  \n",
       "Balance            97198.540   127644.240   250898.090  \n",
       "NumOfProducts          1.000        2.000        4.000  \n",
       "HasCrCard              1.000        1.000        1.000  \n",
       "IsActiveMember         1.000        1.000        1.000  \n",
       "EstimatedSalary   100193.915   149388.247   199992.480  \n",
       "Exited                 0.000        0.000        1.000  "
      ]
     },
     "execution_count": 7,
     "metadata": {},
     "output_type": "execute_result"
    }
   ],
   "source": [
    "df.describe().T"
   ]
  },
  {
   "cell_type": "code",
   "execution_count": 8,
   "metadata": {},
   "outputs": [],
   "source": [
    "df.drop([\"RowNumber\", \"CustomerId\", \"Surname\"], axis=1, inplace=True)"
   ]
  },
  {
   "cell_type": "code",
   "execution_count": 9,
   "metadata": {},
   "outputs": [
    {
     "data": {
      "text/plain": [
       "0    7963\n",
       "1    2037\n",
       "Name: Exited, dtype: int64"
      ]
     },
     "execution_count": 9,
     "metadata": {},
     "output_type": "execute_result"
    }
   ],
   "source": [
    "df.Exited.value_counts()"
   ]
  },
  {
   "cell_type": "code",
   "execution_count": 10,
   "metadata": {},
   "outputs": [
    {
     "data": {
      "image/png": "[encoded data removed]",
      "text/plain": [
       "<Figure size 720x432 with 1 Axes>"
      ]
     },
     "metadata": {},
     "output_type": "display_data"
    }
   ],
   "source": [
    "sns.countplot(df[\"Exited\"]);"
   ]
  },
  {
   "cell_type": "code",
   "execution_count": 11,
   "metadata": {},
   "outputs": [
    {
     "data": {
      "image/png": "[encoded data removed]",
      "text/plain": [
       "<Figure size 1080x864 with 9 Axes>"
      ]
     },
     "metadata": {},
     "output_type": "display_data"
    }
   ],
   "source": [
    "df.hist(figsize=(15,12), bins=15);"
   ]
  },
  {
   "cell_type": "code",
   "execution_count": 12,
   "metadata": {},
   "outputs": [
    {
     "data": {
      "image/png": "[encoded data removed]",
      "text/plain": [
       "<Figure size 1152x504 with 1 Axes>"
      ]
     },
     "metadata": {},
     "output_type": "display_data"
    }
   ],
   "source": [
    "plt.figure(figsize=(16,7))\n",
    "sns.distplot(df.Age);"
   ]
  },
  {
   "cell_type": "code",
   "execution_count": 13,
   "metadata": {},
   "outputs": [
    {
     "data": {
      "image/png": "[encoded data removed]",
      "text/plain": [
       "<Figure size 720x432 with 1 Axes>"
      ]
     },
     "metadata": {},
     "output_type": "display_data"
    }
   ],
   "source": [
    "sns.histplot(data=df, x=\"Age\", hue=\"Exited\", fill=True);"
   ]
  },
  {
   "cell_type": "code",
   "execution_count": 14,
   "metadata": {},
   "outputs": [
    {
     "data": {
      "image/png": "[encoded data removed]",
      "text/plain": [
       "<Figure size 720x432 with 1 Axes>"
      ]
     },
     "metadata": {},
     "output_type": "display_data"
    }
   ],
   "source": [
    "sns.kdeplot(data=df, x=\"Age\", hue=\"Exited\", fill=True);"
   ]
  },
  {
   "cell_type": "code",
   "execution_count": 15,
   "metadata": {},
   "outputs": [
    {
     "data": {
      "image/png": "[encoded data removed]",
      "text/plain": [
       "<Figure size 1152x864 with 2 Axes>"
      ]
     },
     "metadata": {},
     "output_type": "display_data"
    }
   ],
   "source": [
    "plt.figure(figsize=(16,12))\n",
    "sns.heatmap(df.corr(), annot=True, cmap=\"viridis\");"
   ]
  },
  {
   "cell_type": "code",
   "execution_count": 16,
   "metadata": {},
   "outputs": [
    {
     "data": {
      "image/png": "[encoded data removed]",
      "text/plain": [
       "<Figure size 720x432 with 1 Axes>"
      ]
     },
     "metadata": {},
     "output_type": "display_data"
    }
   ],
   "source": [
    "df.corr()[\"Exited\"][:-1].sort_values().plot.barh();"
   ]
  },
  {
   "cell_type": "code",
   "execution_count": 17,
   "metadata": {},
   "outputs": [
    {
     "data": {
      "text/html": [
       "<div>\n",
       "<style scoped>\n",
       "    .dataframe tbody tr th:only-of-type {\n",
       "        vertical-align: middle;\n",
       "    }\n",
       "\n",
       "    .dataframe tbody tr th {\n",
       "        vertical-align: top;\n",
       "    }\n",
       "\n",
       "    .dataframe thead th {\n",
       "        text-align: right;\n",
       "    }\n",
       "</style>\n",
       "<table border=\"1\" class=\"dataframe\">\n",
       "  <thead>\n",
       "    <tr style=\"text-align: right;\">\n",
       "      <th></th>\n",
       "      <th>CreditScore</th>\n",
       "      <th>Age</th>\n",
       "      <th>Tenure</th>\n",
       "      <th>Balance</th>\n",
       "      <th>NumOfProducts</th>\n",
       "      <th>HasCrCard</th>\n",
       "      <th>IsActiveMember</th>\n",
       "      <th>EstimatedSalary</th>\n",
       "      <th>Exited</th>\n",
       "      <th>Geography_Germany</th>\n",
       "      <th>Geography_Spain</th>\n",
       "      <th>Gender_Male</th>\n",
       "    </tr>\n",
       "  </thead>\n",
       "  <tbody>\n",
       "    <tr>\n",
       "      <th>0</th>\n",
       "      <td>619</td>\n",
       "      <td>42</td>\n",
       "      <td>2</td>\n",
       "      <td>0.000</td>\n",
       "      <td>1</td>\n",
       "      <td>1</td>\n",
       "      <td>1</td>\n",
       "      <td>101348.880</td>\n",
       "      <td>1</td>\n",
       "      <td>0</td>\n",
       "      <td>0</td>\n",
       "      <td>0</td>\n",
       "    </tr>\n",
       "    <tr>\n",
       "      <th>1</th>\n",
       "      <td>608</td>\n",
       "      <td>41</td>\n",
       "      <td>1</td>\n",
       "      <td>83807.860</td>\n",
       "      <td>1</td>\n",
       "      <td>0</td>\n",
       "      <td>1</td>\n",
       "      <td>112542.580</td>\n",
       "      <td>0</td>\n",
       "      <td>0</td>\n",
       "      <td>1</td>\n",
       "      <td>0</td>\n",
       "    </tr>\n",
       "    <tr>\n",
       "      <th>2</th>\n",
       "      <td>502</td>\n",
       "      <td>42</td>\n",
       "      <td>8</td>\n",
       "      <td>159660.800</td>\n",
       "      <td>3</td>\n",
       "      <td>1</td>\n",
       "      <td>0</td>\n",
       "      <td>113931.570</td>\n",
       "      <td>1</td>\n",
       "      <td>0</td>\n",
       "      <td>0</td>\n",
       "      <td>0</td>\n",
       "    </tr>\n",
       "    <tr>\n",
       "      <th>3</th>\n",
       "      <td>699</td>\n",
       "      <td>39</td>\n",
       "      <td>1</td>\n",
       "      <td>0.000</td>\n",
       "      <td>2</td>\n",
       "      <td>0</td>\n",
       "      <td>0</td>\n",
       "      <td>93826.630</td>\n",
       "      <td>0</td>\n",
       "      <td>0</td>\n",
       "      <td>0</td>\n",
       "      <td>0</td>\n",
       "    </tr>\n",
       "    <tr>\n",
       "      <th>4</th>\n",
       "      <td>850</td>\n",
       "      <td>43</td>\n",
       "      <td>2</td>\n",
       "      <td>125510.820</td>\n",
       "      <td>1</td>\n",
       "      <td>1</td>\n",
       "      <td>1</td>\n",
       "      <td>79084.100</td>\n",
       "      <td>0</td>\n",
       "      <td>0</td>\n",
       "      <td>1</td>\n",
       "      <td>0</td>\n",
       "    </tr>\n",
       "    <tr>\n",
       "      <th>...</th>\n",
       "      <td>...</td>\n",
       "      <td>...</td>\n",
       "      <td>...</td>\n",
       "      <td>...</td>\n",
       "      <td>...</td>\n",
       "      <td>...</td>\n",
       "      <td>...</td>\n",
       "      <td>...</td>\n",
       "      <td>...</td>\n",
       "      <td>...</td>\n",
       "      <td>...</td>\n",
       "      <td>...</td>\n",
       "    </tr>\n",
       "    <tr>\n",
       "      <th>9995</th>\n",
       "      <td>771</td>\n",
       "      <td>39</td>\n",
       "      <td>5</td>\n",
       "      <td>0.000</td>\n",
       "      <td>2</td>\n",
       "      <td>1</td>\n",
       "      <td>0</td>\n",
       "      <td>96270.640</td>\n",
       "      <td>0</td>\n",
       "      <td>0</td>\n",
       "      <td>0</td>\n",
       "      <td>1</td>\n",
       "    </tr>\n",
       "    <tr>\n",
       "      <th>9996</th>\n",
       "      <td>516</td>\n",
       "      <td>35</td>\n",
       "      <td>10</td>\n",
       "      <td>57369.610</td>\n",
       "      <td>1</td>\n",
       "      <td>1</td>\n",
       "      <td>1</td>\n",
       "      <td>101699.770</td>\n",
       "      <td>0</td>\n",
       "      <td>0</td>\n",
       "      <td>0</td>\n",
       "      <td>1</td>\n",
       "    </tr>\n",
       "    <tr>\n",
       "      <th>9997</th>\n",
       "      <td>709</td>\n",
       "      <td>36</td>\n",
       "      <td>7</td>\n",
       "      <td>0.000</td>\n",
       "      <td>1</td>\n",
       "      <td>0</td>\n",
       "      <td>1</td>\n",
       "      <td>42085.580</td>\n",
       "      <td>1</td>\n",
       "      <td>0</td>\n",
       "      <td>0</td>\n",
       "      <td>0</td>\n",
       "    </tr>\n",
       "    <tr>\n",
       "      <th>9998</th>\n",
       "      <td>772</td>\n",
       "      <td>42</td>\n",
       "      <td>3</td>\n",
       "      <td>75075.310</td>\n",
       "      <td>2</td>\n",
       "      <td>1</td>\n",
       "      <td>0</td>\n",
       "      <td>92888.520</td>\n",
       "      <td>1</td>\n",
       "      <td>1</td>\n",
       "      <td>0</td>\n",
       "      <td>1</td>\n",
       "    </tr>\n",
       "    <tr>\n",
       "      <th>9999</th>\n",
       "      <td>792</td>\n",
       "      <td>28</td>\n",
       "      <td>4</td>\n",
       "      <td>130142.790</td>\n",
       "      <td>1</td>\n",
       "      <td>1</td>\n",
       "      <td>0</td>\n",
       "      <td>38190.780</td>\n",
       "      <td>0</td>\n",
       "      <td>0</td>\n",
       "      <td>0</td>\n",
       "      <td>0</td>\n",
       "    </tr>\n",
       "  </tbody>\n",
       "</table>\n",
       "<p>10000 rows × 12 columns</p>\n",
       "</div>"
      ],
      "text/plain": [
       "      CreditScore  Age  Tenure    Balance  NumOfProducts  HasCrCard  \\\n",
       "0             619   42       2      0.000              1          1   \n",
       "1             608   41       1  83807.860              1          0   \n",
       "2             502   42       8 159660.800              3          1   \n",
       "3             699   39       1      0.000              2          0   \n",
       "4             850   43       2 125510.820              1          1   \n",
       "...           ...  ...     ...        ...            ...        ...   \n",
       "9995          771   39       5      0.000              2          1   \n",
       "9996          516   35      10  57369.610              1          1   \n",
       "9997          709   36       7      0.000              1          0   \n",
       "9998          772   42       3  75075.310              2          1   \n",
       "9999          792   28       4 130142.790              1          1   \n",
       "\n",
       "      IsActiveMember  EstimatedSalary  Exited  Geography_Germany  \\\n",
       "0                  1       101348.880       1                  0   \n",
       "1                  1       112542.580       0                  0   \n",
       "2                  0       113931.570       1                  0   \n",
       "3                  0        93826.630       0                  0   \n",
       "4                  1        79084.100       0                  0   \n",
       "...              ...              ...     ...                ...   \n",
       "9995               0        96270.640       0                  0   \n",
       "9996               1       101699.770       0                  0   \n",
       "9997               1        42085.580       1                  0   \n",
       "9998               0        92888.520       1                  1   \n",
       "9999               0        38190.780       0                  0   \n",
       "\n",
       "      Geography_Spain  Gender_Male  \n",
       "0                   0            0  \n",
       "1                   1            0  \n",
       "2                   0            0  \n",
       "3                   0            0  \n",
       "4                   1            0  \n",
       "...               ...          ...  \n",
       "9995                0            1  \n",
       "9996                0            1  \n",
       "9997                0            0  \n",
       "9998                0            1  \n",
       "9999                0            0  \n",
       "\n",
       "[10000 rows x 12 columns]"
      ]
     },
     "execution_count": 17,
     "metadata": {},
     "output_type": "execute_result"
    }
   ],
   "source": [
    "df=pd.get_dummies(df, drop_first=True)\n",
    "df"
   ]
  },
  {
   "cell_type": "markdown",
   "metadata": {},
   "source": [
    "## Preprocessing of Data\n",
    "- Train | Test Split, Scalling"
   ]
  },
  {
   "cell_type": "code",
   "execution_count": 18,
   "metadata": {
    "executionInfo": {
     "elapsed": 764,
     "status": "ok",
     "timestamp": 1610203310512,
     "user": {
      "displayName": "Richard C",
      "photoUrl": "",
      "userId": "08040814671867660929"
     },
     "user_tz": -180
    },
    "id": "DjY-ZSPWka7D"
   },
   "outputs": [],
   "source": [
    "from sklearn.model_selection import train_test_split\n",
    "from sklearn.preprocessing import MinMaxScaler"
   ]
  },
  {
   "cell_type": "code",
   "execution_count": 19,
   "metadata": {
    "executionInfo": {
     "elapsed": 1126,
     "status": "ok",
     "timestamp": 1610203246314,
     "user": {
      "displayName": "Richard C",
      "photoUrl": "",
      "userId": "08040814671867660929"
     },
     "user_tz": -180
    },
    "id": "kjyTH753lq7M"
   },
   "outputs": [],
   "source": [
    "X = df.drop('Exited', axis=1)\n",
    "y = df['Exited']"
   ]
  },
  {
   "cell_type": "code",
   "execution_count": 20,
   "metadata": {},
   "outputs": [],
   "source": [
    "seed = 42"
   ]
  },
  {
   "cell_type": "code",
   "execution_count": 21,
   "metadata": {
    "executionInfo": {
     "elapsed": 945,
     "status": "ok",
     "timestamp": 1610203457442,
     "user": {
      "displayName": "Richard C",
      "photoUrl": "",
      "userId": "08040814671867660929"
     },
     "user_tz": -180
    },
    "id": "-U7qM3NxmKZX"
   },
   "outputs": [],
   "source": [
    "X_train, X_test, y_train, y_test = train_test_split(X, y, stratify = y, test_size = 0.10, random_state = seed)"
   ]
  },
  {
   "cell_type": "code",
   "execution_count": 22,
   "metadata": {},
   "outputs": [],
   "source": [
    "scaler = MinMaxScaler()"
   ]
  },
  {
   "cell_type": "code",
   "execution_count": 23,
   "metadata": {
    "executionInfo": {
     "elapsed": 696,
     "status": "ok",
     "timestamp": 1610203508023,
     "user": {
      "displayName": "Richard C",
      "photoUrl": "",
      "userId": "08040814671867660929"
     },
     "user_tz": -180
    },
    "id": "Fgy3D9SBmWcq"
   },
   "outputs": [],
   "source": [
    "X_train= scaler.fit_transform(X_train)\n",
    "X_test = scaler.transform(X_test)"
   ]
  },
  {
   "cell_type": "markdown",
   "metadata": {
    "id": "Ha9hDt_AoGaE"
   },
   "source": [
    "## Modelling & Model Performance"
   ]
  },
  {
   "cell_type": "code",
   "execution_count": 24,
   "metadata": {
    "executionInfo": {
     "elapsed": 829,
     "status": "ok",
     "timestamp": 1610204616389,
     "user": {
      "displayName": "Richard C",
      "photoUrl": "",
      "userId": "08040814671867660929"
     },
     "user_tz": -180
    },
    "id": "YzzxpfNaoFyZ"
   },
   "outputs": [],
   "source": [
    "from tensorflow.keras.models import Sequential\n",
    "from tensorflow.keras.layers import Dense, Activation, Dropout\n",
    "from tensorflow.keras.callbacks import EarlyStopping\n",
    "from tensorflow.keras.optimizers import Adam\n",
    "from sklearn.metrics import classification_report, confusion_matrix\n",
    "from sklearn.metrics import roc_auc_score, roc_curve, precision_recall_curve, average_precision_score\n",
    "from sklearn.model_selection import cross_val_score, cross_validate\n",
    "from sklearn.model_selection import GridSearchCV"
   ]
  },
  {
   "cell_type": "code",
   "execution_count": 25,
   "metadata": {
    "colab": {
     "base_uri": "https://localhost:8080/"
    },
    "executionInfo": {
     "elapsed": 699,
     "status": "ok",
     "timestamp": 1610204637552,
     "user": {
      "displayName": "Richard C",
      "photoUrl": "",
      "userId": "08040814671867660929"
     },
     "user_tz": -180
    },
    "id": "53becHwOn549",
    "outputId": "2e558a0d-f10e-426f-ae9b-0937c35ccdd7"
   },
   "outputs": [
    {
     "data": {
      "text/plain": [
       "(9000, 11)"
      ]
     },
     "execution_count": 25,
     "metadata": {},
     "output_type": "execute_result"
    }
   ],
   "source": [
    "X_train.shape"
   ]
  },
  {
   "cell_type": "code",
   "execution_count": 26,
   "metadata": {
    "colab": {
     "base_uri": "https://localhost:8080/"
    },
    "executionInfo": {
     "elapsed": 829,
     "status": "ok",
     "timestamp": 1610204650451,
     "user": {
      "displayName": "Richard C",
      "photoUrl": "",
      "userId": "08040814671867660929"
     },
     "user_tz": -180
    },
    "id": "TX7hyUw5rOZc",
    "outputId": "90d240eb-1271-4374-ab8f-eb8fcc0f0eed"
   },
   "outputs": [
    {
     "data": {
      "text/plain": [
       "(1000, 11)"
      ]
     },
     "execution_count": 26,
     "metadata": {},
     "output_type": "execute_result"
    }
   ],
   "source": [
    "X_test.shape"
   ]
  },
  {
   "cell_type": "code",
   "execution_count": 30,
   "metadata": {
    "executionInfo": {
     "elapsed": 813,
     "status": "ok",
     "timestamp": 1610205209912,
     "user": {
      "displayName": "Richard C",
      "photoUrl": "",
      "userId": "08040814671867660929"
     },
     "user_tz": -180
    },
    "id": "GG2glFRNrQcv"
   },
   "outputs": [],
   "source": [
    "#tf.random.set_seed(seed)\n",
    "\n",
    "model = Sequential()\n",
    "\n",
    "model.add(Dense(22, activation = \"relu\", input_dim = X_train.shape[1]))\n",
    "model.add(Dense(12, activation = \"relu\"))\n",
    "model.add(Dense(6, activation = \"relu\"))\n",
    "model.add(Dense(1, activation = \"sigmoid\"))\n",
    "\n",
    "model.compile(optimizer = \"adam\", loss = \"binary_crossentropy\", metrics = [\"Recall\"])"
   ]
  },
  {
   "cell_type": "code",
   "execution_count": 32,
   "metadata": {
    "colab": {
     "base_uri": "https://localhost:8080/"
    },
    "executionInfo": {
     "elapsed": 46960,
     "status": "ok",
     "timestamp": 1610205358241,
     "user": {
      "displayName": "Richard C",
      "photoUrl": "",
      "userId": "08040814671867660929"
     },
     "user_tz": -180
    },
    "id": "hw5J9o-mtbkj",
    "outputId": "0b760bf3-0ef2-4afa-c80d-b81d9675b07b"
   },
   "outputs": [
    {
     "name": "stdout",
     "output_type": "stream",
     "text": [
      "Epoch 1/350\n",
      "81/81 [==============================] - 0s 2ms/step - loss: 0.2849 - recall: 0.5557 - val_loss: 0.3232 - val_recall: 0.5691\n",
      "Epoch 2/350\n",
      "81/81 [==============================] - 0s 2ms/step - loss: 0.2835 - recall: 0.5617 - val_loss: 0.3278 - val_recall: 0.5359\n",
      "Epoch 3/350\n",
      "81/81 [==============================] - 0s 2ms/step - loss: 0.2831 - recall: 0.5442 - val_loss: 0.3340 - val_recall: 0.5580\n",
      "Epoch 4/350\n",
      "81/81 [==============================] - 0s 2ms/step - loss: 0.2827 - recall: 0.5563 - val_loss: 0.3304 - val_recall: 0.5083\n",
      "Epoch 5/350\n",
      "81/81 [==============================] - 0s 2ms/step - loss: 0.2832 - recall: 0.5569 - val_loss: 0.3263 - val_recall: 0.5691\n",
      "Epoch 6/350\n",
      "81/81 [==============================] - 0s 2ms/step - loss: 0.2829 - recall: 0.5551 - val_loss: 0.3255 - val_recall: 0.5635\n",
      "Epoch 7/350\n",
      "81/81 [==============================] - 0s 2ms/step - loss: 0.2826 - recall: 0.5599 - val_loss: 0.3268 - val_recall: 0.5691\n",
      "Epoch 8/350\n",
      "81/81 [==============================] - 0s 2ms/step - loss: 0.2839 - recall: 0.5508 - val_loss: 0.3285 - val_recall: 0.5580\n",
      "Epoch 9/350\n",
      "81/81 [==============================] - 0s 2ms/step - loss: 0.2829 - recall: 0.5617 - val_loss: 0.3269 - val_recall: 0.5414\n",
      "Epoch 10/350\n",
      "81/81 [==============================] - 0s 2ms/step - loss: 0.2822 - recall: 0.5484 - val_loss: 0.3286 - val_recall: 0.5580\n",
      "Epoch 11/350\n",
      "81/81 [==============================] - 0s 2ms/step - loss: 0.2825 - recall: 0.5642 - val_loss: 0.3279 - val_recall: 0.5525\n",
      "Epoch 12/350\n",
      "81/81 [==============================] - 0s 2ms/step - loss: 0.2835 - recall: 0.5490 - val_loss: 0.3265 - val_recall: 0.5525\n",
      "Epoch 13/350\n",
      "81/81 [==============================] - 0s 2ms/step - loss: 0.2828 - recall: 0.5654 - val_loss: 0.3267 - val_recall: 0.5691\n",
      "Epoch 14/350\n",
      "81/81 [==============================] - 0s 2ms/step - loss: 0.2830 - recall: 0.5630 - val_loss: 0.3277 - val_recall: 0.5746\n",
      "Epoch 15/350\n",
      "81/81 [==============================] - 0s 2ms/step - loss: 0.2829 - recall: 0.5563 - val_loss: 0.3325 - val_recall: 0.5691\n",
      "Epoch 16/350\n",
      "81/81 [==============================] - 0s 3ms/step - loss: 0.2836 - recall: 0.5593 - val_loss: 0.3306 - val_recall: 0.5470\n",
      "Epoch 17/350\n",
      "81/81 [==============================] - 0s 2ms/step - loss: 0.2832 - recall: 0.5599 - val_loss: 0.3262 - val_recall: 0.5580\n",
      "Epoch 18/350\n",
      "81/81 [==============================] - 0s 2ms/step - loss: 0.2831 - recall: 0.5563 - val_loss: 0.3286 - val_recall: 0.5801\n",
      "Epoch 19/350\n",
      "81/81 [==============================] - 0s 3ms/step - loss: 0.2830 - recall: 0.5611 - val_loss: 0.3260 - val_recall: 0.5525\n",
      "Epoch 20/350\n",
      "81/81 [==============================] - 0s 2ms/step - loss: 0.2832 - recall: 0.5533 - val_loss: 0.3313 - val_recall: 0.5193\n",
      "Epoch 21/350\n",
      "81/81 [==============================] - 0s 2ms/step - loss: 0.2825 - recall: 0.5563 - val_loss: 0.3291 - val_recall: 0.5525\n",
      "Epoch 22/350\n",
      "81/81 [==============================] - 0s 2ms/step - loss: 0.2844 - recall: 0.5611 - val_loss: 0.3321 - val_recall: 0.5470\n",
      "Epoch 23/350\n",
      "81/81 [==============================] - 0s 2ms/step - loss: 0.2839 - recall: 0.5551 - val_loss: 0.3260 - val_recall: 0.5359\n",
      "Epoch 24/350\n",
      "81/81 [==============================] - 0s 3ms/step - loss: 0.2831 - recall: 0.5605 - val_loss: 0.3292 - val_recall: 0.5580\n",
      "Epoch 25/350\n",
      "81/81 [==============================] - 0s 3ms/step - loss: 0.2827 - recall: 0.5660 - val_loss: 0.3341 - val_recall: 0.5249\n",
      "Epoch 26/350\n",
      "81/81 [==============================] - 0s 4ms/step - loss: 0.2845 - recall: 0.5563 - val_loss: 0.3301 - val_recall: 0.5304\n",
      "Epoch 27/350\n",
      "81/81 [==============================] - 0s 4ms/step - loss: 0.2841 - recall: 0.5508 - val_loss: 0.3261 - val_recall: 0.5525\n",
      "Epoch 28/350\n",
      "81/81 [==============================] - 0s 4ms/step - loss: 0.2834 - recall: 0.5630 - val_loss: 0.3330 - val_recall: 0.5691\n",
      "Epoch 29/350\n",
      "81/81 [==============================] - 0s 4ms/step - loss: 0.2828 - recall: 0.5587 - val_loss: 0.3333 - val_recall: 0.5193\n",
      "Epoch 30/350\n",
      "81/81 [==============================] - 0s 4ms/step - loss: 0.2834 - recall: 0.5521 - val_loss: 0.3348 - val_recall: 0.5856\n",
      "Epoch 31/350\n",
      "81/81 [==============================] - 0s 4ms/step - loss: 0.2840 - recall: 0.5648 - val_loss: 0.3337 - val_recall: 0.5249\n",
      "Epoch 32/350\n",
      "81/81 [==============================] - 0s 4ms/step - loss: 0.2841 - recall: 0.5563 - val_loss: 0.3391 - val_recall: 0.5304\n",
      "Epoch 33/350\n",
      "81/81 [==============================] - 0s 4ms/step - loss: 0.2844 - recall: 0.5539 - val_loss: 0.3296 - val_recall: 0.5635\n",
      "Epoch 34/350\n",
      "81/81 [==============================] - 0s 4ms/step - loss: 0.2833 - recall: 0.5508 - val_loss: 0.3430 - val_recall: 0.5967\n",
      "Epoch 35/350\n",
      "81/81 [==============================] - 0s 4ms/step - loss: 0.2844 - recall: 0.5654 - val_loss: 0.3342 - val_recall: 0.5635\n",
      "Epoch 36/350\n",
      "81/81 [==============================] - 0s 4ms/step - loss: 0.2845 - recall: 0.5563 - val_loss: 0.3285 - val_recall: 0.5580\n",
      "Epoch 37/350\n",
      "81/81 [==============================] - 0s 4ms/step - loss: 0.2838 - recall: 0.5551 - val_loss: 0.3325 - val_recall: 0.5083\n",
      "Epoch 38/350\n",
      "81/81 [==============================] - 0s 4ms/step - loss: 0.2845 - recall: 0.5490 - val_loss: 0.3304 - val_recall: 0.5525\n",
      "Epoch 39/350\n",
      "81/81 [==============================] - 0s 4ms/step - loss: 0.2837 - recall: 0.5557 - val_loss: 0.3315 - val_recall: 0.5304\n",
      "Epoch 40/350\n",
      "81/81 [==============================] - 0s 4ms/step - loss: 0.2846 - recall: 0.5545 - val_loss: 0.3307 - val_recall: 0.5525\n",
      "Epoch 41/350\n",
      "81/81 [==============================] - 0s 4ms/step - loss: 0.2827 - recall: 0.5605 - val_loss: 0.3338 - val_recall: 0.5249\n",
      "Epoch 42/350\n",
      "81/81 [==============================] - 0s 4ms/step - loss: 0.2839 - recall: 0.5515 - val_loss: 0.3283 - val_recall: 0.5414\n",
      "Epoch 43/350\n",
      "81/81 [==============================] - 0s 4ms/step - loss: 0.2847 - recall: 0.5527 - val_loss: 0.3385 - val_recall: 0.5304\n",
      "Epoch 44/350\n",
      "81/81 [==============================] - 0s 3ms/step - loss: 0.2841 - recall: 0.5599 - val_loss: 0.3298 - val_recall: 0.5967\n",
      "Epoch 45/350\n",
      "81/81 [==============================] - 0s 2ms/step - loss: 0.2835 - recall: 0.5636 - val_loss: 0.3311 - val_recall: 0.5414\n",
      "Epoch 46/350\n",
      "81/81 [==============================] - 0s 2ms/step - loss: 0.2833 - recall: 0.5515 - val_loss: 0.3316 - val_recall: 0.5414\n",
      "Epoch 47/350\n",
      "81/81 [==============================] - 0s 2ms/step - loss: 0.2836 - recall: 0.5533 - val_loss: 0.3284 - val_recall: 0.5580\n",
      "Epoch 48/350\n",
      "81/81 [==============================] - 0s 2ms/step - loss: 0.2836 - recall: 0.5617 - val_loss: 0.3334 - val_recall: 0.5525\n",
      "Epoch 49/350\n",
      "81/81 [==============================] - 0s 2ms/step - loss: 0.2831 - recall: 0.5581 - val_loss: 0.3336 - val_recall: 0.5912\n",
      "Epoch 50/350\n",
      "81/81 [==============================] - 0s 2ms/step - loss: 0.2828 - recall: 0.5551 - val_loss: 0.3337 - val_recall: 0.5691\n",
      "Epoch 51/350\n",
      "81/81 [==============================] - 0s 2ms/step - loss: 0.2829 - recall: 0.5630 - val_loss: 0.3349 - val_recall: 0.5414\n",
      "Epoch 52/350\n",
      "81/81 [==============================] - 0s 2ms/step - loss: 0.2841 - recall: 0.5599 - val_loss: 0.3336 - val_recall: 0.5138\n",
      "Epoch 53/350\n",
      "81/81 [==============================] - 0s 2ms/step - loss: 0.2844 - recall: 0.5539 - val_loss: 0.3354 - val_recall: 0.5635\n",
      "Epoch 54/350\n",
      "81/81 [==============================] - 0s 2ms/step - loss: 0.2838 - recall: 0.5557 - val_loss: 0.3328 - val_recall: 0.5138\n",
      "Epoch 55/350\n",
      "81/81 [==============================] - 0s 2ms/step - loss: 0.2834 - recall: 0.5593 - val_loss: 0.3346 - val_recall: 0.5249\n",
      "Epoch 56/350\n",
      "81/81 [==============================] - 0s 2ms/step - loss: 0.2835 - recall: 0.5533 - val_loss: 0.3313 - val_recall: 0.5635\n",
      "Epoch 57/350\n",
      "81/81 [==============================] - 0s 2ms/step - loss: 0.2847 - recall: 0.5587 - val_loss: 0.3381 - val_recall: 0.5138\n",
      "Epoch 58/350\n",
      "81/81 [==============================] - 0s 2ms/step - loss: 0.2837 - recall: 0.5636 - val_loss: 0.3310 - val_recall: 0.5359\n",
      "Epoch 59/350\n",
      "81/81 [==============================] - 0s 2ms/step - loss: 0.2835 - recall: 0.5569 - val_loss: 0.3321 - val_recall: 0.5691\n",
      "Epoch 60/350\n"
     ]
    },
    {
     "name": "stdout",
     "output_type": "stream",
     "text": [
      "81/81 [==============================] - 0s 2ms/step - loss: 0.2834 - recall: 0.5533 - val_loss: 0.3292 - val_recall: 0.5525\n",
      "Epoch 61/350\n",
      "81/81 [==============================] - 0s 2ms/step - loss: 0.2836 - recall: 0.5605 - val_loss: 0.3314 - val_recall: 0.5525\n",
      "Epoch 62/350\n",
      "81/81 [==============================] - 0s 2ms/step - loss: 0.2835 - recall: 0.5593 - val_loss: 0.3315 - val_recall: 0.5249\n",
      "Epoch 63/350\n",
      "81/81 [==============================] - 0s 2ms/step - loss: 0.2830 - recall: 0.5563 - val_loss: 0.3353 - val_recall: 0.4972\n",
      "Epoch 64/350\n",
      "81/81 [==============================] - 0s 2ms/step - loss: 0.2829 - recall: 0.5581 - val_loss: 0.3329 - val_recall: 0.5359\n",
      "Epoch 65/350\n",
      "81/81 [==============================] - 0s 2ms/step - loss: 0.2822 - recall: 0.5617 - val_loss: 0.3368 - val_recall: 0.5304\n",
      "Epoch 66/350\n",
      "81/81 [==============================] - 0s 2ms/step - loss: 0.2827 - recall: 0.5611 - val_loss: 0.3358 - val_recall: 0.5304\n",
      "Epoch 67/350\n",
      "81/81 [==============================] - 0s 2ms/step - loss: 0.2832 - recall: 0.5611 - val_loss: 0.3306 - val_recall: 0.5470\n",
      "Epoch 68/350\n",
      "81/81 [==============================] - 0s 2ms/step - loss: 0.2838 - recall: 0.5563 - val_loss: 0.3336 - val_recall: 0.5525\n",
      "Epoch 69/350\n",
      "81/81 [==============================] - 0s 2ms/step - loss: 0.2832 - recall: 0.5630 - val_loss: 0.3367 - val_recall: 0.5414\n",
      "Epoch 70/350\n",
      "81/81 [==============================] - 0s 2ms/step - loss: 0.2825 - recall: 0.5605 - val_loss: 0.3419 - val_recall: 0.5028\n",
      "Epoch 71/350\n",
      "81/81 [==============================] - 0s 2ms/step - loss: 0.2831 - recall: 0.5563 - val_loss: 0.3344 - val_recall: 0.5470\n",
      "Epoch 72/350\n",
      "81/81 [==============================] - 0s 2ms/step - loss: 0.2837 - recall: 0.5593 - val_loss: 0.3377 - val_recall: 0.5470\n",
      "Epoch 73/350\n",
      "81/81 [==============================] - 0s 2ms/step - loss: 0.2845 - recall: 0.5545 - val_loss: 0.3323 - val_recall: 0.5580\n",
      "Epoch 74/350\n",
      "81/81 [==============================] - 0s 2ms/step - loss: 0.2833 - recall: 0.5551 - val_loss: 0.3397 - val_recall: 0.5304\n",
      "Epoch 75/350\n",
      "81/81 [==============================] - 0s 2ms/step - loss: 0.2822 - recall: 0.5636 - val_loss: 0.3380 - val_recall: 0.5580\n",
      "Epoch 76/350\n",
      "81/81 [==============================] - 0s 2ms/step - loss: 0.2835 - recall: 0.5599 - val_loss: 0.3334 - val_recall: 0.5635\n",
      "Epoch 77/350\n",
      "81/81 [==============================] - 0s 2ms/step - loss: 0.2830 - recall: 0.5587 - val_loss: 0.3403 - val_recall: 0.5525\n",
      "Epoch 78/350\n",
      "81/81 [==============================] - 0s 2ms/step - loss: 0.2827 - recall: 0.5599 - val_loss: 0.3373 - val_recall: 0.5470\n",
      "Epoch 79/350\n",
      "81/81 [==============================] - 0s 2ms/step - loss: 0.2828 - recall: 0.5515 - val_loss: 0.3336 - val_recall: 0.5359\n",
      "Epoch 80/350\n",
      "81/81 [==============================] - 0s 2ms/step - loss: 0.2833 - recall: 0.5605 - val_loss: 0.3358 - val_recall: 0.5359\n",
      "Epoch 81/350\n",
      "81/81 [==============================] - 0s 2ms/step - loss: 0.2839 - recall: 0.5587 - val_loss: 0.3323 - val_recall: 0.5470\n",
      "Epoch 82/350\n",
      "81/81 [==============================] - 0s 2ms/step - loss: 0.2828 - recall: 0.5684 - val_loss: 0.3323 - val_recall: 0.5525\n",
      "Epoch 83/350\n",
      "81/81 [==============================] - 0s 2ms/step - loss: 0.2833 - recall: 0.5575 - val_loss: 0.3395 - val_recall: 0.5249\n",
      "Epoch 84/350\n",
      "81/81 [==============================] - 0s 2ms/step - loss: 0.2825 - recall: 0.5605 - val_loss: 0.3341 - val_recall: 0.5028\n",
      "Epoch 85/350\n",
      "81/81 [==============================] - 0s 2ms/step - loss: 0.2837 - recall: 0.5545 - val_loss: 0.3392 - val_recall: 0.5359\n",
      "Epoch 86/350\n",
      "81/81 [==============================] - 0s 2ms/step - loss: 0.2830 - recall: 0.5648 - val_loss: 0.3376 - val_recall: 0.5359\n",
      "Epoch 87/350\n",
      "81/81 [==============================] - 0s 2ms/step - loss: 0.2831 - recall: 0.5587 - val_loss: 0.3400 - val_recall: 0.5635\n",
      "Epoch 88/350\n",
      "81/81 [==============================] - 0s 2ms/step - loss: 0.2833 - recall: 0.5636 - val_loss: 0.3403 - val_recall: 0.5028\n",
      "Epoch 89/350\n",
      "81/81 [==============================] - 0s 2ms/step - loss: 0.2828 - recall: 0.5611 - val_loss: 0.3340 - val_recall: 0.5470\n",
      "Epoch 90/350\n",
      "81/81 [==============================] - 0s 2ms/step - loss: 0.2824 - recall: 0.5557 - val_loss: 0.3410 - val_recall: 0.5359\n",
      "Epoch 91/350\n",
      "81/81 [==============================] - 0s 2ms/step - loss: 0.2826 - recall: 0.5587 - val_loss: 0.3347 - val_recall: 0.5801\n",
      "Epoch 92/350\n",
      "81/81 [==============================] - 0s 2ms/step - loss: 0.2827 - recall: 0.5605 - val_loss: 0.3438 - val_recall: 0.5304\n",
      "Epoch 93/350\n",
      "81/81 [==============================] - 0s 2ms/step - loss: 0.2826 - recall: 0.5593 - val_loss: 0.3396 - val_recall: 0.5635\n",
      "Epoch 94/350\n",
      "81/81 [==============================] - 0s 2ms/step - loss: 0.2828 - recall: 0.5684 - val_loss: 0.3444 - val_recall: 0.5580\n",
      "Epoch 95/350\n",
      "81/81 [==============================] - 0s 2ms/step - loss: 0.2816 - recall: 0.5702 - val_loss: 0.3446 - val_recall: 0.5414\n",
      "Epoch 96/350\n",
      "81/81 [==============================] - 0s 2ms/step - loss: 0.2837 - recall: 0.5593 - val_loss: 0.3370 - val_recall: 0.5414\n",
      "Epoch 97/350\n",
      "81/81 [==============================] - 0s 2ms/step - loss: 0.2822 - recall: 0.5521 - val_loss: 0.3297 - val_recall: 0.5580\n",
      "Epoch 98/350\n",
      "81/81 [==============================] - 0s 2ms/step - loss: 0.2836 - recall: 0.5533 - val_loss: 0.3306 - val_recall: 0.5580\n",
      "Epoch 99/350\n",
      "81/81 [==============================] - 0s 2ms/step - loss: 0.2829 - recall: 0.5545 - val_loss: 0.3365 - val_recall: 0.5635\n",
      "Epoch 100/350\n",
      "81/81 [==============================] - 0s 2ms/step - loss: 0.2829 - recall: 0.5581 - val_loss: 0.3389 - val_recall: 0.5525\n",
      "Epoch 101/350\n",
      "81/81 [==============================] - 0s 2ms/step - loss: 0.2833 - recall: 0.5581 - val_loss: 0.3336 - val_recall: 0.5580\n",
      "Epoch 102/350\n",
      "81/81 [==============================] - 0s 2ms/step - loss: 0.2845 - recall: 0.5569 - val_loss: 0.3377 - val_recall: 0.5691\n",
      "Epoch 103/350\n",
      "81/81 [==============================] - 0s 2ms/step - loss: 0.2829 - recall: 0.5557 - val_loss: 0.3358 - val_recall: 0.5304\n",
      "Epoch 104/350\n",
      "81/81 [==============================] - 0s 2ms/step - loss: 0.2825 - recall: 0.5527 - val_loss: 0.3361 - val_recall: 0.5580\n",
      "Epoch 105/350\n",
      "81/81 [==============================] - 0s 2ms/step - loss: 0.2822 - recall: 0.5636 - val_loss: 0.3346 - val_recall: 0.5635\n",
      "Epoch 106/350\n",
      "81/81 [==============================] - 0s 3ms/step - loss: 0.2824 - recall: 0.5551 - val_loss: 0.3387 - val_recall: 0.5525\n",
      "Epoch 107/350\n",
      "81/81 [==============================] - 0s 4ms/step - loss: 0.2817 - recall: 0.5714 - val_loss: 0.3362 - val_recall: 0.5635\n",
      "Epoch 108/350\n",
      "81/81 [==============================] - 0s 4ms/step - loss: 0.2819 - recall: 0.5623 - val_loss: 0.3329 - val_recall: 0.5359\n",
      "Epoch 109/350\n",
      "81/81 [==============================] - 0s 4ms/step - loss: 0.2832 - recall: 0.5593 - val_loss: 0.3398 - val_recall: 0.5359\n",
      "Epoch 110/350\n",
      "81/81 [==============================] - 0s 4ms/step - loss: 0.2830 - recall: 0.5636 - val_loss: 0.3343 - val_recall: 0.5580\n",
      "Epoch 111/350\n",
      "81/81 [==============================] - 0s 4ms/step - loss: 0.2844 - recall: 0.5587 - val_loss: 0.3392 - val_recall: 0.5525\n",
      "Epoch 112/350\n",
      "81/81 [==============================] - 0s 4ms/step - loss: 0.2817 - recall: 0.5611 - val_loss: 0.3390 - val_recall: 0.5359\n",
      "Epoch 113/350\n",
      "81/81 [==============================] - 0s 4ms/step - loss: 0.2823 - recall: 0.5587 - val_loss: 0.3353 - val_recall: 0.5525\n",
      "Epoch 114/350\n",
      "81/81 [==============================] - 0s 4ms/step - loss: 0.2827 - recall: 0.5617 - val_loss: 0.3369 - val_recall: 0.5193\n",
      "Epoch 115/350\n",
      "81/81 [==============================] - 0s 4ms/step - loss: 0.2818 - recall: 0.5587 - val_loss: 0.3392 - val_recall: 0.5414\n",
      "Epoch 116/350\n",
      "81/81 [==============================] - 0s 4ms/step - loss: 0.2826 - recall: 0.5581 - val_loss: 0.3390 - val_recall: 0.5525\n",
      "Epoch 117/350\n",
      "81/81 [==============================] - 0s 4ms/step - loss: 0.2819 - recall: 0.5508 - val_loss: 0.3402 - val_recall: 0.5856\n",
      "Epoch 118/350\n",
      "81/81 [==============================] - 0s 4ms/step - loss: 0.2816 - recall: 0.5714 - val_loss: 0.3437 - val_recall: 0.4586\n",
      "Epoch 119/350\n"
     ]
    },
    {
     "name": "stdout",
     "output_type": "stream",
     "text": [
      "81/81 [==============================] - 0s 4ms/step - loss: 0.2834 - recall: 0.5533 - val_loss: 0.3368 - val_recall: 0.5304\n",
      "Epoch 120/350\n",
      "81/81 [==============================] - 0s 4ms/step - loss: 0.2818 - recall: 0.5605 - val_loss: 0.3434 - val_recall: 0.5249\n",
      "Epoch 121/350\n",
      "81/81 [==============================] - 0s 4ms/step - loss: 0.2828 - recall: 0.5581 - val_loss: 0.3420 - val_recall: 0.5359\n",
      "Epoch 122/350\n",
      "81/81 [==============================] - 0s 4ms/step - loss: 0.2818 - recall: 0.5593 - val_loss: 0.3387 - val_recall: 0.5635\n",
      "Epoch 123/350\n",
      "81/81 [==============================] - 0s 4ms/step - loss: 0.2816 - recall: 0.5581 - val_loss: 0.3397 - val_recall: 0.5580\n",
      "Epoch 124/350\n",
      "81/81 [==============================] - 0s 4ms/step - loss: 0.2832 - recall: 0.5630 - val_loss: 0.3331 - val_recall: 0.5580\n",
      "Epoch 125/350\n",
      "81/81 [==============================] - 0s 4ms/step - loss: 0.2825 - recall: 0.5563 - val_loss: 0.3332 - val_recall: 0.5580\n",
      "Epoch 126/350\n",
      "81/81 [==============================] - 0s 3ms/step - loss: 0.2824 - recall: 0.5623 - val_loss: 0.3460 - val_recall: 0.5359\n",
      "Epoch 127/350\n",
      "81/81 [==============================] - 0s 2ms/step - loss: 0.2818 - recall: 0.5617 - val_loss: 0.3373 - val_recall: 0.5525\n",
      "Epoch 128/350\n",
      "81/81 [==============================] - 0s 2ms/step - loss: 0.2839 - recall: 0.5533 - val_loss: 0.3418 - val_recall: 0.5525\n",
      "Epoch 129/350\n",
      "81/81 [==============================] - 0s 3ms/step - loss: 0.2828 - recall: 0.5599 - val_loss: 0.3376 - val_recall: 0.5580\n",
      "Epoch 130/350\n",
      "81/81 [==============================] - 0s 2ms/step - loss: 0.2834 - recall: 0.5648 - val_loss: 0.3376 - val_recall: 0.5414\n",
      "Epoch 131/350\n",
      "81/81 [==============================] - 0s 2ms/step - loss: 0.2844 - recall: 0.5539 - val_loss: 0.3348 - val_recall: 0.5525\n",
      "Epoch 132/350\n",
      "81/81 [==============================] - 0s 2ms/step - loss: 0.2828 - recall: 0.5545 - val_loss: 0.3371 - val_recall: 0.5304\n",
      "Epoch 133/350\n",
      "81/81 [==============================] - 0s 2ms/step - loss: 0.2823 - recall: 0.5623 - val_loss: 0.3386 - val_recall: 0.5525\n",
      "Epoch 134/350\n",
      "81/81 [==============================] - 0s 2ms/step - loss: 0.2824 - recall: 0.5557 - val_loss: 0.3406 - val_recall: 0.5635\n",
      "Epoch 135/350\n",
      "81/81 [==============================] - 0s 3ms/step - loss: 0.2819 - recall: 0.5575 - val_loss: 0.3335 - val_recall: 0.5580\n",
      "Epoch 136/350\n",
      "81/81 [==============================] - 0s 2ms/step - loss: 0.2816 - recall: 0.5660 - val_loss: 0.3367 - val_recall: 0.5359\n",
      "Epoch 137/350\n",
      "81/81 [==============================] - 0s 2ms/step - loss: 0.2823 - recall: 0.5581 - val_loss: 0.3421 - val_recall: 0.5470\n",
      "Epoch 138/350\n",
      "81/81 [==============================] - 0s 2ms/step - loss: 0.2808 - recall: 0.5569 - val_loss: 0.3447 - val_recall: 0.5470\n",
      "Epoch 139/350\n",
      "81/81 [==============================] - 0s 2ms/step - loss: 0.2823 - recall: 0.5593 - val_loss: 0.3382 - val_recall: 0.5580\n",
      "Epoch 140/350\n",
      "81/81 [==============================] - 0s 2ms/step - loss: 0.2811 - recall: 0.5623 - val_loss: 0.3309 - val_recall: 0.5525\n",
      "Epoch 141/350\n",
      "81/81 [==============================] - 0s 2ms/step - loss: 0.2820 - recall: 0.5508 - val_loss: 0.3442 - val_recall: 0.4972\n",
      "Epoch 142/350\n",
      "81/81 [==============================] - 0s 2ms/step - loss: 0.2831 - recall: 0.5605 - val_loss: 0.3369 - val_recall: 0.5746\n",
      "Epoch 143/350\n",
      "81/81 [==============================] - 0s 2ms/step - loss: 0.2830 - recall: 0.5533 - val_loss: 0.3396 - val_recall: 0.5580\n",
      "Epoch 144/350\n",
      "81/81 [==============================] - 0s 2ms/step - loss: 0.2823 - recall: 0.5684 - val_loss: 0.3436 - val_recall: 0.5193\n",
      "Epoch 145/350\n",
      "81/81 [==============================] - 0s 2ms/step - loss: 0.2818 - recall: 0.5636 - val_loss: 0.3393 - val_recall: 0.5635\n",
      "Epoch 146/350\n",
      "81/81 [==============================] - 0s 2ms/step - loss: 0.2811 - recall: 0.5623 - val_loss: 0.3320 - val_recall: 0.5525\n",
      "Epoch 147/350\n",
      "81/81 [==============================] - 0s 2ms/step - loss: 0.2818 - recall: 0.5648 - val_loss: 0.3376 - val_recall: 0.5470\n",
      "Epoch 148/350\n",
      "81/81 [==============================] - 0s 2ms/step - loss: 0.2819 - recall: 0.5611 - val_loss: 0.3415 - val_recall: 0.5470\n",
      "Epoch 149/350\n",
      "81/81 [==============================] - 0s 2ms/step - loss: 0.2814 - recall: 0.5648 - val_loss: 0.3415 - val_recall: 0.5414\n",
      "Epoch 150/350\n",
      "81/81 [==============================] - 0s 2ms/step - loss: 0.2820 - recall: 0.5648 - val_loss: 0.3412 - val_recall: 0.5414\n",
      "Epoch 151/350\n",
      "81/81 [==============================] - 0s 2ms/step - loss: 0.2823 - recall: 0.5521 - val_loss: 0.3418 - val_recall: 0.4917\n",
      "Epoch 152/350\n",
      "81/81 [==============================] - 0s 2ms/step - loss: 0.2810 - recall: 0.5702 - val_loss: 0.3464 - val_recall: 0.4917\n",
      "Epoch 153/350\n",
      "81/81 [==============================] - 0s 2ms/step - loss: 0.2819 - recall: 0.5557 - val_loss: 0.3436 - val_recall: 0.5249\n",
      "Epoch 154/350\n",
      "81/81 [==============================] - 0s 2ms/step - loss: 0.2818 - recall: 0.5630 - val_loss: 0.3345 - val_recall: 0.5525\n",
      "Epoch 155/350\n",
      "81/81 [==============================] - 0s 2ms/step - loss: 0.2823 - recall: 0.5617 - val_loss: 0.3485 - val_recall: 0.5635\n",
      "Epoch 156/350\n",
      "81/81 [==============================] - 0s 2ms/step - loss: 0.2818 - recall: 0.5630 - val_loss: 0.3442 - val_recall: 0.5083\n",
      "Epoch 157/350\n",
      "81/81 [==============================] - 0s 2ms/step - loss: 0.2842 - recall: 0.5539 - val_loss: 0.3407 - val_recall: 0.5249\n",
      "Epoch 158/350\n",
      "81/81 [==============================] - 0s 2ms/step - loss: 0.2824 - recall: 0.5611 - val_loss: 0.3410 - val_recall: 0.5249\n",
      "Epoch 159/350\n",
      "81/81 [==============================] - 0s 2ms/step - loss: 0.2827 - recall: 0.5527 - val_loss: 0.3541 - val_recall: 0.5635\n",
      "Epoch 160/350\n",
      "81/81 [==============================] - 0s 2ms/step - loss: 0.2820 - recall: 0.5605 - val_loss: 0.3465 - val_recall: 0.5580\n",
      "Epoch 161/350\n",
      "81/81 [==============================] - 0s 2ms/step - loss: 0.2809 - recall: 0.5648 - val_loss: 0.3407 - val_recall: 0.5525\n",
      "Epoch 162/350\n",
      "81/81 [==============================] - 0s 2ms/step - loss: 0.2808 - recall: 0.5666 - val_loss: 0.3386 - val_recall: 0.5304\n",
      "Epoch 163/350\n",
      "81/81 [==============================] - 0s 2ms/step - loss: 0.2809 - recall: 0.5575 - val_loss: 0.3471 - val_recall: 0.5912\n",
      "Epoch 164/350\n",
      "81/81 [==============================] - 0s 2ms/step - loss: 0.2820 - recall: 0.5623 - val_loss: 0.3392 - val_recall: 0.5193\n",
      "Epoch 165/350\n",
      "81/81 [==============================] - 0s 2ms/step - loss: 0.2822 - recall: 0.5642 - val_loss: 0.3464 - val_recall: 0.5083\n",
      "Epoch 166/350\n",
      "81/81 [==============================] - 0s 2ms/step - loss: 0.2816 - recall: 0.5642 - val_loss: 0.3416 - val_recall: 0.5470\n",
      "Epoch 167/350\n",
      "81/81 [==============================] - 0s 2ms/step - loss: 0.2813 - recall: 0.5581 - val_loss: 0.3383 - val_recall: 0.5635\n",
      "Epoch 168/350\n",
      "81/81 [==============================] - 0s 2ms/step - loss: 0.2813 - recall: 0.5660 - val_loss: 0.3412 - val_recall: 0.5746\n",
      "Epoch 169/350\n",
      "81/81 [==============================] - 0s 2ms/step - loss: 0.2818 - recall: 0.5599 - val_loss: 0.3436 - val_recall: 0.4972\n",
      "Epoch 170/350\n",
      "81/81 [==============================] - 0s 2ms/step - loss: 0.2802 - recall: 0.5575 - val_loss: 0.3475 - val_recall: 0.5691\n",
      "Epoch 171/350\n",
      "81/81 [==============================] - 0s 2ms/step - loss: 0.2805 - recall: 0.5660 - val_loss: 0.3414 - val_recall: 0.5525\n",
      "Epoch 172/350\n",
      "81/81 [==============================] - 0s 2ms/step - loss: 0.2810 - recall: 0.5630 - val_loss: 0.3472 - val_recall: 0.5249\n",
      "Epoch 173/350\n",
      "81/81 [==============================] - 0s 2ms/step - loss: 0.2805 - recall: 0.5593 - val_loss: 0.3390 - val_recall: 0.5635\n",
      "Epoch 174/350\n",
      "81/81 [==============================] - 0s 2ms/step - loss: 0.2828 - recall: 0.5587 - val_loss: 0.3452 - val_recall: 0.5083\n",
      "Epoch 175/350\n",
      "81/81 [==============================] - 0s 2ms/step - loss: 0.2817 - recall: 0.5660 - val_loss: 0.3479 - val_recall: 0.5249\n",
      "Epoch 176/350\n",
      "81/81 [==============================] - 0s 2ms/step - loss: 0.2813 - recall: 0.5642 - val_loss: 0.3423 - val_recall: 0.5249\n",
      "Epoch 177/350\n",
      "81/81 [==============================] - 0s 2ms/step - loss: 0.2822 - recall: 0.5642 - val_loss: 0.3388 - val_recall: 0.5635\n",
      "Epoch 178/350\n"
     ]
    },
    {
     "name": "stdout",
     "output_type": "stream",
     "text": [
      "81/81 [==============================] - 0s 2ms/step - loss: 0.2824 - recall: 0.5605 - val_loss: 0.3385 - val_recall: 0.5580\n",
      "Epoch 179/350\n",
      "81/81 [==============================] - 0s 2ms/step - loss: 0.2818 - recall: 0.5636 - val_loss: 0.3360 - val_recall: 0.5525\n",
      "Epoch 180/350\n",
      "81/81 [==============================] - 0s 2ms/step - loss: 0.2804 - recall: 0.5660 - val_loss: 0.3376 - val_recall: 0.5138\n",
      "Epoch 181/350\n",
      "81/81 [==============================] - 0s 2ms/step - loss: 0.2813 - recall: 0.5623 - val_loss: 0.3489 - val_recall: 0.5580\n",
      "Epoch 182/350\n",
      "81/81 [==============================] - 0s 2ms/step - loss: 0.2821 - recall: 0.5563 - val_loss: 0.3461 - val_recall: 0.5635\n",
      "Epoch 183/350\n",
      "81/81 [==============================] - 0s 2ms/step - loss: 0.2804 - recall: 0.5666 - val_loss: 0.3395 - val_recall: 0.5635\n",
      "Epoch 184/350\n",
      "81/81 [==============================] - 0s 2ms/step - loss: 0.2810 - recall: 0.5642 - val_loss: 0.3478 - val_recall: 0.5359\n",
      "Epoch 185/350\n",
      "81/81 [==============================] - 0s 3ms/step - loss: 0.2803 - recall: 0.5605 - val_loss: 0.3496 - val_recall: 0.5635\n",
      "Epoch 186/350\n",
      "81/81 [==============================] - 0s 4ms/step - loss: 0.2824 - recall: 0.5563 - val_loss: 0.3429 - val_recall: 0.5580\n",
      "Epoch 187/350\n",
      "81/81 [==============================] - 0s 4ms/step - loss: 0.2805 - recall: 0.5642 - val_loss: 0.3431 - val_recall: 0.5414\n",
      "Epoch 188/350\n",
      "81/81 [==============================] - 0s 4ms/step - loss: 0.2814 - recall: 0.5611 - val_loss: 0.3484 - val_recall: 0.5083\n",
      "Epoch 189/350\n",
      "81/81 [==============================] - 0s 4ms/step - loss: 0.2809 - recall: 0.5593 - val_loss: 0.3358 - val_recall: 0.5304\n",
      "Epoch 190/350\n",
      "81/81 [==============================] - 0s 4ms/step - loss: 0.2818 - recall: 0.5672 - val_loss: 0.3383 - val_recall: 0.5414\n",
      "Epoch 191/350\n",
      "81/81 [==============================] - 0s 4ms/step - loss: 0.2811 - recall: 0.5630 - val_loss: 0.3380 - val_recall: 0.5470\n",
      "Epoch 192/350\n",
      "81/81 [==============================] - 0s 4ms/step - loss: 0.2807 - recall: 0.5623 - val_loss: 0.3526 - val_recall: 0.5083\n",
      "Epoch 193/350\n",
      "81/81 [==============================] - 0s 4ms/step - loss: 0.2818 - recall: 0.5581 - val_loss: 0.3366 - val_recall: 0.5525\n",
      "Epoch 194/350\n",
      "81/81 [==============================] - 0s 4ms/step - loss: 0.2798 - recall: 0.5696 - val_loss: 0.3439 - val_recall: 0.5635\n",
      "Epoch 195/350\n",
      "81/81 [==============================] - 0s 4ms/step - loss: 0.2813 - recall: 0.5636 - val_loss: 0.3400 - val_recall: 0.5635\n",
      "Epoch 196/350\n",
      "81/81 [==============================] - 0s 4ms/step - loss: 0.2798 - recall: 0.5678 - val_loss: 0.3428 - val_recall: 0.5470\n",
      "Epoch 197/350\n",
      "81/81 [==============================] - 0s 4ms/step - loss: 0.2811 - recall: 0.5605 - val_loss: 0.3399 - val_recall: 0.5580\n",
      "Epoch 198/350\n",
      "81/81 [==============================] - 0s 4ms/step - loss: 0.2820 - recall: 0.5672 - val_loss: 0.3397 - val_recall: 0.5359\n",
      "Epoch 199/350\n",
      "81/81 [==============================] - 0s 4ms/step - loss: 0.2806 - recall: 0.5611 - val_loss: 0.3415 - val_recall: 0.5470\n",
      "Epoch 200/350\n",
      "81/81 [==============================] - 0s 4ms/step - loss: 0.2806 - recall: 0.5690 - val_loss: 0.3407 - val_recall: 0.5249\n",
      "Epoch 201/350\n",
      "81/81 [==============================] - 0s 4ms/step - loss: 0.2803 - recall: 0.5611 - val_loss: 0.3483 - val_recall: 0.5083\n",
      "Epoch 202/350\n",
      "81/81 [==============================] - 0s 4ms/step - loss: 0.2831 - recall: 0.5587 - val_loss: 0.3367 - val_recall: 0.5580\n",
      "Epoch 203/350\n",
      "81/81 [==============================] - 0s 4ms/step - loss: 0.2804 - recall: 0.5642 - val_loss: 0.3494 - val_recall: 0.5635\n",
      "Epoch 204/350\n",
      "81/81 [==============================] - 0s 4ms/step - loss: 0.2809 - recall: 0.5654 - val_loss: 0.3515 - val_recall: 0.5470\n",
      "Epoch 205/350\n",
      "81/81 [==============================] - 0s 3ms/step - loss: 0.2805 - recall: 0.5763 - val_loss: 0.3521 - val_recall: 0.4972\n",
      "Epoch 206/350\n",
      "81/81 [==============================] - 0s 2ms/step - loss: 0.2795 - recall: 0.5617 - val_loss: 0.3409 - val_recall: 0.5635\n",
      "Epoch 207/350\n",
      "81/81 [==============================] - 0s 2ms/step - loss: 0.2809 - recall: 0.5617 - val_loss: 0.3485 - val_recall: 0.5525\n",
      "Epoch 208/350\n",
      "81/81 [==============================] - 0s 2ms/step - loss: 0.2801 - recall: 0.5636 - val_loss: 0.3455 - val_recall: 0.4807\n",
      "Epoch 209/350\n",
      "81/81 [==============================] - 0s 2ms/step - loss: 0.2838 - recall: 0.5563 - val_loss: 0.3428 - val_recall: 0.5193\n",
      "Epoch 210/350\n",
      "81/81 [==============================] - 0s 2ms/step - loss: 0.2819 - recall: 0.5636 - val_loss: 0.3409 - val_recall: 0.5470\n",
      "Epoch 211/350\n",
      "81/81 [==============================] - 0s 2ms/step - loss: 0.2806 - recall: 0.5636 - val_loss: 0.3423 - val_recall: 0.5138\n",
      "Epoch 212/350\n",
      "81/81 [==============================] - 0s 2ms/step - loss: 0.2814 - recall: 0.5672 - val_loss: 0.3464 - val_recall: 0.5414\n",
      "Epoch 213/350\n",
      "81/81 [==============================] - 0s 2ms/step - loss: 0.2802 - recall: 0.5648 - val_loss: 0.3447 - val_recall: 0.5193\n",
      "Epoch 214/350\n",
      "81/81 [==============================] - 0s 2ms/step - loss: 0.2808 - recall: 0.5630 - val_loss: 0.3425 - val_recall: 0.5635\n",
      "Epoch 215/350\n",
      "81/81 [==============================] - 0s 2ms/step - loss: 0.2808 - recall: 0.5617 - val_loss: 0.3415 - val_recall: 0.5525\n",
      "Epoch 216/350\n",
      "81/81 [==============================] - 0s 2ms/step - loss: 0.2796 - recall: 0.5672 - val_loss: 0.3466 - val_recall: 0.5304\n",
      "Epoch 217/350\n",
      "81/81 [==============================] - 0s 2ms/step - loss: 0.2802 - recall: 0.5636 - val_loss: 0.3470 - val_recall: 0.5359\n",
      "Epoch 218/350\n",
      "81/81 [==============================] - 0s 2ms/step - loss: 0.2806 - recall: 0.5654 - val_loss: 0.3485 - val_recall: 0.5635\n",
      "Epoch 219/350\n",
      "81/81 [==============================] - 0s 2ms/step - loss: 0.2797 - recall: 0.5636 - val_loss: 0.3426 - val_recall: 0.5359\n",
      "Epoch 220/350\n",
      "81/81 [==============================] - 0s 2ms/step - loss: 0.2796 - recall: 0.5575 - val_loss: 0.3457 - val_recall: 0.5691\n",
      "Epoch 221/350\n",
      "81/81 [==============================] - 0s 2ms/step - loss: 0.2807 - recall: 0.5714 - val_loss: 0.3404 - val_recall: 0.5414\n",
      "Epoch 222/350\n",
      "81/81 [==============================] - 0s 2ms/step - loss: 0.2796 - recall: 0.5605 - val_loss: 0.3500 - val_recall: 0.5359\n",
      "Epoch 223/350\n",
      "81/81 [==============================] - 0s 2ms/step - loss: 0.2807 - recall: 0.5684 - val_loss: 0.3464 - val_recall: 0.5249\n",
      "Epoch 224/350\n",
      "81/81 [==============================] - 0s 2ms/step - loss: 0.2803 - recall: 0.5623 - val_loss: 0.3422 - val_recall: 0.5083\n",
      "Epoch 225/350\n",
      "81/81 [==============================] - 0s 2ms/step - loss: 0.2813 - recall: 0.5545 - val_loss: 0.3429 - val_recall: 0.5249\n",
      "Epoch 226/350\n",
      "81/81 [==============================] - 0s 2ms/step - loss: 0.2813 - recall: 0.5563 - val_loss: 0.3455 - val_recall: 0.5304\n",
      "Epoch 227/350\n",
      "81/81 [==============================] - 0s 2ms/step - loss: 0.2803 - recall: 0.5696 - val_loss: 0.3464 - val_recall: 0.5525\n",
      "Epoch 228/350\n",
      "81/81 [==============================] - 0s 2ms/step - loss: 0.2814 - recall: 0.5611 - val_loss: 0.3467 - val_recall: 0.5083\n",
      "Epoch 229/350\n",
      "81/81 [==============================] - 0s 2ms/step - loss: 0.2804 - recall: 0.5587 - val_loss: 0.3415 - val_recall: 0.5193\n",
      "Epoch 230/350\n",
      "81/81 [==============================] - 0s 2ms/step - loss: 0.2820 - recall: 0.5630 - val_loss: 0.3405 - val_recall: 0.5359\n",
      "Epoch 231/350\n",
      "81/81 [==============================] - 0s 2ms/step - loss: 0.2802 - recall: 0.5630 - val_loss: 0.3417 - val_recall: 0.5470\n",
      "Epoch 232/350\n",
      "81/81 [==============================] - 0s 2ms/step - loss: 0.2810 - recall: 0.5684 - val_loss: 0.3514 - val_recall: 0.5083\n",
      "Epoch 233/350\n",
      "81/81 [==============================] - 0s 2ms/step - loss: 0.2802 - recall: 0.5551 - val_loss: 0.3467 - val_recall: 0.5525\n",
      "Epoch 234/350\n",
      "81/81 [==============================] - 0s 2ms/step - loss: 0.2793 - recall: 0.5636 - val_loss: 0.3448 - val_recall: 0.5746\n",
      "Epoch 235/350\n",
      "81/81 [==============================] - 0s 2ms/step - loss: 0.2798 - recall: 0.5738 - val_loss: 0.3379 - val_recall: 0.5414\n",
      "Epoch 236/350\n",
      "81/81 [==============================] - 0s 2ms/step - loss: 0.2794 - recall: 0.5623 - val_loss: 0.3515 - val_recall: 0.5414\n",
      "Epoch 237/350\n"
     ]
    },
    {
     "name": "stdout",
     "output_type": "stream",
     "text": [
      "81/81 [==============================] - 0s 2ms/step - loss: 0.2792 - recall: 0.5684 - val_loss: 0.3410 - val_recall: 0.5304\n",
      "Epoch 238/350\n",
      "81/81 [==============================] - 0s 2ms/step - loss: 0.2792 - recall: 0.5672 - val_loss: 0.3461 - val_recall: 0.5359\n",
      "Epoch 239/350\n",
      "81/81 [==============================] - 0s 2ms/step - loss: 0.2817 - recall: 0.5557 - val_loss: 0.3399 - val_recall: 0.5028\n",
      "Epoch 240/350\n",
      "81/81 [==============================] - 0s 2ms/step - loss: 0.2812 - recall: 0.5551 - val_loss: 0.3472 - val_recall: 0.5414\n",
      "Epoch 241/350\n",
      "81/81 [==============================] - 0s 2ms/step - loss: 0.2809 - recall: 0.5642 - val_loss: 0.3428 - val_recall: 0.5525\n",
      "Epoch 242/350\n",
      "81/81 [==============================] - 0s 2ms/step - loss: 0.2798 - recall: 0.5660 - val_loss: 0.3374 - val_recall: 0.5359\n",
      "Epoch 243/350\n",
      "81/81 [==============================] - 0s 2ms/step - loss: 0.2797 - recall: 0.5587 - val_loss: 0.3481 - val_recall: 0.5525\n",
      "Epoch 244/350\n",
      "81/81 [==============================] - 0s 2ms/step - loss: 0.2798 - recall: 0.5660 - val_loss: 0.3483 - val_recall: 0.5249\n",
      "Epoch 245/350\n",
      "81/81 [==============================] - 0s 2ms/step - loss: 0.2801 - recall: 0.5617 - val_loss: 0.3468 - val_recall: 0.5912\n",
      "Epoch 246/350\n",
      "81/81 [==============================] - 0s 2ms/step - loss: 0.2808 - recall: 0.5672 - val_loss: 0.3417 - val_recall: 0.5359\n",
      "Epoch 247/350\n",
      "81/81 [==============================] - 0s 2ms/step - loss: 0.2796 - recall: 0.5708 - val_loss: 0.3426 - val_recall: 0.5193\n",
      "Epoch 248/350\n",
      "81/81 [==============================] - 0s 2ms/step - loss: 0.2792 - recall: 0.5605 - val_loss: 0.3456 - val_recall: 0.5359\n",
      "Epoch 249/350\n",
      "81/81 [==============================] - 0s 2ms/step - loss: 0.2796 - recall: 0.5678 - val_loss: 0.3469 - val_recall: 0.5470\n",
      "Epoch 250/350\n",
      "81/81 [==============================] - 0s 2ms/step - loss: 0.2799 - recall: 0.5581 - val_loss: 0.3440 - val_recall: 0.5470\n",
      "Epoch 251/350\n",
      "81/81 [==============================] - 0s 2ms/step - loss: 0.2796 - recall: 0.5672 - val_loss: 0.3452 - val_recall: 0.5359\n",
      "Epoch 252/350\n",
      "81/81 [==============================] - 0s 2ms/step - loss: 0.2793 - recall: 0.5648 - val_loss: 0.3490 - val_recall: 0.5083\n",
      "Epoch 253/350\n",
      "81/81 [==============================] - 0s 2ms/step - loss: 0.2798 - recall: 0.5672 - val_loss: 0.3487 - val_recall: 0.5028\n",
      "Epoch 254/350\n",
      "81/81 [==============================] - 0s 2ms/step - loss: 0.2788 - recall: 0.5666 - val_loss: 0.3441 - val_recall: 0.5414\n",
      "Epoch 255/350\n",
      "81/81 [==============================] - 0s 2ms/step - loss: 0.2801 - recall: 0.5672 - val_loss: 0.3488 - val_recall: 0.5138\n",
      "Epoch 256/350\n",
      "81/81 [==============================] - 0s 2ms/step - loss: 0.2799 - recall: 0.5672 - val_loss: 0.3533 - val_recall: 0.4862\n",
      "Epoch 257/350\n",
      "81/81 [==============================] - 0s 3ms/step - loss: 0.2804 - recall: 0.5630 - val_loss: 0.3421 - val_recall: 0.5470\n",
      "Epoch 258/350\n",
      "81/81 [==============================] - 0s 2ms/step - loss: 0.2795 - recall: 0.5702 - val_loss: 0.3429 - val_recall: 0.5746\n",
      "Epoch 259/350\n",
      "81/81 [==============================] - 0s 2ms/step - loss: 0.2795 - recall: 0.5666 - val_loss: 0.3466 - val_recall: 0.5083\n",
      "Epoch 260/350\n",
      "81/81 [==============================] - 0s 3ms/step - loss: 0.2792 - recall: 0.5654 - val_loss: 0.3477 - val_recall: 0.5193\n",
      "Epoch 261/350\n",
      "81/81 [==============================] - 0s 2ms/step - loss: 0.2803 - recall: 0.5617 - val_loss: 0.3476 - val_recall: 0.5635\n",
      "Epoch 262/350\n",
      "81/81 [==============================] - 0s 2ms/step - loss: 0.2798 - recall: 0.5617 - val_loss: 0.3451 - val_recall: 0.5470\n",
      "Epoch 263/350\n",
      "81/81 [==============================] - 0s 3ms/step - loss: 0.2793 - recall: 0.5660 - val_loss: 0.3431 - val_recall: 0.4972\n",
      "Epoch 264/350\n",
      "81/81 [==============================] - 0s 3ms/step - loss: 0.2806 - recall: 0.5696 - val_loss: 0.3429 - val_recall: 0.5580\n",
      "Epoch 265/350\n",
      "81/81 [==============================] - 0s 2ms/step - loss: 0.2800 - recall: 0.5581 - val_loss: 0.3552 - val_recall: 0.5856\n",
      "Epoch 266/350\n",
      "81/81 [==============================] - 0s 4ms/step - loss: 0.2788 - recall: 0.5738 - val_loss: 0.3436 - val_recall: 0.5249\n",
      "Epoch 267/350\n",
      "81/81 [==============================] - 0s 4ms/step - loss: 0.2795 - recall: 0.5660 - val_loss: 0.3596 - val_recall: 0.5304\n",
      "Epoch 268/350\n",
      "81/81 [==============================] - 0s 4ms/step - loss: 0.2797 - recall: 0.5648 - val_loss: 0.3522 - val_recall: 0.5249\n",
      "Epoch 269/350\n",
      "81/81 [==============================] - 0s 4ms/step - loss: 0.2795 - recall: 0.5696 - val_loss: 0.3456 - val_recall: 0.4807\n",
      "Epoch 270/350\n",
      "81/81 [==============================] - 0s 4ms/step - loss: 0.2793 - recall: 0.5636 - val_loss: 0.3542 - val_recall: 0.5470\n",
      "Epoch 271/350\n",
      "81/81 [==============================] - 0s 4ms/step - loss: 0.2786 - recall: 0.5660 - val_loss: 0.3489 - val_recall: 0.5414\n",
      "Epoch 272/350\n",
      "81/81 [==============================] - 0s 4ms/step - loss: 0.2812 - recall: 0.5605 - val_loss: 0.3483 - val_recall: 0.5249\n",
      "Epoch 273/350\n",
      "81/81 [==============================] - 0s 4ms/step - loss: 0.2810 - recall: 0.5623 - val_loss: 0.3557 - val_recall: 0.5083\n",
      "Epoch 274/350\n",
      "81/81 [==============================] - 0s 4ms/step - loss: 0.2786 - recall: 0.5684 - val_loss: 0.3454 - val_recall: 0.5525\n",
      "Epoch 275/350\n",
      "81/81 [==============================] - 0s 4ms/step - loss: 0.2791 - recall: 0.5696 - val_loss: 0.3417 - val_recall: 0.5249\n",
      "Epoch 276/350\n",
      "81/81 [==============================] - 0s 4ms/step - loss: 0.2793 - recall: 0.5696 - val_loss: 0.3472 - val_recall: 0.4917\n",
      "Epoch 277/350\n",
      "81/81 [==============================] - 0s 4ms/step - loss: 0.2798 - recall: 0.5539 - val_loss: 0.3412 - val_recall: 0.5414\n",
      "Epoch 278/350\n",
      "81/81 [==============================] - 0s 4ms/step - loss: 0.2797 - recall: 0.5642 - val_loss: 0.3491 - val_recall: 0.5083\n",
      "Epoch 279/350\n",
      "81/81 [==============================] - 0s 4ms/step - loss: 0.2793 - recall: 0.5678 - val_loss: 0.3533 - val_recall: 0.5193\n",
      "Epoch 280/350\n",
      "81/81 [==============================] - 0s 4ms/step - loss: 0.2798 - recall: 0.5630 - val_loss: 0.3446 - val_recall: 0.5359\n",
      "Epoch 281/350\n",
      "81/81 [==============================] - 0s 4ms/step - loss: 0.2789 - recall: 0.5617 - val_loss: 0.3498 - val_recall: 0.5525\n",
      "Epoch 282/350\n",
      "81/81 [==============================] - 0s 4ms/step - loss: 0.2791 - recall: 0.5617 - val_loss: 0.3537 - val_recall: 0.5580\n",
      "Epoch 283/350\n",
      "81/81 [==============================] - 0s 4ms/step - loss: 0.2796 - recall: 0.5593 - val_loss: 0.3484 - val_recall: 0.5359\n",
      "Epoch 284/350\n",
      "81/81 [==============================] - 0s 4ms/step - loss: 0.2792 - recall: 0.5714 - val_loss: 0.3451 - val_recall: 0.5359\n",
      "Epoch 285/350\n",
      "81/81 [==============================] - 0s 2ms/step - loss: 0.2798 - recall: 0.5630 - val_loss: 0.3553 - val_recall: 0.4862\n",
      "Epoch 286/350\n",
      "81/81 [==============================] - 0s 2ms/step - loss: 0.2791 - recall: 0.5654 - val_loss: 0.3500 - val_recall: 0.5359\n",
      "Epoch 287/350\n",
      "81/81 [==============================] - 0s 2ms/step - loss: 0.2799 - recall: 0.5696 - val_loss: 0.3459 - val_recall: 0.5193\n",
      "Epoch 288/350\n",
      "81/81 [==============================] - 0s 2ms/step - loss: 0.2784 - recall: 0.5569 - val_loss: 0.3474 - val_recall: 0.5635\n",
      "Epoch 289/350\n",
      "81/81 [==============================] - 0s 2ms/step - loss: 0.2784 - recall: 0.5684 - val_loss: 0.3434 - val_recall: 0.5138\n",
      "Epoch 290/350\n",
      "81/81 [==============================] - 0s 2ms/step - loss: 0.2797 - recall: 0.5617 - val_loss: 0.3496 - val_recall: 0.5635\n",
      "Epoch 291/350\n",
      "81/81 [==============================] - 0s 2ms/step - loss: 0.2793 - recall: 0.5690 - val_loss: 0.3443 - val_recall: 0.5304\n",
      "Epoch 292/350\n",
      "81/81 [==============================] - 0s 2ms/step - loss: 0.2794 - recall: 0.5617 - val_loss: 0.3410 - val_recall: 0.5470\n",
      "Epoch 293/350\n",
      "81/81 [==============================] - 0s 2ms/step - loss: 0.2792 - recall: 0.5654 - val_loss: 0.3484 - val_recall: 0.5470\n",
      "Epoch 294/350\n",
      "81/81 [==============================] - 0s 2ms/step - loss: 0.2807 - recall: 0.5714 - val_loss: 0.3441 - val_recall: 0.5083\n",
      "Epoch 295/350\n",
      "81/81 [==============================] - 0s 2ms/step - loss: 0.2804 - recall: 0.5611 - val_loss: 0.3475 - val_recall: 0.5359\n",
      "Epoch 296/350\n"
     ]
    },
    {
     "name": "stdout",
     "output_type": "stream",
     "text": [
      "81/81 [==============================] - 0s 2ms/step - loss: 0.2780 - recall: 0.5763 - val_loss: 0.3503 - val_recall: 0.5414\n",
      "Epoch 297/350\n",
      "81/81 [==============================] - 0s 2ms/step - loss: 0.2786 - recall: 0.5617 - val_loss: 0.3444 - val_recall: 0.5801\n",
      "Epoch 298/350\n",
      "81/81 [==============================] - 0s 2ms/step - loss: 0.2794 - recall: 0.5696 - val_loss: 0.3410 - val_recall: 0.5359\n",
      "Epoch 299/350\n",
      "81/81 [==============================] - 0s 2ms/step - loss: 0.2792 - recall: 0.5630 - val_loss: 0.3479 - val_recall: 0.5304\n",
      "Epoch 300/350\n",
      "81/81 [==============================] - 0s 2ms/step - loss: 0.2783 - recall: 0.5714 - val_loss: 0.3487 - val_recall: 0.5249\n",
      "Epoch 301/350\n",
      "81/81 [==============================] - 0s 2ms/step - loss: 0.2788 - recall: 0.5654 - val_loss: 0.3443 - val_recall: 0.5525\n",
      "Epoch 302/350\n",
      "81/81 [==============================] - 0s 2ms/step - loss: 0.2788 - recall: 0.5702 - val_loss: 0.3516 - val_recall: 0.5470\n",
      "Epoch 303/350\n",
      "81/81 [==============================] - 0s 2ms/step - loss: 0.2803 - recall: 0.5581 - val_loss: 0.3541 - val_recall: 0.5414\n",
      "Epoch 304/350\n",
      "81/81 [==============================] - 0s 2ms/step - loss: 0.2786 - recall: 0.5793 - val_loss: 0.3453 - val_recall: 0.4972\n",
      "Epoch 305/350\n",
      "81/81 [==============================] - 0s 2ms/step - loss: 0.2797 - recall: 0.5648 - val_loss: 0.3477 - val_recall: 0.5359\n",
      "Epoch 306/350\n",
      "81/81 [==============================] - 0s 2ms/step - loss: 0.2787 - recall: 0.5648 - val_loss: 0.3505 - val_recall: 0.5193\n",
      "Epoch 307/350\n",
      "81/81 [==============================] - 0s 2ms/step - loss: 0.2794 - recall: 0.5630 - val_loss: 0.3407 - val_recall: 0.5359\n",
      "Epoch 308/350\n",
      "81/81 [==============================] - 0s 2ms/step - loss: 0.2806 - recall: 0.5708 - val_loss: 0.3482 - val_recall: 0.4972\n",
      "Epoch 309/350\n",
      "81/81 [==============================] - 0s 2ms/step - loss: 0.2788 - recall: 0.5642 - val_loss: 0.3451 - val_recall: 0.5138\n",
      "Epoch 310/350\n",
      "81/81 [==============================] - 0s 2ms/step - loss: 0.2785 - recall: 0.5623 - val_loss: 0.3500 - val_recall: 0.5414\n",
      "Epoch 311/350\n",
      "81/81 [==============================] - 0s 2ms/step - loss: 0.2778 - recall: 0.5660 - val_loss: 0.3471 - val_recall: 0.5525\n",
      "Epoch 312/350\n",
      "81/81 [==============================] - 0s 2ms/step - loss: 0.2787 - recall: 0.5654 - val_loss: 0.3480 - val_recall: 0.5138\n",
      "Epoch 313/350\n",
      "81/81 [==============================] - 0s 2ms/step - loss: 0.2788 - recall: 0.5623 - val_loss: 0.3523 - val_recall: 0.5525\n",
      "Epoch 314/350\n",
      "81/81 [==============================] - 0s 2ms/step - loss: 0.2793 - recall: 0.5611 - val_loss: 0.3541 - val_recall: 0.5746\n",
      "Epoch 315/350\n",
      "81/81 [==============================] - 0s 2ms/step - loss: 0.2801 - recall: 0.5623 - val_loss: 0.3489 - val_recall: 0.5359\n",
      "Epoch 316/350\n",
      "81/81 [==============================] - 0s 2ms/step - loss: 0.2804 - recall: 0.5642 - val_loss: 0.3451 - val_recall: 0.4862\n",
      "Epoch 317/350\n",
      "81/81 [==============================] - 0s 2ms/step - loss: 0.2788 - recall: 0.5575 - val_loss: 0.3444 - val_recall: 0.5414\n",
      "Epoch 318/350\n",
      "81/81 [==============================] - 0s 2ms/step - loss: 0.2781 - recall: 0.5654 - val_loss: 0.3461 - val_recall: 0.5580\n",
      "Epoch 319/350\n",
      "81/81 [==============================] - 0s 2ms/step - loss: 0.2788 - recall: 0.5720 - val_loss: 0.3451 - val_recall: 0.5304\n",
      "Epoch 320/350\n",
      "81/81 [==============================] - 0s 2ms/step - loss: 0.2787 - recall: 0.5738 - val_loss: 0.3547 - val_recall: 0.5083\n",
      "Epoch 321/350\n",
      "81/81 [==============================] - 0s 2ms/step - loss: 0.2791 - recall: 0.5599 - val_loss: 0.3472 - val_recall: 0.5414\n",
      "Epoch 322/350\n",
      "81/81 [==============================] - 0s 2ms/step - loss: 0.2790 - recall: 0.5690 - val_loss: 0.3506 - val_recall: 0.5138\n",
      "Epoch 323/350\n",
      "81/81 [==============================] - 0s 2ms/step - loss: 0.2787 - recall: 0.5678 - val_loss: 0.3437 - val_recall: 0.5249\n",
      "Epoch 324/350\n",
      "81/81 [==============================] - 0s 2ms/step - loss: 0.2788 - recall: 0.5672 - val_loss: 0.3418 - val_recall: 0.5580\n",
      "Epoch 325/350\n",
      "81/81 [==============================] - 0s 2ms/step - loss: 0.2780 - recall: 0.5781 - val_loss: 0.3532 - val_recall: 0.5359\n",
      "Epoch 326/350\n",
      "81/81 [==============================] - 0s 2ms/step - loss: 0.2788 - recall: 0.5678 - val_loss: 0.3469 - val_recall: 0.4972\n",
      "Epoch 327/350\n",
      "81/81 [==============================] - 0s 2ms/step - loss: 0.2787 - recall: 0.5738 - val_loss: 0.3598 - val_recall: 0.4586\n",
      "Epoch 328/350\n",
      "81/81 [==============================] - 0s 2ms/step - loss: 0.2800 - recall: 0.5593 - val_loss: 0.3450 - val_recall: 0.5414\n",
      "Epoch 329/350\n",
      "81/81 [==============================] - 0s 2ms/step - loss: 0.2780 - recall: 0.5708 - val_loss: 0.3469 - val_recall: 0.4972\n",
      "Epoch 330/350\n",
      "81/81 [==============================] - 0s 2ms/step - loss: 0.2785 - recall: 0.5648 - val_loss: 0.3461 - val_recall: 0.5028\n",
      "Epoch 331/350\n",
      "81/81 [==============================] - 0s 2ms/step - loss: 0.2787 - recall: 0.5605 - val_loss: 0.3578 - val_recall: 0.5414\n",
      "Epoch 332/350\n",
      "81/81 [==============================] - 0s 2ms/step - loss: 0.2783 - recall: 0.5642 - val_loss: 0.3458 - val_recall: 0.5470\n",
      "Epoch 333/350\n",
      "81/81 [==============================] - 0s 3ms/step - loss: 0.2786 - recall: 0.5642 - val_loss: 0.3539 - val_recall: 0.5691\n",
      "Epoch 334/350\n",
      "81/81 [==============================] - 0s 3ms/step - loss: 0.2791 - recall: 0.5708 - val_loss: 0.3545 - val_recall: 0.4972\n",
      "Epoch 335/350\n",
      "81/81 [==============================] - 0s 3ms/step - loss: 0.2798 - recall: 0.5617 - val_loss: 0.3538 - val_recall: 0.5635\n",
      "Epoch 336/350\n",
      "81/81 [==============================] - 0s 3ms/step - loss: 0.2785 - recall: 0.5623 - val_loss: 0.3505 - val_recall: 0.5635\n",
      "Epoch 337/350\n",
      "81/81 [==============================] - 0s 2ms/step - loss: 0.2797 - recall: 0.5654 - val_loss: 0.3525 - val_recall: 0.5691\n",
      "Epoch 338/350\n",
      "81/81 [==============================] - 0s 2ms/step - loss: 0.2776 - recall: 0.5708 - val_loss: 0.3518 - val_recall: 0.4862\n",
      "Epoch 339/350\n",
      "81/81 [==============================] - 0s 2ms/step - loss: 0.2776 - recall: 0.5678 - val_loss: 0.3504 - val_recall: 0.5414\n",
      "Epoch 340/350\n",
      "81/81 [==============================] - 0s 3ms/step - loss: 0.2785 - recall: 0.5648 - val_loss: 0.3472 - val_recall: 0.5414\n",
      "Epoch 341/350\n",
      "81/81 [==============================] - 0s 3ms/step - loss: 0.2787 - recall: 0.5666 - val_loss: 0.3576 - val_recall: 0.5414\n",
      "Epoch 342/350\n",
      "81/81 [==============================] - 0s 3ms/step - loss: 0.2781 - recall: 0.5684 - val_loss: 0.3432 - val_recall: 0.5359\n",
      "Epoch 343/350\n",
      "81/81 [==============================] - 0s 4ms/step - loss: 0.2797 - recall: 0.5672 - val_loss: 0.3475 - val_recall: 0.4917\n",
      "Epoch 344/350\n",
      "81/81 [==============================] - 0s 4ms/step - loss: 0.2794 - recall: 0.5702 - val_loss: 0.3521 - val_recall: 0.5193\n",
      "Epoch 345/350\n",
      "81/81 [==============================] - 0s 4ms/step - loss: 0.2790 - recall: 0.5617 - val_loss: 0.3487 - val_recall: 0.4917\n",
      "Epoch 346/350\n",
      "81/81 [==============================] - 0s 4ms/step - loss: 0.2794 - recall: 0.5751 - val_loss: 0.3473 - val_recall: 0.5028\n",
      "Epoch 347/350\n",
      "81/81 [==============================] - 0s 4ms/step - loss: 0.2790 - recall: 0.5642 - val_loss: 0.3441 - val_recall: 0.5525\n",
      "Epoch 348/350\n",
      "81/81 [==============================] - 0s 4ms/step - loss: 0.2783 - recall: 0.5660 - val_loss: 0.3548 - val_recall: 0.5414\n",
      "Epoch 349/350\n",
      "81/81 [==============================] - 0s 4ms/step - loss: 0.2779 - recall: 0.5684 - val_loss: 0.3501 - val_recall: 0.5193\n",
      "Epoch 350/350\n",
      "81/81 [==============================] - 0s 4ms/step - loss: 0.2780 - recall: 0.5642 - val_loss: 0.3564 - val_recall: 0.5193\n"
     ]
    },
    {
     "data": {
      "text/plain": [
       "<keras.callbacks.History at 0x22c1af11ee0>"
      ]
     },
     "execution_count": 32,
     "metadata": {},
     "output_type": "execute_result"
    }
   ],
   "source": [
    "model.fit(x = X_train, y = y_train, validation_split = 0.1, batch_size = 100, epochs = 350, verbose=1)"
   ]
  },
  {
   "cell_type": "code",
   "execution_count": 33,
   "metadata": {},
   "outputs": [
    {
     "name": "stdout",
     "output_type": "stream",
     "text": [
      "Model: \"sequential\"\n",
      "_________________________________________________________________\n",
      " Layer (type)                Output Shape              Param #   \n",
      "=================================================================\n",
      " dense (Dense)               (None, 22)                264       \n",
      "                                                                 \n",
      " dense_1 (Dense)             (None, 12)                276       \n",
      "                                                                 \n",
      " dense_2 (Dense)             (None, 6)                 78        \n",
      "                                                                 \n",
      " dense_3 (Dense)             (None, 1)                 7         \n",
      "                                                                 \n",
      "=================================================================\n",
      "Total params: 625\n",
      "Trainable params: 625\n",
      "Non-trainable params: 0\n",
      "_________________________________________________________________\n"
     ]
    }
   ],
   "source": [
    "model.summary()"
   ]
  },
  {
   "cell_type": "code",
   "execution_count": 34,
   "metadata": {
    "executionInfo": {
     "elapsed": 809,
     "status": "ok",
     "timestamp": 1610205470123,
     "user": {
      "displayName": "Richard C",
      "photoUrl": "",
      "userId": "08040814671867660929"
     },
     "user_tz": -180
    },
    "id": "vQIbjGQduQpQ"
   },
   "outputs": [
    {
     "data": {
      "text/html": [
       "<div>\n",
       "<style scoped>\n",
       "    .dataframe tbody tr th:only-of-type {\n",
       "        vertical-align: middle;\n",
       "    }\n",
       "\n",
       "    .dataframe tbody tr th {\n",
       "        vertical-align: top;\n",
       "    }\n",
       "\n",
       "    .dataframe thead th {\n",
       "        text-align: right;\n",
       "    }\n",
       "</style>\n",
       "<table border=\"1\" class=\"dataframe\">\n",
       "  <thead>\n",
       "    <tr style=\"text-align: right;\">\n",
       "      <th></th>\n",
       "      <th>loss</th>\n",
       "      <th>recall</th>\n",
       "      <th>val_loss</th>\n",
       "      <th>val_recall</th>\n",
       "    </tr>\n",
       "  </thead>\n",
       "  <tbody>\n",
       "    <tr>\n",
       "      <th>0</th>\n",
       "      <td>0.285</td>\n",
       "      <td>0.556</td>\n",
       "      <td>0.323</td>\n",
       "      <td>0.569</td>\n",
       "    </tr>\n",
       "    <tr>\n",
       "      <th>1</th>\n",
       "      <td>0.284</td>\n",
       "      <td>0.562</td>\n",
       "      <td>0.328</td>\n",
       "      <td>0.536</td>\n",
       "    </tr>\n",
       "    <tr>\n",
       "      <th>2</th>\n",
       "      <td>0.283</td>\n",
       "      <td>0.544</td>\n",
       "      <td>0.334</td>\n",
       "      <td>0.558</td>\n",
       "    </tr>\n",
       "    <tr>\n",
       "      <th>3</th>\n",
       "      <td>0.283</td>\n",
       "      <td>0.556</td>\n",
       "      <td>0.330</td>\n",
       "      <td>0.508</td>\n",
       "    </tr>\n",
       "    <tr>\n",
       "      <th>4</th>\n",
       "      <td>0.283</td>\n",
       "      <td>0.557</td>\n",
       "      <td>0.326</td>\n",
       "      <td>0.569</td>\n",
       "    </tr>\n",
       "  </tbody>\n",
       "</table>\n",
       "</div>"
      ],
      "text/plain": [
       "   loss  recall  val_loss  val_recall\n",
       "0 0.285   0.556     0.323       0.569\n",
       "1 0.284   0.562     0.328       0.536\n",
       "2 0.283   0.544     0.334       0.558\n",
       "3 0.283   0.556     0.330       0.508\n",
       "4 0.283   0.557     0.326       0.569"
      ]
     },
     "execution_count": 34,
     "metadata": {},
     "output_type": "execute_result"
    }
   ],
   "source": [
    "loss_df = pd.DataFrame(model.history.history)\n",
    "loss_df.head()"
   ]
  },
  {
   "cell_type": "code",
   "execution_count": 35,
   "metadata": {
    "colab": {
     "base_uri": "https://localhost:8080/",
     "height": 282
    },
    "executionInfo": {
     "elapsed": 813,
     "status": "ok",
     "timestamp": 1610205489849,
     "user": {
      "displayName": "Richard C",
      "photoUrl": "",
      "userId": "08040814671867660929"
     },
     "user_tz": -180
    },
    "id": "PQrRXkriuaux",
    "outputId": "d88dc909-3548-42a5-c224-1d2c9aed079e"
   },
   "outputs": [
    {
     "data": {
      "image/png": "[encoded data removed]",
      "text/plain": [
       "<Figure size 720x432 with 1 Axes>"
      ]
     },
     "metadata": {},
     "output_type": "display_data"
    }
   ],
   "source": [
    "loss_df.plot();"
   ]
  },
  {
   "cell_type": "code",
   "execution_count": 36,
   "metadata": {},
   "outputs": [
    {
     "data": {
      "text/plain": [
       "[0.41897639632225037, 0.3921568691730499]"
      ]
     },
     "execution_count": 36,
     "metadata": {},
     "output_type": "execute_result"
    }
   ],
   "source": [
    "model.evaluate(X_test, y_test, verbose=0)"
   ]
  },
  {
   "cell_type": "code",
   "execution_count": 37,
   "metadata": {},
   "outputs": [
    {
     "name": "stdout",
     "output_type": "stream",
     "text": [
      "loss :  0.41897639632225037\n",
      "accuracy :  0.3921568691730499\n"
     ]
    }
   ],
   "source": [
    "loss, accuracy = model.evaluate(X_test, y_test, verbose=0)\n",
    "print(\"loss : \", loss)\n",
    "print(\"accuracy : \", accuracy)"
   ]
  },
  {
   "cell_type": "code",
   "execution_count": 38,
   "metadata": {},
   "outputs": [
    {
     "name": "stdout",
     "output_type": "stream",
     "text": [
      "32/32 [==============================] - 0s 2ms/step\n",
      "[[755  41]\n",
      " [124  80]]\n",
      "              precision    recall  f1-score   support\n",
      "\n",
      "           0       0.86      0.95      0.90       796\n",
      "           1       0.66      0.39      0.49       204\n",
      "\n",
      "    accuracy                           0.83      1000\n",
      "   macro avg       0.76      0.67      0.70      1000\n",
      "weighted avg       0.82      0.83      0.82      1000\n",
      "\n"
     ]
    }
   ],
   "source": [
    "y_pred = model.predict(X_test) > 0.5\n",
    "#y_pred = model.predict_classes(X_test) for tf 2.5.0\n",
    "print(confusion_matrix(y_test, y_pred))\n",
    "print(classification_report(y_test, y_pred))"
   ]
  },
  {
   "cell_type": "markdown",
   "metadata": {
    "id": "UogGQGs4vsuD"
   },
   "source": [
    "### EarlyStopping"
   ]
  },
  {
   "cell_type": "code",
   "execution_count": 39,
   "metadata": {
    "executionInfo": {
     "elapsed": 819,
     "status": "ok",
     "timestamp": 1610205884545,
     "user": {
      "displayName": "Richard C",
      "photoUrl": "",
      "userId": "08040814671867660929"
     },
     "user_tz": -180
    },
    "id": "4D17nNk7vrDT"
   },
   "outputs": [],
   "source": [
    "from tensorflow.keras.callbacks import EarlyStopping"
   ]
  },
  {
   "cell_type": "code",
   "execution_count": 74,
   "metadata": {
    "executionInfo": {
     "elapsed": 872,
     "status": "ok",
     "timestamp": 1610205897987,
     "user": {
      "displayName": "Richard C",
      "photoUrl": "",
      "userId": "08040814671867660929"
     },
     "user_tz": -180
    },
    "id": "VcPSEww_u_wp"
   },
   "outputs": [],
   "source": [
    "#tf.random.set_seed(seed)\n",
    "\n",
    "model = Sequential()\n",
    "\n",
    "model.add(Dense(22, activation = \"relu\", input_dim = X_train.shape[1]))\n",
    "model.add(Dense(12, activation = \"relu\"))\n",
    "model.add(Dense(6, activation = \"relu\"))\n",
    "model.add(Dense(1, activation = \"sigmoid\"))\n",
    "\n",
    "model.compile(optimizer = \"adam\", loss = \"binary_crossentropy\", metrics = [\"Recall\"])"
   ]
  },
  {
   "cell_type": "code",
   "execution_count": 75,
   "metadata": {
    "executionInfo": {
     "elapsed": 754,
     "status": "ok",
     "timestamp": 1610206054322,
     "user": {
      "displayName": "Richard C",
      "photoUrl": "",
      "userId": "08040814671867660929"
     },
     "user_tz": -180
    },
    "id": "7gT47GwcwC2Q"
   },
   "outputs": [],
   "source": [
    "early_stop = EarlyStopping(monitor = \"val_loss\", mode = \"min\", verbose = 1, patience = 20, restore_best_weights = True)"
   ]
  },
  {
   "cell_type": "code",
   "execution_count": 76,
   "metadata": {
    "colab": {
     "base_uri": "https://localhost:8080/"
    },
    "executionInfo": {
     "elapsed": 9401,
     "status": "ok",
     "timestamp": 1610206149266,
     "user": {
      "displayName": "Richard C",
      "photoUrl": "",
      "userId": "08040814671867660929"
     },
     "user_tz": -180
    },
    "id": "J6h5PWZqwHq0",
    "outputId": "3aff7f04-b48d-4b43-94ed-c51528ddb538"
   },
   "outputs": [
    {
     "name": "stdout",
     "output_type": "stream",
     "text": [
      "Epoch 1/350\n",
      "162/162 [==============================] - 1s 3ms/step - loss: 0.5045 - recall: 0.0000e+00 - val_loss: 0.4678 - val_recall: 0.0000e+00\n",
      "Epoch 2/350\n",
      "162/162 [==============================] - 0s 3ms/step - loss: 0.4698 - recall: 0.0000e+00 - val_loss: 0.4457 - val_recall: 0.0000e+00\n",
      "Epoch 3/350\n",
      "162/162 [==============================] - 1s 3ms/step - loss: 0.4512 - recall: 0.0599 - val_loss: 0.4177 - val_recall: 0.1381\n",
      "Epoch 4/350\n",
      "162/162 [==============================] - 1s 3ms/step - loss: 0.4334 - recall: 0.1423 - val_loss: 0.3992 - val_recall: 0.1823\n",
      "Epoch 5/350\n",
      "162/162 [==============================] - 0s 3ms/step - loss: 0.4229 - recall: 0.2052 - val_loss: 0.3862 - val_recall: 0.2818\n",
      "Epoch 6/350\n",
      "162/162 [==============================] - 1s 3ms/step - loss: 0.4129 - recall: 0.2312 - val_loss: 0.3720 - val_recall: 0.3867\n",
      "Epoch 7/350\n",
      "162/162 [==============================] - 1s 3ms/step - loss: 0.4026 - recall: 0.2785 - val_loss: 0.3636 - val_recall: 0.2818\n",
      "Epoch 8/350\n",
      "162/162 [==============================] - 1s 3ms/step - loss: 0.3947 - recall: 0.3075 - val_loss: 0.3529 - val_recall: 0.2983\n",
      "Epoch 9/350\n",
      "162/162 [==============================] - 1s 3ms/step - loss: 0.3869 - recall: 0.3354 - val_loss: 0.3390 - val_recall: 0.3978\n",
      "Epoch 10/350\n",
      "162/162 [==============================] - 1s 3ms/step - loss: 0.3813 - recall: 0.3553 - val_loss: 0.3380 - val_recall: 0.5083\n",
      "Epoch 11/350\n",
      "162/162 [==============================] - 1s 3ms/step - loss: 0.3730 - recall: 0.3699 - val_loss: 0.3239 - val_recall: 0.5083\n",
      "Epoch 12/350\n",
      "162/162 [==============================] - 0s 3ms/step - loss: 0.3677 - recall: 0.3892 - val_loss: 0.3178 - val_recall: 0.4530\n",
      "Epoch 13/350\n",
      "162/162 [==============================] - 1s 3ms/step - loss: 0.3617 - recall: 0.4038 - val_loss: 0.3146 - val_recall: 0.4862\n",
      "Epoch 14/350\n",
      "162/162 [==============================] - 0s 2ms/step - loss: 0.3606 - recall: 0.4177 - val_loss: 0.3114 - val_recall: 0.4972\n",
      "Epoch 15/350\n",
      "162/162 [==============================] - 0s 2ms/step - loss: 0.3564 - recall: 0.4056 - val_loss: 0.3211 - val_recall: 0.6022\n",
      "Epoch 16/350\n",
      "162/162 [==============================] - 0s 2ms/step - loss: 0.3543 - recall: 0.4328 - val_loss: 0.3062 - val_recall: 0.5083\n",
      "Epoch 17/350\n",
      "162/162 [==============================] - 0s 2ms/step - loss: 0.3537 - recall: 0.4243 - val_loss: 0.3070 - val_recall: 0.5635\n",
      "Epoch 18/350\n",
      "162/162 [==============================] - 0s 2ms/step - loss: 0.3504 - recall: 0.4219 - val_loss: 0.3063 - val_recall: 0.5912\n",
      "Epoch 19/350\n",
      "162/162 [==============================] - 0s 2ms/step - loss: 0.3496 - recall: 0.4322 - val_loss: 0.3063 - val_recall: 0.5635\n",
      "Epoch 20/350\n",
      "162/162 [==============================] - 0s 2ms/step - loss: 0.3498 - recall: 0.4334 - val_loss: 0.3235 - val_recall: 0.6685\n",
      "Epoch 21/350\n",
      "162/162 [==============================] - 0s 2ms/step - loss: 0.3477 - recall: 0.4455 - val_loss: 0.3071 - val_recall: 0.4696\n",
      "Epoch 22/350\n",
      "162/162 [==============================] - 1s 4ms/step - loss: 0.3481 - recall: 0.4389 - val_loss: 0.3046 - val_recall: 0.5249\n",
      "Epoch 23/350\n",
      "162/162 [==============================] - 0s 2ms/step - loss: 0.3453 - recall: 0.4395 - val_loss: 0.3027 - val_recall: 0.5635\n",
      "Epoch 24/350\n",
      "162/162 [==============================] - 0s 1ms/step - loss: 0.3447 - recall: 0.4358 - val_loss: 0.2994 - val_recall: 0.5359\n",
      "Epoch 25/350\n",
      "162/162 [==============================] - 0s 1ms/step - loss: 0.3438 - recall: 0.4431 - val_loss: 0.2977 - val_recall: 0.4917\n",
      "Epoch 26/350\n",
      "162/162 [==============================] - 0s 2ms/step - loss: 0.3439 - recall: 0.4419 - val_loss: 0.2985 - val_recall: 0.5801\n",
      "Epoch 27/350\n",
      "162/162 [==============================] - 0s 1ms/step - loss: 0.3433 - recall: 0.4510 - val_loss: 0.3001 - val_recall: 0.5525\n",
      "Epoch 28/350\n",
      "162/162 [==============================] - 0s 2ms/step - loss: 0.3437 - recall: 0.4473 - val_loss: 0.2977 - val_recall: 0.5470\n",
      "Epoch 29/350\n",
      "162/162 [==============================] - 0s 2ms/step - loss: 0.3421 - recall: 0.4516 - val_loss: 0.2965 - val_recall: 0.5304\n",
      "Epoch 30/350\n",
      "162/162 [==============================] - 0s 2ms/step - loss: 0.3421 - recall: 0.4600 - val_loss: 0.2953 - val_recall: 0.5138\n",
      "Epoch 31/350\n",
      "162/162 [==============================] - 0s 3ms/step - loss: 0.3427 - recall: 0.4407 - val_loss: 0.2985 - val_recall: 0.5193\n",
      "Epoch 32/350\n",
      "162/162 [==============================] - 0s 2ms/step - loss: 0.3407 - recall: 0.4504 - val_loss: 0.2959 - val_recall: 0.5580\n",
      "Epoch 33/350\n",
      "162/162 [==============================] - 0s 2ms/step - loss: 0.3400 - recall: 0.4419 - val_loss: 0.2965 - val_recall: 0.5635\n",
      "Epoch 34/350\n",
      "162/162 [==============================] - 0s 1ms/step - loss: 0.3407 - recall: 0.4546 - val_loss: 0.2966 - val_recall: 0.5414\n",
      "Epoch 35/350\n",
      "162/162 [==============================] - 0s 2ms/step - loss: 0.3404 - recall: 0.4498 - val_loss: 0.3008 - val_recall: 0.6243\n",
      "Epoch 36/350\n",
      "162/162 [==============================] - 0s 1ms/step - loss: 0.3404 - recall: 0.4649 - val_loss: 0.2943 - val_recall: 0.4862\n",
      "Epoch 37/350\n",
      "162/162 [==============================] - 0s 1ms/step - loss: 0.3385 - recall: 0.4546 - val_loss: 0.2989 - val_recall: 0.4475\n",
      "Epoch 38/350\n",
      "162/162 [==============================] - 0s 2ms/step - loss: 0.3388 - recall: 0.4534 - val_loss: 0.2932 - val_recall: 0.5414\n",
      "Epoch 39/350\n",
      "162/162 [==============================] - 0s 1ms/step - loss: 0.3378 - recall: 0.4546 - val_loss: 0.2943 - val_recall: 0.5801\n",
      "Epoch 40/350\n",
      "162/162 [==============================] - 0s 2ms/step - loss: 0.3372 - recall: 0.4667 - val_loss: 0.2954 - val_recall: 0.5083\n",
      "Epoch 41/350\n",
      "162/162 [==============================] - 0s 1ms/step - loss: 0.3376 - recall: 0.4558 - val_loss: 0.2913 - val_recall: 0.4972\n",
      "Epoch 42/350\n",
      "162/162 [==============================] - 0s 1ms/step - loss: 0.3383 - recall: 0.4667 - val_loss: 0.2945 - val_recall: 0.5028\n",
      "Epoch 43/350\n",
      "162/162 [==============================] - 0s 2ms/step - loss: 0.3367 - recall: 0.4613 - val_loss: 0.3015 - val_recall: 0.6298\n",
      "Epoch 44/350\n",
      "162/162 [==============================] - 0s 2ms/step - loss: 0.3351 - recall: 0.4728 - val_loss: 0.2920 - val_recall: 0.5635\n",
      "Epoch 45/350\n",
      "162/162 [==============================] - 0s 2ms/step - loss: 0.3356 - recall: 0.4715 - val_loss: 0.2911 - val_recall: 0.5746\n",
      "Epoch 46/350\n",
      "162/162 [==============================] - 0s 2ms/step - loss: 0.3346 - recall: 0.4800 - val_loss: 0.2903 - val_recall: 0.5635\n",
      "Epoch 47/350\n",
      "162/162 [==============================] - 0s 2ms/step - loss: 0.3342 - recall: 0.4746 - val_loss: 0.2910 - val_recall: 0.5580\n",
      "Epoch 48/350\n",
      "162/162 [==============================] - 0s 1ms/step - loss: 0.3337 - recall: 0.4649 - val_loss: 0.2927 - val_recall: 0.5525\n",
      "Epoch 49/350\n",
      "162/162 [==============================] - 0s 3ms/step - loss: 0.3350 - recall: 0.4643 - val_loss: 0.2993 - val_recall: 0.6409\n",
      "Epoch 50/350\n",
      "162/162 [==============================] - 1s 3ms/step - loss: 0.3346 - recall: 0.4752 - val_loss: 0.2929 - val_recall: 0.5083\n",
      "Epoch 51/350\n",
      "162/162 [==============================] - 0s 3ms/step - loss: 0.3342 - recall: 0.4746 - val_loss: 0.2964 - val_recall: 0.5801\n",
      "Epoch 52/350\n",
      "162/162 [==============================] - 0s 3ms/step - loss: 0.3347 - recall: 0.4758 - val_loss: 0.2933 - val_recall: 0.5856\n",
      "Epoch 53/350\n",
      "162/162 [==============================] - 0s 3ms/step - loss: 0.3327 - recall: 0.4806 - val_loss: 0.2922 - val_recall: 0.5304\n",
      "Epoch 54/350\n",
      "162/162 [==============================] - 0s 3ms/step - loss: 0.3342 - recall: 0.4861 - val_loss: 0.2966 - val_recall: 0.6243\n",
      "Epoch 55/350\n",
      "162/162 [==============================] - 1s 3ms/step - loss: 0.3325 - recall: 0.4806 - val_loss: 0.2998 - val_recall: 0.6519\n",
      "Epoch 56/350\n",
      "162/162 [==============================] - 0s 3ms/step - loss: 0.3323 - recall: 0.4849 - val_loss: 0.2911 - val_recall: 0.5359\n",
      "Epoch 57/350\n",
      "162/162 [==============================] - 0s 3ms/step - loss: 0.3316 - recall: 0.4782 - val_loss: 0.2960 - val_recall: 0.5746\n",
      "Epoch 58/350\n",
      "162/162 [==============================] - 1s 3ms/step - loss: 0.3323 - recall: 0.4800 - val_loss: 0.2914 - val_recall: 0.5359\n",
      "Epoch 59/350\n"
     ]
    },
    {
     "name": "stdout",
     "output_type": "stream",
     "text": [
      "162/162 [==============================] - 0s 3ms/step - loss: 0.3317 - recall: 0.4818 - val_loss: 0.2956 - val_recall: 0.5470\n",
      "Epoch 60/350\n",
      "162/162 [==============================] - 0s 3ms/step - loss: 0.3304 - recall: 0.4915 - val_loss: 0.2939 - val_recall: 0.5028\n",
      "Epoch 61/350\n",
      "162/162 [==============================] - 0s 3ms/step - loss: 0.3311 - recall: 0.4794 - val_loss: 0.2909 - val_recall: 0.5470\n",
      "Epoch 62/350\n",
      "162/162 [==============================] - 0s 2ms/step - loss: 0.3297 - recall: 0.4782 - val_loss: 0.2958 - val_recall: 0.5635\n",
      "Epoch 63/350\n",
      "162/162 [==============================] - 0s 1ms/step - loss: 0.3301 - recall: 0.4800 - val_loss: 0.2959 - val_recall: 0.6022\n",
      "Epoch 64/350\n",
      "162/162 [==============================] - 0s 2ms/step - loss: 0.3311 - recall: 0.4891 - val_loss: 0.2917 - val_recall: 0.5525\n",
      "Epoch 65/350\n",
      "162/162 [==============================] - 0s 1ms/step - loss: 0.3305 - recall: 0.4903 - val_loss: 0.2913 - val_recall: 0.5359\n",
      "Epoch 66/350\n",
      "139/162 [========================>.....] - ETA: 0s - loss: 0.3287 - recall: 0.4802Restoring model weights from the end of the best epoch: 46.\n",
      "162/162 [==============================] - 0s 1ms/step - loss: 0.3298 - recall: 0.4861 - val_loss: 0.2994 - val_recall: 0.6354\n",
      "Epoch 66: early stopping\n"
     ]
    },
    {
     "data": {
      "text/plain": [
       "<keras.callbacks.History at 0x22c2afe0d60>"
      ]
     },
     "execution_count": 76,
     "metadata": {},
     "output_type": "execute_result"
    }
   ],
   "source": [
    "model.fit(x = X_train, y = y_train, validation_split = 0.1, batch_size = 50, epochs = 350, verbose = 1,\n",
    "          callbacks = [early_stop])"
   ]
  },
  {
   "cell_type": "code",
   "execution_count": 77,
   "metadata": {
    "colab": {
     "base_uri": "https://localhost:8080/",
     "height": 282
    },
    "executionInfo": {
     "elapsed": 1014,
     "status": "ok",
     "timestamp": 1610206228126,
     "user": {
      "displayName": "Richard C",
      "photoUrl": "",
      "userId": "08040814671867660929"
     },
     "user_tz": -180
    },
    "id": "_y5lzpn-xKkj",
    "outputId": "3609ecfe-1c67-42d2-b308-850b014969bc"
   },
   "outputs": [
    {
     "data": {
      "image/png": "[encoded data removed]",
      "text/plain": [
       "<Figure size 720x432 with 1 Axes>"
      ]
     },
     "metadata": {},
     "output_type": "display_data"
    }
   ],
   "source": [
    "loss_df = pd.DataFrame(model.history.history)\n",
    "loss_df.plot();"
   ]
  },
  {
   "cell_type": "code",
   "execution_count": 72,
   "metadata": {},
   "outputs": [
    {
     "name": "stdout",
     "output_type": "stream",
     "text": [
      "loss :  0.4796982407569885\n",
      "Recall :  0.0\n"
     ]
    }
   ],
   "source": [
    "loss, accuracy = model.evaluate(X_test, y_test, verbose=0)\n",
    "print(\"loss : \", loss)\n",
    "print(\"Recall : \", accuracy)"
   ]
  },
  {
   "cell_type": "code",
   "execution_count": 46,
   "metadata": {},
   "outputs": [
    {
     "name": "stdout",
     "output_type": "stream",
     "text": [
      "32/32 [==============================] - 0s 997us/step\n",
      "[[765  31]\n",
      " [116  88]]\n",
      "              precision    recall  f1-score   support\n",
      "\n",
      "           0       0.87      0.96      0.91       796\n",
      "           1       0.74      0.43      0.54       204\n",
      "\n",
      "    accuracy                           0.85      1000\n",
      "   macro avg       0.80      0.70      0.73      1000\n",
      "weighted avg       0.84      0.85      0.84      1000\n",
      "\n"
     ]
    }
   ],
   "source": [
    "y_pred = model.predict(X_test) > 0.5\n",
    "print(confusion_matrix(y_test, y_pred))\n",
    "print(classification_report(y_test, y_pred))"
   ]
  },
  {
   "cell_type": "markdown",
   "metadata": {},
   "source": [
    "## Precision-Recall Curve And AP"
   ]
  },
  {
   "cell_type": "code",
   "execution_count": 53,
   "metadata": {},
   "outputs": [
    {
     "name": "stdout",
     "output_type": "stream",
     "text": [
      "32/32 [==============================] - 0s 2ms/step\n"
     ]
    },
    {
     "data": {
      "image/png": "[encoded data removed]",
      "text/plain": [
       "<Figure size 720x432 with 1 Axes>"
      ]
     },
     "metadata": {},
     "output_type": "display_data"
    }
   ],
   "source": [
    "y_pred_proba = model.predict(X_test)\n",
    "precisions, recalls, thresholds = precision_recall_curve(y_test, y_pred_proba)\n",
    "plt.plot(recalls, precisions, label=\"ANN\")\n",
    "plt.xlabel(\"recalls\")\n",
    "plt.ylabel(\"precisions\")\n",
    "plt.title(\"Pre-Recall Curve\")\n",
    "plt.show()"
   ]
  },
  {
   "cell_type": "code",
   "execution_count": 54,
   "metadata": {},
   "outputs": [
    {
     "data": {
      "text/plain": [
       "0.6927931146816444"
      ]
     },
     "execution_count": 54,
     "metadata": {},
     "output_type": "execute_result"
    }
   ],
   "source": [
    "average_precision_score(y_test,y_pred_proba)"
   ]
  },
  {
   "cell_type": "code",
   "execution_count": null,
   "metadata": {},
   "outputs": [],
   "source": []
  },
  {
   "cell_type": "markdown",
   "metadata": {},
   "source": [
    "### learning_rate"
   ]
  },
  {
   "cell_type": "code",
   "execution_count": 55,
   "metadata": {},
   "outputs": [],
   "source": [
    "from tensorflow.keras.optimizers import Adam"
   ]
  },
  {
   "cell_type": "code",
   "execution_count": 57,
   "metadata": {},
   "outputs": [],
   "source": [
    "#tf.random.set_seed(seed)\n",
    "\n",
    "model = Sequential()\n",
    "\n",
    "model.add(Dense(22, activation = \"relu\", input_dim = X_train.shape[1]))\n",
    "model.add(Dense(12, activation = \"relu\"))\n",
    "model.add(Dense(6, activation = \"relu\"))\n",
    "model.add(Dense(1, activation = \"sigmoid\"))\n",
    "\n",
    "opt = Adam(lr = 0.005)\n",
    "model.compile(optimizer = opt, loss = \"binary_crossentropy\", metrics = [\"Recall\"])"
   ]
  },
  {
   "cell_type": "code",
   "execution_count": 58,
   "metadata": {},
   "outputs": [],
   "source": [
    "early_stop = EarlyStopping(monitor = \"val_loss\", mode = \"min\", verbose = 1, patience = 20, restore_best_weights = True)"
   ]
  },
  {
   "cell_type": "code",
   "execution_count": 59,
   "metadata": {},
   "outputs": [
    {
     "name": "stdout",
     "output_type": "stream",
     "text": [
      "Epoch 1/350\n",
      "162/162 [==============================] - 1s 3ms/step - loss: 0.4695 - recall: 6.0533e-04 - val_loss: 0.4244 - val_recall: 0.0000e+00\n",
      "Epoch 2/350\n",
      "162/162 [==============================] - 0s 1ms/step - loss: 0.4351 - recall: 0.1253 - val_loss: 0.4035 - val_recall: 0.2099\n",
      "Epoch 3/350\n",
      "162/162 [==============================] - 0s 1ms/step - loss: 0.3983 - recall: 0.3027 - val_loss: 0.3335 - val_recall: 0.4420\n",
      "Epoch 4/350\n",
      "162/162 [==============================] - 0s 2ms/step - loss: 0.3678 - recall: 0.3965 - val_loss: 0.3082 - val_recall: 0.5138\n",
      "Epoch 5/350\n",
      "162/162 [==============================] - 0s 2ms/step - loss: 0.3580 - recall: 0.4262 - val_loss: 0.3204 - val_recall: 0.5580\n",
      "Epoch 6/350\n",
      "162/162 [==============================] - 0s 2ms/step - loss: 0.3557 - recall: 0.4346 - val_loss: 0.3143 - val_recall: 0.5746\n",
      "Epoch 7/350\n",
      "162/162 [==============================] - 0s 2ms/step - loss: 0.3550 - recall: 0.4370 - val_loss: 0.3037 - val_recall: 0.4862\n",
      "Epoch 8/350\n",
      "162/162 [==============================] - 0s 2ms/step - loss: 0.3510 - recall: 0.4498 - val_loss: 0.2995 - val_recall: 0.5967\n",
      "Epoch 9/350\n",
      "162/162 [==============================] - 0s 2ms/step - loss: 0.3476 - recall: 0.4582 - val_loss: 0.3023 - val_recall: 0.5470\n",
      "Epoch 10/350\n",
      "162/162 [==============================] - 0s 2ms/step - loss: 0.3491 - recall: 0.4534 - val_loss: 0.3016 - val_recall: 0.5967\n",
      "Epoch 11/350\n",
      "162/162 [==============================] - 0s 2ms/step - loss: 0.3464 - recall: 0.4467 - val_loss: 0.2966 - val_recall: 0.5414\n",
      "Epoch 12/350\n",
      "162/162 [==============================] - 1s 3ms/step - loss: 0.3456 - recall: 0.4516 - val_loss: 0.3005 - val_recall: 0.5525\n",
      "Epoch 13/350\n",
      "162/162 [==============================] - 0s 3ms/step - loss: 0.3405 - recall: 0.4534 - val_loss: 0.2890 - val_recall: 0.5138\n",
      "Epoch 14/350\n",
      "162/162 [==============================] - 0s 3ms/step - loss: 0.3417 - recall: 0.4516 - val_loss: 0.2993 - val_recall: 0.5856\n",
      "Epoch 15/350\n",
      "162/162 [==============================] - 0s 3ms/step - loss: 0.3401 - recall: 0.4613 - val_loss: 0.3074 - val_recall: 0.4917\n",
      "Epoch 16/350\n",
      "162/162 [==============================] - 0s 3ms/step - loss: 0.3418 - recall: 0.4540 - val_loss: 0.2936 - val_recall: 0.5856\n",
      "Epoch 17/350\n",
      "162/162 [==============================] - 0s 3ms/step - loss: 0.3402 - recall: 0.4625 - val_loss: 0.2926 - val_recall: 0.5359\n",
      "Epoch 18/350\n",
      "162/162 [==============================] - 1s 3ms/step - loss: 0.3392 - recall: 0.4582 - val_loss: 0.2990 - val_recall: 0.5525\n",
      "Epoch 19/350\n",
      "162/162 [==============================] - 0s 3ms/step - loss: 0.3396 - recall: 0.4522 - val_loss: 0.2942 - val_recall: 0.6133\n",
      "Epoch 20/350\n",
      "162/162 [==============================] - 0s 3ms/step - loss: 0.3364 - recall: 0.4661 - val_loss: 0.2859 - val_recall: 0.5470\n",
      "Epoch 21/350\n",
      "162/162 [==============================] - 0s 3ms/step - loss: 0.3353 - recall: 0.4588 - val_loss: 0.2939 - val_recall: 0.5801\n",
      "Epoch 22/350\n",
      "162/162 [==============================] - 0s 3ms/step - loss: 0.3377 - recall: 0.4631 - val_loss: 0.3038 - val_recall: 0.6575\n",
      "Epoch 23/350\n",
      "162/162 [==============================] - 0s 3ms/step - loss: 0.3383 - recall: 0.4431 - val_loss: 0.2870 - val_recall: 0.5138\n",
      "Epoch 24/350\n",
      "162/162 [==============================] - 0s 2ms/step - loss: 0.3355 - recall: 0.4661 - val_loss: 0.2914 - val_recall: 0.5359\n",
      "Epoch 25/350\n",
      "162/162 [==============================] - 0s 1ms/step - loss: 0.3355 - recall: 0.4546 - val_loss: 0.2958 - val_recall: 0.6133\n",
      "Epoch 26/350\n",
      "162/162 [==============================] - 0s 1ms/step - loss: 0.3353 - recall: 0.4558 - val_loss: 0.2886 - val_recall: 0.5746\n",
      "Epoch 27/350\n",
      "162/162 [==============================] - 0s 2ms/step - loss: 0.3348 - recall: 0.4546 - val_loss: 0.3038 - val_recall: 0.5304\n",
      "Epoch 28/350\n",
      "162/162 [==============================] - 0s 1ms/step - loss: 0.3334 - recall: 0.4582 - val_loss: 0.3039 - val_recall: 0.5635\n",
      "Epoch 29/350\n",
      "162/162 [==============================] - 0s 1ms/step - loss: 0.3349 - recall: 0.4631 - val_loss: 0.2901 - val_recall: 0.5249\n",
      "Epoch 30/350\n",
      "162/162 [==============================] - 0s 2ms/step - loss: 0.3339 - recall: 0.4649 - val_loss: 0.3066 - val_recall: 0.4144\n",
      "Epoch 31/350\n",
      "162/162 [==============================] - 0s 1ms/step - loss: 0.3355 - recall: 0.4510 - val_loss: 0.2983 - val_recall: 0.5193\n",
      "Epoch 32/350\n",
      "162/162 [==============================] - 0s 1ms/step - loss: 0.3316 - recall: 0.4558 - val_loss: 0.2977 - val_recall: 0.5691\n",
      "Epoch 33/350\n",
      "162/162 [==============================] - 0s 2ms/step - loss: 0.3313 - recall: 0.4576 - val_loss: 0.2963 - val_recall: 0.5414\n",
      "Epoch 34/350\n",
      "162/162 [==============================] - 0s 1ms/step - loss: 0.3327 - recall: 0.4607 - val_loss: 0.2896 - val_recall: 0.5359\n",
      "Epoch 35/350\n",
      "162/162 [==============================] - 0s 1ms/step - loss: 0.3323 - recall: 0.4600 - val_loss: 0.2901 - val_recall: 0.5193\n",
      "Epoch 36/350\n",
      "162/162 [==============================] - 0s 1ms/step - loss: 0.3329 - recall: 0.4594 - val_loss: 0.3062 - val_recall: 0.6243\n",
      "Epoch 37/350\n",
      "162/162 [==============================] - 0s 1ms/step - loss: 0.3305 - recall: 0.4637 - val_loss: 0.2956 - val_recall: 0.5967\n",
      "Epoch 38/350\n",
      "162/162 [==============================] - 0s 1ms/step - loss: 0.3305 - recall: 0.4613 - val_loss: 0.2958 - val_recall: 0.5967\n",
      "Epoch 39/350\n",
      "162/162 [==============================] - 0s 1ms/step - loss: 0.3295 - recall: 0.4673 - val_loss: 0.2881 - val_recall: 0.5414\n",
      "Epoch 40/350\n",
      "130/162 [=======================>......] - ETA: 0s - loss: 0.3286 - recall: 0.4646Restoring model weights from the end of the best epoch: 20.\n",
      "162/162 [==============================] - 0s 1ms/step - loss: 0.3292 - recall: 0.4631 - val_loss: 0.2971 - val_recall: 0.5193\n",
      "Epoch 40: early stopping\n"
     ]
    },
    {
     "data": {
      "text/plain": [
       "<keras.callbacks.History at 0x22c1e5f09d0>"
      ]
     },
     "execution_count": 59,
     "metadata": {},
     "output_type": "execute_result"
    }
   ],
   "source": [
    "model.fit(x = X_train, y = y_train, validation_split = 0.1, batch_size = 50, epochs = 350, verbose = 1,\n",
    "          callbacks = [early_stop])"
   ]
  },
  {
   "cell_type": "code",
   "execution_count": 60,
   "metadata": {},
   "outputs": [
    {
     "data": {
      "text/plain": [
       "<AxesSubplot:>"
      ]
     },
     "execution_count": 60,
     "metadata": {},
     "output_type": "execute_result"
    },
    {
     "data": {
      "image/png": "[encoded data removed]",
      "text/plain": [
       "<Figure size 720x432 with 1 Axes>"
      ]
     },
     "metadata": {},
     "output_type": "display_data"
    }
   ],
   "source": [
    "loss_df = pd.DataFrame(model.history.history)\n",
    "loss_df.plot()"
   ]
  },
  {
   "cell_type": "code",
   "execution_count": 61,
   "metadata": {},
   "outputs": [
    {
     "name": "stdout",
     "output_type": "stream",
     "text": [
      "loss :  0.3452850878238678\n",
      "accuracy :  0.45098039507865906\n"
     ]
    }
   ],
   "source": [
    "loss, accuracy = model.evaluate(X_test, y_test, verbose=0)\n",
    "print(\"loss : \", loss)\n",
    "print(\"accuracy : \", accuracy)"
   ]
  },
  {
   "cell_type": "code",
   "execution_count": null,
   "metadata": {},
   "outputs": [],
   "source": []
  },
  {
   "cell_type": "code",
   "execution_count": 80,
   "metadata": {},
   "outputs": [
    {
     "name": "stdout",
     "output_type": "stream",
     "text": [
      "32/32 [==============================] - 0s 1ms/step\n",
      "[[765  31]\n",
      " [110  94]]\n",
      "              precision    recall  f1-score   support\n",
      "\n",
      "           0       0.87      0.96      0.92       796\n",
      "           1       0.75      0.46      0.57       204\n",
      "\n",
      "    accuracy                           0.86      1000\n",
      "   macro avg       0.81      0.71      0.74      1000\n",
      "weighted avg       0.85      0.86      0.85      1000\n",
      "\n"
     ]
    }
   ],
   "source": [
    "y_pred = model.predict(X_test) > 0.5\n",
    "#y_pred = model.predict_classes(X_test) for tf 2.5.0\n",
    "print(confusion_matrix(y_test, y_pred))\n",
    "print(classification_report(y_test, y_pred))"
   ]
  },
  {
   "cell_type": "markdown",
   "metadata": {
    "id": "ZSiIoSQ2yxiB"
   },
   "source": [
    "### Dropout"
   ]
  },
  {
   "cell_type": "markdown",
   "metadata": {},
   "source": [
    "The Dropout layer randomly sets input units to 0 with a frequency of `rate`\n",
    "at each step during training time, which helps prevent overfitting."
   ]
  },
  {
   "cell_type": "code",
   "execution_count": 81,
   "metadata": {
    "executionInfo": {
     "elapsed": 763,
     "status": "ok",
     "timestamp": 1610206748175,
     "user": {
      "displayName": "Richard C",
      "photoUrl": "",
      "userId": "08040814671867660929"
     },
     "user_tz": -180
    },
    "id": "JRIThyJUyweN"
   },
   "outputs": [],
   "source": [
    "from tensorflow.keras.layers import Dropout"
   ]
  },
  {
   "cell_type": "code",
   "execution_count": 82,
   "metadata": {
    "executionInfo": {
     "elapsed": 799,
     "status": "ok",
     "timestamp": 1610207016041,
     "user": {
      "displayName": "Richard C",
      "photoUrl": "",
      "userId": "08040814671867660929"
     },
     "user_tz": -180
    },
    "id": "CJokLHStyr1h"
   },
   "outputs": [],
   "source": [
    "#tf.random.set_seed(seed)\n",
    "\n",
    "model = Sequential()\n",
    "\n",
    "model.add(Dense(22, activation=\"relu\", input_dim = X_train.shape[1]))\n",
    "model.add(Dropout(0.5))\n",
    "\n",
    "model.add(Dense(12, activation=\"relu\"))\n",
    "model.add(Dropout(0.5))\n",
    "\n",
    "model.add(Dense(6, activation=\"relu\"))\n",
    "model.add(Dropout(0.5))\n",
    "\n",
    "model.add(Dense(1, activation=\"sigmoid\"))\n",
    "\n",
    "opt = Adam(lr = 0.001)\n",
    "model.compile(optimizer = opt, loss = \"binary_crossentropy\", metrics = [\"Recall\"])"
   ]
  },
  {
   "cell_type": "code",
   "execution_count": 83,
   "metadata": {
    "colab": {
     "base_uri": "https://localhost:8080/"
    },
    "executionInfo": {
     "elapsed": 14714,
     "status": "ok",
     "timestamp": 1610207117278,
     "user": {
      "displayName": "Richard C",
      "photoUrl": "",
      "userId": "08040814671867660929"
     },
     "user_tz": -180
    },
    "id": "TeQ4lysU0XxP",
    "outputId": "c26f2bb6-5946-4ef4-a450-4718ab451bc0"
   },
   "outputs": [
    {
     "name": "stdout",
     "output_type": "stream",
     "text": [
      "Epoch 1/350\n",
      "405/405 [==============================] - 2s 3ms/step - loss: 0.5898 - recall: 0.0569 - val_loss: 0.5057 - val_recall: 0.0000e+00\n",
      "Epoch 2/350\n",
      "405/405 [==============================] - 1s 2ms/step - loss: 0.5280 - recall: 0.0000e+00 - val_loss: 0.4914 - val_recall: 0.0000e+00\n",
      "Epoch 3/350\n",
      "405/405 [==============================] - 0s 1ms/step - loss: 0.5163 - recall: 0.0000e+00 - val_loss: 0.4816 - val_recall: 0.0000e+00\n",
      "Epoch 4/350\n",
      "405/405 [==============================] - 0s 1ms/step - loss: 0.5070 - recall: 0.0000e+00 - val_loss: 0.4754 - val_recall: 0.0000e+00\n",
      "Epoch 5/350\n",
      "405/405 [==============================] - 0s 1ms/step - loss: 0.4987 - recall: 0.0000e+00 - val_loss: 0.4636 - val_recall: 0.0000e+00\n",
      "Epoch 6/350\n",
      "405/405 [==============================] - 1s 1ms/step - loss: 0.4872 - recall: 0.0018 - val_loss: 0.4522 - val_recall: 0.0000e+00\n",
      "Epoch 7/350\n",
      "405/405 [==============================] - 1s 1ms/step - loss: 0.4821 - recall: 0.0151 - val_loss: 0.4492 - val_recall: 0.0000e+00\n",
      "Epoch 8/350\n",
      "405/405 [==============================] - 1s 2ms/step - loss: 0.4780 - recall: 0.0139 - val_loss: 0.4404 - val_recall: 0.0000e+00\n",
      "Epoch 9/350\n",
      "405/405 [==============================] - 1s 1ms/step - loss: 0.4769 - recall: 0.0212 - val_loss: 0.4380 - val_recall: 0.0000e+00\n",
      "Epoch 10/350\n",
      "405/405 [==============================] - 1s 1ms/step - loss: 0.4752 - recall: 0.0212 - val_loss: 0.4345 - val_recall: 0.0000e+00\n",
      "Epoch 11/350\n",
      "405/405 [==============================] - 0s 1ms/step - loss: 0.4663 - recall: 0.0478 - val_loss: 0.4247 - val_recall: 0.0000e+00\n",
      "Epoch 12/350\n",
      "405/405 [==============================] - 0s 1ms/step - loss: 0.4693 - recall: 0.0363 - val_loss: 0.4249 - val_recall: 0.0000e+00\n",
      "Epoch 13/350\n",
      "405/405 [==============================] - 1s 1ms/step - loss: 0.4656 - recall: 0.0466 - val_loss: 0.4168 - val_recall: 0.0000e+00\n",
      "Epoch 14/350\n",
      "405/405 [==============================] - 1s 2ms/step - loss: 0.4603 - recall: 0.0757 - val_loss: 0.4177 - val_recall: 0.0000e+00\n",
      "Epoch 15/350\n",
      "405/405 [==============================] - 0s 1ms/step - loss: 0.4601 - recall: 0.0623 - val_loss: 0.4125 - val_recall: 0.0000e+00\n",
      "Epoch 16/350\n",
      "405/405 [==============================] - 0s 1ms/step - loss: 0.4573 - recall: 0.0684 - val_loss: 0.4110 - val_recall: 0.0000e+00\n",
      "Epoch 17/350\n",
      "405/405 [==============================] - 0s 1ms/step - loss: 0.4587 - recall: 0.0793 - val_loss: 0.4071 - val_recall: 0.0000e+00\n",
      "Epoch 18/350\n",
      "405/405 [==============================] - 1s 2ms/step - loss: 0.4489 - recall: 0.0944 - val_loss: 0.3954 - val_recall: 0.0166\n",
      "Epoch 19/350\n",
      "405/405 [==============================] - 1s 2ms/step - loss: 0.4535 - recall: 0.1059 - val_loss: 0.3924 - val_recall: 0.0166\n",
      "Epoch 20/350\n",
      "405/405 [==============================] - 1s 1ms/step - loss: 0.4461 - recall: 0.1126 - val_loss: 0.3962 - val_recall: 0.0387\n",
      "Epoch 21/350\n",
      "405/405 [==============================] - 0s 1ms/step - loss: 0.4480 - recall: 0.1150 - val_loss: 0.3910 - val_recall: 0.0331\n",
      "Epoch 22/350\n",
      "405/405 [==============================] - 1s 3ms/step - loss: 0.4414 - recall: 0.1295 - val_loss: 0.3788 - val_recall: 0.0442\n",
      "Epoch 23/350\n",
      "405/405 [==============================] - 1s 3ms/step - loss: 0.4486 - recall: 0.1126 - val_loss: 0.3839 - val_recall: 0.0387\n",
      "Epoch 24/350\n",
      "405/405 [==============================] - 1s 3ms/step - loss: 0.4403 - recall: 0.1356 - val_loss: 0.3768 - val_recall: 0.1215\n",
      "Epoch 25/350\n",
      "405/405 [==============================] - 1s 3ms/step - loss: 0.4374 - recall: 0.1519 - val_loss: 0.3692 - val_recall: 0.0939\n",
      "Epoch 26/350\n",
      "405/405 [==============================] - 1s 2ms/step - loss: 0.4334 - recall: 0.1719 - val_loss: 0.3705 - val_recall: 0.1050\n",
      "Epoch 27/350\n",
      "405/405 [==============================] - 1s 2ms/step - loss: 0.4335 - recall: 0.1701 - val_loss: 0.3779 - val_recall: 0.2099\n",
      "Epoch 28/350\n",
      "405/405 [==============================] - 1s 1ms/step - loss: 0.4308 - recall: 0.1737 - val_loss: 0.3702 - val_recall: 0.2210\n",
      "Epoch 29/350\n",
      "405/405 [==============================] - 1s 1ms/step - loss: 0.4346 - recall: 0.1592 - val_loss: 0.3632 - val_recall: 0.2762\n",
      "Epoch 30/350\n",
      "405/405 [==============================] - 1s 2ms/step - loss: 0.4313 - recall: 0.1659 - val_loss: 0.3602 - val_recall: 0.2099\n",
      "Epoch 31/350\n",
      "405/405 [==============================] - 1s 2ms/step - loss: 0.4336 - recall: 0.1483 - val_loss: 0.3632 - val_recall: 0.2099\n",
      "Epoch 32/350\n",
      "405/405 [==============================] - 1s 1ms/step - loss: 0.4369 - recall: 0.1550 - val_loss: 0.3661 - val_recall: 0.1878\n",
      "Epoch 33/350\n",
      "405/405 [==============================] - 1s 2ms/step - loss: 0.4329 - recall: 0.1762 - val_loss: 0.3631 - val_recall: 0.2320\n",
      "Epoch 34/350\n",
      "405/405 [==============================] - 1s 2ms/step - loss: 0.4297 - recall: 0.1774 - val_loss: 0.3582 - val_recall: 0.1657\n",
      "Epoch 35/350\n",
      "405/405 [==============================] - 1s 2ms/step - loss: 0.4323 - recall: 0.1550 - val_loss: 0.3537 - val_recall: 0.2320\n",
      "Epoch 36/350\n",
      "405/405 [==============================] - 1s 1ms/step - loss: 0.4228 - recall: 0.1834 - val_loss: 0.3536 - val_recall: 0.2762\n",
      "Epoch 37/350\n",
      "405/405 [==============================] - 1s 1ms/step - loss: 0.4278 - recall: 0.1713 - val_loss: 0.3542 - val_recall: 0.2818\n",
      "Epoch 38/350\n",
      "405/405 [==============================] - 1s 2ms/step - loss: 0.4360 - recall: 0.1429 - val_loss: 0.3564 - val_recall: 0.2486\n",
      "Epoch 39/350\n",
      "405/405 [==============================] - 1s 2ms/step - loss: 0.4262 - recall: 0.1719 - val_loss: 0.3459 - val_recall: 0.2983\n",
      "Epoch 40/350\n",
      "405/405 [==============================] - 2s 6ms/step - loss: 0.4244 - recall: 0.1955 - val_loss: 0.3463 - val_recall: 0.3039\n",
      "Epoch 41/350\n",
      "405/405 [==============================] - 2s 5ms/step - loss: 0.4246 - recall: 0.1852 - val_loss: 0.3482 - val_recall: 0.3149\n",
      "Epoch 42/350\n",
      "405/405 [==============================] - 1s 4ms/step - loss: 0.4244 - recall: 0.1907 - val_loss: 0.3491 - val_recall: 0.2983\n",
      "Epoch 43/350\n",
      "405/405 [==============================] - 1s 3ms/step - loss: 0.4277 - recall: 0.1634 - val_loss: 0.3446 - val_recall: 0.3149\n",
      "Epoch 44/350\n",
      "405/405 [==============================] - 1s 1ms/step - loss: 0.4263 - recall: 0.1846 - val_loss: 0.3532 - val_recall: 0.2431\n",
      "Epoch 45/350\n",
      "405/405 [==============================] - 1s 1ms/step - loss: 0.4212 - recall: 0.1967 - val_loss: 0.3486 - val_recall: 0.3536\n",
      "Epoch 46/350\n",
      "405/405 [==============================] - 1s 1ms/step - loss: 0.4179 - recall: 0.2131 - val_loss: 0.3447 - val_recall: 0.3204\n",
      "Epoch 47/350\n",
      "405/405 [==============================] - 1s 1ms/step - loss: 0.4205 - recall: 0.1883 - val_loss: 0.3420 - val_recall: 0.3039\n",
      "Epoch 48/350\n",
      "405/405 [==============================] - 1s 2ms/step - loss: 0.4216 - recall: 0.1919 - val_loss: 0.3441 - val_recall: 0.3094\n",
      "Epoch 49/350\n",
      "405/405 [==============================] - 1s 2ms/step - loss: 0.4168 - recall: 0.2052 - val_loss: 0.3303 - val_recall: 0.3757\n",
      "Epoch 50/350\n",
      "405/405 [==============================] - 1s 2ms/step - loss: 0.4179 - recall: 0.2149 - val_loss: 0.3375 - val_recall: 0.3370\n",
      "Epoch 51/350\n",
      "405/405 [==============================] - 1s 2ms/step - loss: 0.4172 - recall: 0.2143 - val_loss: 0.3354 - val_recall: 0.3481\n",
      "Epoch 52/350\n",
      "405/405 [==============================] - 1s 2ms/step - loss: 0.4172 - recall: 0.2215 - val_loss: 0.3366 - val_recall: 0.3591\n",
      "Epoch 53/350\n",
      "405/405 [==============================] - 1s 2ms/step - loss: 0.4144 - recall: 0.2143 - val_loss: 0.3303 - val_recall: 0.3867\n",
      "Epoch 54/350\n",
      "405/405 [==============================] - 1s 2ms/step - loss: 0.4177 - recall: 0.1992 - val_loss: 0.3372 - val_recall: 0.3260\n",
      "Epoch 55/350\n",
      "405/405 [==============================] - 1s 2ms/step - loss: 0.4222 - recall: 0.1992 - val_loss: 0.3387 - val_recall: 0.3702\n",
      "Epoch 56/350\n",
      "405/405 [==============================] - 1s 2ms/step - loss: 0.4222 - recall: 0.1931 - val_loss: 0.3351 - val_recall: 0.3481\n",
      "Epoch 57/350\n",
      "405/405 [==============================] - 1s 2ms/step - loss: 0.4174 - recall: 0.1992 - val_loss: 0.3326 - val_recall: 0.3757\n",
      "Epoch 58/350\n",
      "405/405 [==============================] - 1s 3ms/step - loss: 0.4119 - recall: 0.2294 - val_loss: 0.3322 - val_recall: 0.3702\n"
     ]
    },
    {
     "name": "stdout",
     "output_type": "stream",
     "text": [
      "Epoch 59/350\n",
      "405/405 [==============================] - 1s 3ms/step - loss: 0.4160 - recall: 0.2119 - val_loss: 0.3348 - val_recall: 0.3978\n",
      "Epoch 60/350\n",
      "405/405 [==============================] - 1s 3ms/step - loss: 0.4177 - recall: 0.2022 - val_loss: 0.3342 - val_recall: 0.4254\n",
      "Epoch 61/350\n",
      "405/405 [==============================] - 1s 3ms/step - loss: 0.4151 - recall: 0.2203 - val_loss: 0.3356 - val_recall: 0.3094\n",
      "Epoch 62/350\n",
      "405/405 [==============================] - 1s 2ms/step - loss: 0.4169 - recall: 0.1955 - val_loss: 0.3352 - val_recall: 0.3481\n",
      "Epoch 63/350\n",
      "405/405 [==============================] - 1s 1ms/step - loss: 0.4169 - recall: 0.2119 - val_loss: 0.3334 - val_recall: 0.3591\n",
      "Epoch 64/350\n",
      "405/405 [==============================] - 1s 1ms/step - loss: 0.4141 - recall: 0.2064 - val_loss: 0.3315 - val_recall: 0.4033\n",
      "Epoch 65/350\n",
      "405/405 [==============================] - 1s 1ms/step - loss: 0.4158 - recall: 0.1992 - val_loss: 0.3302 - val_recall: 0.3536\n",
      "Epoch 66/350\n",
      "405/405 [==============================] - 1s 1ms/step - loss: 0.4187 - recall: 0.2022 - val_loss: 0.3406 - val_recall: 0.3260\n",
      "Epoch 67/350\n",
      "405/405 [==============================] - 1s 1ms/step - loss: 0.4190 - recall: 0.1822 - val_loss: 0.3373 - val_recall: 0.3536\n",
      "Epoch 68/350\n",
      "405/405 [==============================] - 1s 1ms/step - loss: 0.4149 - recall: 0.2070 - val_loss: 0.3353 - val_recall: 0.3702\n",
      "Epoch 69/350\n",
      "405/405 [==============================] - 1s 2ms/step - loss: 0.4115 - recall: 0.2052 - val_loss: 0.3362 - val_recall: 0.3425\n",
      "Epoch 70/350\n",
      "405/405 [==============================] - 1s 2ms/step - loss: 0.4085 - recall: 0.2191 - val_loss: 0.3280 - val_recall: 0.3646\n",
      "Epoch 71/350\n",
      "405/405 [==============================] - 1s 2ms/step - loss: 0.4126 - recall: 0.2167 - val_loss: 0.3324 - val_recall: 0.3757\n",
      "Epoch 72/350\n",
      "405/405 [==============================] - 1s 1ms/step - loss: 0.4121 - recall: 0.2185 - val_loss: 0.3302 - val_recall: 0.3867\n",
      "Epoch 73/350\n",
      "405/405 [==============================] - 1s 2ms/step - loss: 0.4131 - recall: 0.2052 - val_loss: 0.3357 - val_recall: 0.3978\n",
      "Epoch 74/350\n",
      "405/405 [==============================] - 1s 2ms/step - loss: 0.4148 - recall: 0.2131 - val_loss: 0.3247 - val_recall: 0.3646\n",
      "Epoch 75/350\n",
      "405/405 [==============================] - 1s 2ms/step - loss: 0.4173 - recall: 0.1919 - val_loss: 0.3335 - val_recall: 0.3646\n",
      "Epoch 76/350\n",
      "405/405 [==============================] - 1s 3ms/step - loss: 0.4071 - recall: 0.2258 - val_loss: 0.3228 - val_recall: 0.4309\n",
      "Epoch 77/350\n",
      "405/405 [==============================] - 1s 2ms/step - loss: 0.4134 - recall: 0.2270 - val_loss: 0.3294 - val_recall: 0.3481\n",
      "Epoch 78/350\n",
      "405/405 [==============================] - 1s 2ms/step - loss: 0.4145 - recall: 0.2082 - val_loss: 0.3205 - val_recall: 0.3867\n",
      "Epoch 79/350\n",
      "405/405 [==============================] - 1s 3ms/step - loss: 0.4091 - recall: 0.2258 - val_loss: 0.3284 - val_recall: 0.3812\n",
      "Epoch 80/350\n",
      "405/405 [==============================] - 1s 3ms/step - loss: 0.4122 - recall: 0.2294 - val_loss: 0.3286 - val_recall: 0.3978\n",
      "Epoch 81/350\n",
      "405/405 [==============================] - 1s 3ms/step - loss: 0.4110 - recall: 0.2179 - val_loss: 0.3236 - val_recall: 0.3757\n",
      "Epoch 82/350\n",
      "405/405 [==============================] - 1s 3ms/step - loss: 0.4073 - recall: 0.2324 - val_loss: 0.3234 - val_recall: 0.3702\n",
      "Epoch 83/350\n",
      "405/405 [==============================] - 1s 2ms/step - loss: 0.4102 - recall: 0.2234 - val_loss: 0.3261 - val_recall: 0.3591\n",
      "Epoch 84/350\n",
      "405/405 [==============================] - 1s 1ms/step - loss: 0.4136 - recall: 0.2052 - val_loss: 0.3245 - val_recall: 0.3867\n",
      "Epoch 85/350\n",
      "405/405 [==============================] - 1s 2ms/step - loss: 0.4178 - recall: 0.2125 - val_loss: 0.3269 - val_recall: 0.3646\n",
      "Epoch 86/350\n",
      "405/405 [==============================] - 1s 1ms/step - loss: 0.4182 - recall: 0.2064 - val_loss: 0.3259 - val_recall: 0.3646\n",
      "Epoch 87/350\n",
      "405/405 [==============================] - 1s 2ms/step - loss: 0.4160 - recall: 0.2119 - val_loss: 0.3369 - val_recall: 0.3481\n",
      "Epoch 88/350\n",
      "405/405 [==============================] - 1s 2ms/step - loss: 0.4107 - recall: 0.2324 - val_loss: 0.3297 - val_recall: 0.3757\n",
      "Epoch 89/350\n",
      "405/405 [==============================] - 1s 1ms/step - loss: 0.4127 - recall: 0.2294 - val_loss: 0.3266 - val_recall: 0.3425\n",
      "Epoch 90/350\n",
      "405/405 [==============================] - 1s 2ms/step - loss: 0.4103 - recall: 0.2258 - val_loss: 0.3253 - val_recall: 0.3425\n",
      "Epoch 91/350\n",
      "405/405 [==============================] - 1s 2ms/step - loss: 0.4127 - recall: 0.2119 - val_loss: 0.3266 - val_recall: 0.3370\n",
      "Epoch 92/350\n",
      "405/405 [==============================] - 1s 2ms/step - loss: 0.4149 - recall: 0.2264 - val_loss: 0.3303 - val_recall: 0.4088\n",
      "Epoch 93/350\n",
      "405/405 [==============================] - 1s 2ms/step - loss: 0.4114 - recall: 0.2270 - val_loss: 0.3249 - val_recall: 0.3536\n",
      "Epoch 94/350\n",
      "405/405 [==============================] - 1s 1ms/step - loss: 0.4103 - recall: 0.2137 - val_loss: 0.3250 - val_recall: 0.3702\n",
      "Epoch 95/350\n",
      "405/405 [==============================] - 1s 2ms/step - loss: 0.4081 - recall: 0.2324 - val_loss: 0.3276 - val_recall: 0.3646\n",
      "Epoch 96/350\n",
      "405/405 [==============================] - 1s 2ms/step - loss: 0.4085 - recall: 0.2028 - val_loss: 0.3261 - val_recall: 0.3646\n",
      "Epoch 97/350\n",
      "405/405 [==============================] - 1s 2ms/step - loss: 0.4139 - recall: 0.2337 - val_loss: 0.3266 - val_recall: 0.3646\n",
      "Epoch 98/350\n",
      "405/405 [==============================] - 1s 3ms/step - loss: 0.4154 - recall: 0.2185 - val_loss: 0.3297 - val_recall: 0.4475\n",
      "Epoch 99/350\n",
      "405/405 [==============================] - 1s 3ms/step - loss: 0.4090 - recall: 0.2300 - val_loss: 0.3281 - val_recall: 0.4365\n",
      "Epoch 100/350\n",
      "405/405 [==============================] - 1s 3ms/step - loss: 0.4071 - recall: 0.2246 - val_loss: 0.3298 - val_recall: 0.3370\n",
      "Epoch 101/350\n",
      "405/405 [==============================] - 1s 3ms/step - loss: 0.4174 - recall: 0.1895 - val_loss: 0.3229 - val_recall: 0.4033\n",
      "Epoch 102/350\n",
      "405/405 [==============================] - 1s 3ms/step - loss: 0.4133 - recall: 0.2149 - val_loss: 0.3314 - val_recall: 0.3370\n",
      "Epoch 103/350\n",
      "405/405 [==============================] - 1s 3ms/step - loss: 0.4064 - recall: 0.2100 - val_loss: 0.3208 - val_recall: 0.4033\n",
      "Epoch 104/350\n",
      "405/405 [==============================] - 1s 2ms/step - loss: 0.4066 - recall: 0.2349 - val_loss: 0.3220 - val_recall: 0.3591\n",
      "Epoch 105/350\n",
      "405/405 [==============================] - 0s 1ms/step - loss: 0.4033 - recall: 0.2300 - val_loss: 0.3247 - val_recall: 0.4199\n",
      "Epoch 106/350\n",
      "405/405 [==============================] - 1s 2ms/step - loss: 0.4096 - recall: 0.2458 - val_loss: 0.3265 - val_recall: 0.4475\n",
      "Epoch 107/350\n",
      "405/405 [==============================] - 1s 1ms/step - loss: 0.4038 - recall: 0.2300 - val_loss: 0.3225 - val_recall: 0.4475\n",
      "Epoch 108/350\n",
      "405/405 [==============================] - 1s 1ms/step - loss: 0.4100 - recall: 0.2228 - val_loss: 0.3238 - val_recall: 0.3481\n",
      "Epoch 109/350\n",
      "405/405 [==============================] - 1s 2ms/step - loss: 0.4095 - recall: 0.2215 - val_loss: 0.3279 - val_recall: 0.3923\n",
      "Epoch 110/350\n",
      "405/405 [==============================] - 1s 2ms/step - loss: 0.4108 - recall: 0.2270 - val_loss: 0.3212 - val_recall: 0.4254\n",
      "Epoch 111/350\n",
      "405/405 [==============================] - 1s 1ms/step - loss: 0.4075 - recall: 0.2427 - val_loss: 0.3237 - val_recall: 0.4199\n",
      "Epoch 112/350\n",
      "405/405 [==============================] - 1s 1ms/step - loss: 0.4084 - recall: 0.2125 - val_loss: 0.3266 - val_recall: 0.3757\n",
      "Epoch 113/350\n",
      "405/405 [==============================] - 1s 1ms/step - loss: 0.4118 - recall: 0.2197 - val_loss: 0.3260 - val_recall: 0.3702\n",
      "Epoch 114/350\n",
      "405/405 [==============================] - 1s 1ms/step - loss: 0.4031 - recall: 0.2391 - val_loss: 0.3250 - val_recall: 0.4088\n",
      "Epoch 115/350\n",
      "405/405 [==============================] - 1s 1ms/step - loss: 0.4097 - recall: 0.2361 - val_loss: 0.3241 - val_recall: 0.3591\n",
      "Epoch 116/350\n",
      "405/405 [==============================] - 1s 2ms/step - loss: 0.4059 - recall: 0.2343 - val_loss: 0.3128 - val_recall: 0.4420\n",
      "Epoch 117/350\n"
     ]
    },
    {
     "name": "stdout",
     "output_type": "stream",
     "text": [
      "405/405 [==============================] - 1s 2ms/step - loss: 0.4146 - recall: 0.2264 - val_loss: 0.3219 - val_recall: 0.3812\n",
      "Epoch 118/350\n",
      "405/405 [==============================] - 1s 2ms/step - loss: 0.4110 - recall: 0.2270 - val_loss: 0.3242 - val_recall: 0.3646\n",
      "Epoch 119/350\n",
      "405/405 [==============================] - 1s 3ms/step - loss: 0.4073 - recall: 0.2215 - val_loss: 0.3129 - val_recall: 0.4254\n",
      "Epoch 120/350\n",
      "405/405 [==============================] - 1s 3ms/step - loss: 0.4079 - recall: 0.2324 - val_loss: 0.3328 - val_recall: 0.3812\n",
      "Epoch 121/350\n",
      "405/405 [==============================] - 1s 3ms/step - loss: 0.4046 - recall: 0.2252 - val_loss: 0.3230 - val_recall: 0.4420\n",
      "Epoch 122/350\n",
      "405/405 [==============================] - 1s 3ms/step - loss: 0.4082 - recall: 0.2258 - val_loss: 0.3254 - val_recall: 0.4199\n",
      "Epoch 123/350\n",
      "405/405 [==============================] - 1s 3ms/step - loss: 0.4078 - recall: 0.2209 - val_loss: 0.3215 - val_recall: 0.4309\n",
      "Epoch 124/350\n",
      "405/405 [==============================] - 1s 3ms/step - loss: 0.4050 - recall: 0.2258 - val_loss: 0.3179 - val_recall: 0.4199\n",
      "Epoch 125/350\n",
      "405/405 [==============================] - 1s 1ms/step - loss: 0.4133 - recall: 0.2222 - val_loss: 0.3301 - val_recall: 0.3536\n",
      "Epoch 126/350\n",
      "405/405 [==============================] - 1s 2ms/step - loss: 0.4060 - recall: 0.2337 - val_loss: 0.3287 - val_recall: 0.3591\n",
      "Epoch 127/350\n",
      "405/405 [==============================] - 0s 1ms/step - loss: 0.4024 - recall: 0.2379 - val_loss: 0.3282 - val_recall: 0.3923\n",
      "Epoch 128/350\n",
      "405/405 [==============================] - 1s 1ms/step - loss: 0.4093 - recall: 0.2349 - val_loss: 0.3212 - val_recall: 0.4199\n",
      "Epoch 129/350\n",
      "405/405 [==============================] - 0s 1ms/step - loss: 0.4084 - recall: 0.2228 - val_loss: 0.3147 - val_recall: 0.4254\n",
      "Epoch 130/350\n",
      "405/405 [==============================] - 0s 1ms/step - loss: 0.4058 - recall: 0.2554 - val_loss: 0.3234 - val_recall: 0.3591\n",
      "Epoch 131/350\n",
      "405/405 [==============================] - 0s 1ms/step - loss: 0.4093 - recall: 0.2167 - val_loss: 0.3174 - val_recall: 0.3867\n",
      "Epoch 132/350\n",
      "405/405 [==============================] - 0s 1ms/step - loss: 0.4077 - recall: 0.2306 - val_loss: 0.3277 - val_recall: 0.3591\n",
      "Epoch 133/350\n",
      "405/405 [==============================] - 0s 1ms/step - loss: 0.4098 - recall: 0.2100 - val_loss: 0.3284 - val_recall: 0.4144\n",
      "Epoch 134/350\n",
      "405/405 [==============================] - 0s 1ms/step - loss: 0.4066 - recall: 0.2415 - val_loss: 0.3124 - val_recall: 0.4199\n",
      "Epoch 135/350\n",
      "405/405 [==============================] - 1s 1ms/step - loss: 0.4084 - recall: 0.2252 - val_loss: 0.3138 - val_recall: 0.4365\n",
      "Epoch 136/350\n",
      "405/405 [==============================] - 1s 1ms/step - loss: 0.4083 - recall: 0.2573 - val_loss: 0.3207 - val_recall: 0.4088\n",
      "Epoch 137/350\n",
      "405/405 [==============================] - 1s 1ms/step - loss: 0.3993 - recall: 0.2458 - val_loss: 0.3183 - val_recall: 0.4365\n",
      "Epoch 138/350\n",
      "405/405 [==============================] - 1s 1ms/step - loss: 0.4046 - recall: 0.2506 - val_loss: 0.3257 - val_recall: 0.3923\n",
      "Epoch 139/350\n",
      "405/405 [==============================] - 1s 1ms/step - loss: 0.4135 - recall: 0.2222 - val_loss: 0.3280 - val_recall: 0.3536\n",
      "Epoch 140/350\n",
      "405/405 [==============================] - 1s 2ms/step - loss: 0.4076 - recall: 0.2337 - val_loss: 0.3218 - val_recall: 0.4365\n",
      "Epoch 141/350\n",
      "405/405 [==============================] - 1s 2ms/step - loss: 0.4068 - recall: 0.2252 - val_loss: 0.3261 - val_recall: 0.3481\n",
      "Epoch 142/350\n",
      "405/405 [==============================] - 1s 2ms/step - loss: 0.4026 - recall: 0.2518 - val_loss: 0.3116 - val_recall: 0.4309\n",
      "Epoch 143/350\n",
      "405/405 [==============================] - 1s 3ms/step - loss: 0.4049 - recall: 0.2433 - val_loss: 0.3196 - val_recall: 0.4254\n",
      "Epoch 144/350\n",
      "405/405 [==============================] - 1s 3ms/step - loss: 0.4076 - recall: 0.2191 - val_loss: 0.3236 - val_recall: 0.3923\n",
      "Epoch 145/350\n",
      "405/405 [==============================] - 1s 3ms/step - loss: 0.4060 - recall: 0.2397 - val_loss: 0.3196 - val_recall: 0.3812\n",
      "Epoch 146/350\n",
      "405/405 [==============================] - 1s 3ms/step - loss: 0.4087 - recall: 0.2276 - val_loss: 0.3197 - val_recall: 0.3923\n",
      "Epoch 147/350\n",
      "405/405 [==============================] - 1s 3ms/step - loss: 0.4091 - recall: 0.2343 - val_loss: 0.3257 - val_recall: 0.3646\n",
      "Epoch 148/350\n",
      "405/405 [==============================] - 1s 1ms/step - loss: 0.4104 - recall: 0.2167 - val_loss: 0.3135 - val_recall: 0.3757\n",
      "Epoch 149/350\n",
      "405/405 [==============================] - 0s 1ms/step - loss: 0.4100 - recall: 0.2324 - val_loss: 0.3187 - val_recall: 0.4088\n",
      "Epoch 150/350\n",
      "405/405 [==============================] - 0s 1ms/step - loss: 0.4081 - recall: 0.2355 - val_loss: 0.3197 - val_recall: 0.3812\n",
      "Epoch 151/350\n",
      "405/405 [==============================] - 0s 1ms/step - loss: 0.4049 - recall: 0.2373 - val_loss: 0.3176 - val_recall: 0.4033\n",
      "Epoch 152/350\n",
      "405/405 [==============================] - 0s 1ms/step - loss: 0.4069 - recall: 0.2415 - val_loss: 0.3137 - val_recall: 0.4365\n",
      "Epoch 153/350\n",
      "405/405 [==============================] - 0s 1ms/step - loss: 0.4093 - recall: 0.2288 - val_loss: 0.3324 - val_recall: 0.4144\n",
      "Epoch 154/350\n",
      "405/405 [==============================] - 0s 1ms/step - loss: 0.4083 - recall: 0.2331 - val_loss: 0.3273 - val_recall: 0.3867\n",
      "Epoch 155/350\n",
      "405/405 [==============================] - 0s 1ms/step - loss: 0.4099 - recall: 0.2349 - val_loss: 0.3158 - val_recall: 0.4309\n",
      "Epoch 156/350\n",
      "405/405 [==============================] - 0s 1ms/step - loss: 0.4043 - recall: 0.2542 - val_loss: 0.3189 - val_recall: 0.3867\n",
      "Epoch 157/350\n",
      "405/405 [==============================] - 0s 1ms/step - loss: 0.4129 - recall: 0.2070 - val_loss: 0.3310 - val_recall: 0.3757\n",
      "Epoch 158/350\n",
      "405/405 [==============================] - 0s 1ms/step - loss: 0.4067 - recall: 0.2161 - val_loss: 0.3215 - val_recall: 0.4365\n",
      "Epoch 159/350\n",
      "405/405 [==============================] - 0s 1ms/step - loss: 0.4041 - recall: 0.2373 - val_loss: 0.3139 - val_recall: 0.4144\n",
      "Epoch 160/350\n",
      "405/405 [==============================] - 0s 1ms/step - loss: 0.4075 - recall: 0.2337 - val_loss: 0.3177 - val_recall: 0.3978\n",
      "Epoch 161/350\n",
      "405/405 [==============================] - 1s 1ms/step - loss: 0.4069 - recall: 0.2318 - val_loss: 0.3233 - val_recall: 0.4088\n",
      "Epoch 162/350\n",
      "405/405 [==============================] - 1s 1ms/step - loss: 0.4095 - recall: 0.2512 - val_loss: 0.3282 - val_recall: 0.4365\n",
      "Epoch 163/350\n",
      "405/405 [==============================] - 1s 1ms/step - loss: 0.4104 - recall: 0.2179 - val_loss: 0.3306 - val_recall: 0.3702\n",
      "Epoch 164/350\n",
      "405/405 [==============================] - 1s 2ms/step - loss: 0.4122 - recall: 0.2191 - val_loss: 0.3208 - val_recall: 0.4144\n",
      "Epoch 165/350\n",
      "405/405 [==============================] - 1s 2ms/step - loss: 0.4037 - recall: 0.2312 - val_loss: 0.3158 - val_recall: 0.4309\n",
      "Epoch 166/350\n",
      "405/405 [==============================] - 1s 2ms/step - loss: 0.4090 - recall: 0.2270 - val_loss: 0.3203 - val_recall: 0.4144\n",
      "Epoch 167/350\n",
      "405/405 [==============================] - 1s 3ms/step - loss: 0.4021 - recall: 0.2573 - val_loss: 0.3201 - val_recall: 0.4309\n",
      "Epoch 168/350\n",
      "405/405 [==============================] - 1s 3ms/step - loss: 0.4014 - recall: 0.2512 - val_loss: 0.3232 - val_recall: 0.4254\n",
      "Epoch 169/350\n",
      "405/405 [==============================] - 1s 3ms/step - loss: 0.4069 - recall: 0.2264 - val_loss: 0.3183 - val_recall: 0.4420\n",
      "Epoch 170/350\n",
      "405/405 [==============================] - 1s 3ms/step - loss: 0.4098 - recall: 0.2331 - val_loss: 0.3247 - val_recall: 0.3702\n",
      "Epoch 171/350\n",
      "405/405 [==============================] - 1s 3ms/step - loss: 0.4095 - recall: 0.2294 - val_loss: 0.3231 - val_recall: 0.3591\n",
      "Epoch 172/350\n",
      "405/405 [==============================] - 1s 2ms/step - loss: 0.4017 - recall: 0.2518 - val_loss: 0.3134 - val_recall: 0.4144\n",
      "Epoch 173/350\n",
      "405/405 [==============================] - 1s 1ms/step - loss: 0.4055 - recall: 0.2433 - val_loss: 0.3205 - val_recall: 0.4144\n",
      "Epoch 174/350\n",
      "405/405 [==============================] - 1s 1ms/step - loss: 0.4038 - recall: 0.2203 - val_loss: 0.3196 - val_recall: 0.4144\n",
      "Epoch 175/350\n"
     ]
    },
    {
     "name": "stdout",
     "output_type": "stream",
     "text": [
      "405/405 [==============================] - 0s 1ms/step - loss: 0.4057 - recall: 0.2427 - val_loss: 0.3203 - val_recall: 0.4365\n",
      "Epoch 176/350\n",
      "405/405 [==============================] - 0s 1ms/step - loss: 0.4067 - recall: 0.2561 - val_loss: 0.3184 - val_recall: 0.4033\n",
      "Epoch 177/350\n",
      "405/405 [==============================] - 0s 1ms/step - loss: 0.4052 - recall: 0.2324 - val_loss: 0.3186 - val_recall: 0.4365\n",
      "Epoch 178/350\n",
      "405/405 [==============================] - 0s 1ms/step - loss: 0.4057 - recall: 0.2567 - val_loss: 0.3187 - val_recall: 0.4088\n",
      "Epoch 179/350\n",
      "405/405 [==============================] - 0s 1ms/step - loss: 0.4130 - recall: 0.2300 - val_loss: 0.3288 - val_recall: 0.3481\n",
      "Epoch 180/350\n",
      "405/405 [==============================] - 0s 1ms/step - loss: 0.4010 - recall: 0.2573 - val_loss: 0.3174 - val_recall: 0.4309\n",
      "Epoch 181/350\n",
      "405/405 [==============================] - 0s 1ms/step - loss: 0.4041 - recall: 0.2506 - val_loss: 0.3147 - val_recall: 0.4144\n",
      "Epoch 182/350\n",
      "405/405 [==============================] - 0s 1ms/step - loss: 0.4012 - recall: 0.2573 - val_loss: 0.3201 - val_recall: 0.4199\n",
      "Epoch 183/350\n",
      "405/405 [==============================] - 0s 1ms/step - loss: 0.4070 - recall: 0.2458 - val_loss: 0.3179 - val_recall: 0.3978\n",
      "Epoch 184/350\n",
      "405/405 [==============================] - 0s 1ms/step - loss: 0.4069 - recall: 0.2337 - val_loss: 0.3144 - val_recall: 0.4309\n",
      "Epoch 185/350\n",
      "405/405 [==============================] - 0s 1ms/step - loss: 0.4045 - recall: 0.2452 - val_loss: 0.3224 - val_recall: 0.4309\n",
      "Epoch 186/350\n",
      "405/405 [==============================] - 0s 1ms/step - loss: 0.4040 - recall: 0.2554 - val_loss: 0.3204 - val_recall: 0.3923\n",
      "Epoch 187/350\n",
      "405/405 [==============================] - 1s 2ms/step - loss: 0.4039 - recall: 0.2427 - val_loss: 0.3181 - val_recall: 0.4199\n",
      "Epoch 188/350\n",
      "405/405 [==============================] - 1s 2ms/step - loss: 0.4034 - recall: 0.2500 - val_loss: 0.3203 - val_recall: 0.3978\n",
      "Epoch 189/350\n",
      "405/405 [==============================] - 1s 2ms/step - loss: 0.4044 - recall: 0.2337 - val_loss: 0.3197 - val_recall: 0.4862\n",
      "Epoch 190/350\n",
      "405/405 [==============================] - 1s 1ms/step - loss: 0.4060 - recall: 0.2494 - val_loss: 0.3170 - val_recall: 0.4365\n",
      "Epoch 191/350\n",
      "405/405 [==============================] - 1s 2ms/step - loss: 0.4003 - recall: 0.2464 - val_loss: 0.3247 - val_recall: 0.3481\n",
      "Epoch 192/350\n",
      "405/405 [==============================] - 1s 2ms/step - loss: 0.4033 - recall: 0.2542 - val_loss: 0.3198 - val_recall: 0.4309\n",
      "Epoch 193/350\n",
      "405/405 [==============================] - 1s 2ms/step - loss: 0.4099 - recall: 0.2446 - val_loss: 0.3219 - val_recall: 0.3978\n",
      "Epoch 194/350\n",
      "405/405 [==============================] - 1s 3ms/step - loss: 0.4084 - recall: 0.2482 - val_loss: 0.3253 - val_recall: 0.3757\n",
      "Epoch 195/350\n",
      "405/405 [==============================] - 1s 3ms/step - loss: 0.4027 - recall: 0.2542 - val_loss: 0.3235 - val_recall: 0.4088\n",
      "Epoch 196/350\n",
      "405/405 [==============================] - 1s 2ms/step - loss: 0.4049 - recall: 0.2482 - val_loss: 0.3183 - val_recall: 0.4530\n",
      "Epoch 197/350\n",
      "405/405 [==============================] - 1s 2ms/step - loss: 0.4118 - recall: 0.2318 - val_loss: 0.3286 - val_recall: 0.4144\n",
      "Epoch 198/350\n",
      "405/405 [==============================] - 0s 1ms/step - loss: 0.4059 - recall: 0.2585 - val_loss: 0.3206 - val_recall: 0.4144\n",
      "Epoch 199/350\n",
      "405/405 [==============================] - 0s 1ms/step - loss: 0.4040 - recall: 0.2355 - val_loss: 0.3186 - val_recall: 0.4254\n",
      "Epoch 200/350\n",
      "405/405 [==============================] - 0s 1ms/step - loss: 0.4035 - recall: 0.2663 - val_loss: 0.3182 - val_recall: 0.4199\n",
      "Epoch 201/350\n",
      "405/405 [==============================] - 0s 1ms/step - loss: 0.4034 - recall: 0.2391 - val_loss: 0.3196 - val_recall: 0.4199\n",
      "Epoch 202/350\n",
      "405/405 [==============================] - 0s 1ms/step - loss: 0.4086 - recall: 0.2149 - val_loss: 0.3184 - val_recall: 0.4365\n",
      "Epoch 203/350\n",
      "405/405 [==============================] - 0s 1ms/step - loss: 0.4037 - recall: 0.2391 - val_loss: 0.3181 - val_recall: 0.4144\n",
      "Epoch 204/350\n",
      "405/405 [==============================] - 0s 1ms/step - loss: 0.4054 - recall: 0.2421 - val_loss: 0.3154 - val_recall: 0.4530\n",
      "Epoch 205/350\n",
      "405/405 [==============================] - 0s 1ms/step - loss: 0.4036 - recall: 0.2439 - val_loss: 0.3221 - val_recall: 0.3867\n",
      "Epoch 206/350\n",
      "405/405 [==============================] - 0s 1ms/step - loss: 0.4087 - recall: 0.2318 - val_loss: 0.3317 - val_recall: 0.3923\n",
      "Epoch 207/350\n",
      "405/405 [==============================] - 0s 1ms/step - loss: 0.4102 - recall: 0.2234 - val_loss: 0.3243 - val_recall: 0.3757\n",
      "Epoch 208/350\n",
      "405/405 [==============================] - 0s 1ms/step - loss: 0.4025 - recall: 0.2464 - val_loss: 0.3132 - val_recall: 0.4309\n",
      "Epoch 209/350\n",
      "405/405 [==============================] - 0s 1ms/step - loss: 0.4046 - recall: 0.2542 - val_loss: 0.3200 - val_recall: 0.3978\n",
      "Epoch 210/350\n",
      "405/405 [==============================] - 0s 1ms/step - loss: 0.4087 - recall: 0.2639 - val_loss: 0.3268 - val_recall: 0.3978\n",
      "Epoch 211/350\n",
      "405/405 [==============================] - 0s 1ms/step - loss: 0.3997 - recall: 0.2391 - val_loss: 0.3216 - val_recall: 0.4144\n",
      "Epoch 212/350\n",
      "405/405 [==============================] - 1s 1ms/step - loss: 0.4027 - recall: 0.2494 - val_loss: 0.3164 - val_recall: 0.4199\n",
      "Epoch 213/350\n",
      "405/405 [==============================] - 1s 1ms/step - loss: 0.4053 - recall: 0.2500 - val_loss: 0.3170 - val_recall: 0.4144\n",
      "Epoch 214/350\n",
      "405/405 [==============================] - 1s 2ms/step - loss: 0.4096 - recall: 0.2536 - val_loss: 0.3246 - val_recall: 0.4144\n",
      "Epoch 215/350\n",
      "405/405 [==============================] - 1s 1ms/step - loss: 0.4110 - recall: 0.2300 - val_loss: 0.3212 - val_recall: 0.4033\n",
      "Epoch 216/350\n",
      "405/405 [==============================] - 1s 2ms/step - loss: 0.4026 - recall: 0.2567 - val_loss: 0.3138 - val_recall: 0.4309\n",
      "Epoch 217/350\n",
      "405/405 [==============================] - 1s 3ms/step - loss: 0.4046 - recall: 0.2518 - val_loss: 0.3234 - val_recall: 0.4088\n",
      "Epoch 218/350\n",
      "405/405 [==============================] - 1s 3ms/step - loss: 0.4016 - recall: 0.2536 - val_loss: 0.3168 - val_recall: 0.4088\n",
      "Epoch 219/350\n",
      "405/405 [==============================] - 1s 3ms/step - loss: 0.4032 - recall: 0.2433 - val_loss: 0.3235 - val_recall: 0.4033\n",
      "Epoch 220/350\n",
      "405/405 [==============================] - 1s 3ms/step - loss: 0.3979 - recall: 0.2524 - val_loss: 0.3154 - val_recall: 0.4309\n",
      "Epoch 221/350\n",
      "405/405 [==============================] - 1s 3ms/step - loss: 0.4055 - recall: 0.2554 - val_loss: 0.3254 - val_recall: 0.3536\n",
      "Epoch 222/350\n",
      "405/405 [==============================] - 1s 2ms/step - loss: 0.4082 - recall: 0.2446 - val_loss: 0.3183 - val_recall: 0.4088\n",
      "Epoch 223/350\n",
      "405/405 [==============================] - 0s 1ms/step - loss: 0.4084 - recall: 0.2433 - val_loss: 0.3229 - val_recall: 0.3978\n",
      "Epoch 224/350\n",
      "405/405 [==============================] - 0s 1ms/step - loss: 0.4049 - recall: 0.2203 - val_loss: 0.3208 - val_recall: 0.4475\n",
      "Epoch 225/350\n",
      "405/405 [==============================] - 0s 1ms/step - loss: 0.4103 - recall: 0.2343 - val_loss: 0.3200 - val_recall: 0.4254\n",
      "Epoch 226/350\n",
      "405/405 [==============================] - 0s 1ms/step - loss: 0.4020 - recall: 0.2561 - val_loss: 0.3261 - val_recall: 0.3536\n",
      "Epoch 227/350\n",
      "405/405 [==============================] - 0s 1ms/step - loss: 0.4038 - recall: 0.2591 - val_loss: 0.3224 - val_recall: 0.3978\n",
      "Epoch 228/350\n",
      "405/405 [==============================] - 0s 1ms/step - loss: 0.4051 - recall: 0.2397 - val_loss: 0.3298 - val_recall: 0.3702\n",
      "Epoch 229/350\n",
      "405/405 [==============================] - 1s 1ms/step - loss: 0.4027 - recall: 0.2397 - val_loss: 0.3246 - val_recall: 0.3978\n",
      "Epoch 230/350\n",
      "405/405 [==============================] - 0s 1ms/step - loss: 0.4026 - recall: 0.2482 - val_loss: 0.3189 - val_recall: 0.4199\n",
      "Epoch 231/350\n",
      "405/405 [==============================] - 0s 1ms/step - loss: 0.3972 - recall: 0.2657 - val_loss: 0.3161 - val_recall: 0.4420\n",
      "Epoch 232/350\n",
      "405/405 [==============================] - 0s 1ms/step - loss: 0.4117 - recall: 0.2518 - val_loss: 0.3265 - val_recall: 0.3867\n",
      "Epoch 233/350\n"
     ]
    },
    {
     "name": "stdout",
     "output_type": "stream",
     "text": [
      "405/405 [==============================] - 0s 1ms/step - loss: 0.4055 - recall: 0.2306 - val_loss: 0.3246 - val_recall: 0.4088\n",
      "Epoch 234/350\n",
      "405/405 [==============================] - 0s 1ms/step - loss: 0.4097 - recall: 0.2318 - val_loss: 0.3301 - val_recall: 0.3702\n",
      "Epoch 235/350\n",
      "405/405 [==============================] - 0s 1ms/step - loss: 0.4001 - recall: 0.2385 - val_loss: 0.3181 - val_recall: 0.3923\n",
      "Epoch 236/350\n",
      "405/405 [==============================] - 1s 1ms/step - loss: 0.4055 - recall: 0.2470 - val_loss: 0.3132 - val_recall: 0.4199\n",
      "Epoch 237/350\n",
      "405/405 [==============================] - 1s 1ms/step - loss: 0.4027 - recall: 0.2609 - val_loss: 0.3105 - val_recall: 0.4530\n",
      "Epoch 238/350\n",
      "405/405 [==============================] - 1s 2ms/step - loss: 0.4028 - recall: 0.2452 - val_loss: 0.3211 - val_recall: 0.3757\n",
      "Epoch 239/350\n",
      "405/405 [==============================] - 1s 2ms/step - loss: 0.4085 - recall: 0.2446 - val_loss: 0.3178 - val_recall: 0.3812\n",
      "Epoch 240/350\n",
      "405/405 [==============================] - 1s 1ms/step - loss: 0.4012 - recall: 0.2536 - val_loss: 0.3168 - val_recall: 0.4365\n",
      "Epoch 241/350\n",
      "405/405 [==============================] - 1s 2ms/step - loss: 0.4055 - recall: 0.2561 - val_loss: 0.3221 - val_recall: 0.4033\n",
      "Epoch 242/350\n",
      "405/405 [==============================] - 1s 3ms/step - loss: 0.4104 - recall: 0.2452 - val_loss: 0.3182 - val_recall: 0.3923\n",
      "Epoch 243/350\n",
      "405/405 [==============================] - 1s 3ms/step - loss: 0.4070 - recall: 0.2409 - val_loss: 0.3189 - val_recall: 0.4309\n",
      "Epoch 244/350\n",
      "405/405 [==============================] - 1s 3ms/step - loss: 0.4100 - recall: 0.2373 - val_loss: 0.3162 - val_recall: 0.4254\n",
      "Epoch 245/350\n",
      "405/405 [==============================] - 1s 3ms/step - loss: 0.4092 - recall: 0.2433 - val_loss: 0.3205 - val_recall: 0.4144\n",
      "Epoch 246/350\n",
      "405/405 [==============================] - 1s 3ms/step - loss: 0.4059 - recall: 0.2288 - val_loss: 0.3166 - val_recall: 0.4144\n",
      "Epoch 247/350\n",
      "405/405 [==============================] - 1s 2ms/step - loss: 0.4003 - recall: 0.2621 - val_loss: 0.3178 - val_recall: 0.4309\n",
      "Epoch 248/350\n",
      "405/405 [==============================] - 0s 1ms/step - loss: 0.4039 - recall: 0.2415 - val_loss: 0.3174 - val_recall: 0.4199\n",
      "Epoch 249/350\n",
      "405/405 [==============================] - 0s 1ms/step - loss: 0.4128 - recall: 0.2234 - val_loss: 0.3281 - val_recall: 0.3481\n",
      "Epoch 250/350\n",
      "405/405 [==============================] - 0s 1ms/step - loss: 0.4107 - recall: 0.2282 - val_loss: 0.3219 - val_recall: 0.3481\n",
      "Epoch 251/350\n",
      "405/405 [==============================] - 0s 1ms/step - loss: 0.3984 - recall: 0.2391 - val_loss: 0.3233 - val_recall: 0.3536\n",
      "Epoch 252/350\n",
      "405/405 [==============================] - 0s 1ms/step - loss: 0.4046 - recall: 0.2276 - val_loss: 0.3151 - val_recall: 0.4309\n",
      "Epoch 253/350\n",
      "405/405 [==============================] - 0s 1ms/step - loss: 0.4021 - recall: 0.2512 - val_loss: 0.3146 - val_recall: 0.4365\n",
      "Epoch 254/350\n",
      "405/405 [==============================] - 0s 1ms/step - loss: 0.4035 - recall: 0.2331 - val_loss: 0.3187 - val_recall: 0.4309\n",
      "Epoch 255/350\n",
      "405/405 [==============================] - 0s 1ms/step - loss: 0.4050 - recall: 0.2409 - val_loss: 0.3165 - val_recall: 0.4309\n",
      "Epoch 256/350\n",
      "405/405 [==============================] - 0s 1ms/step - loss: 0.3997 - recall: 0.2476 - val_loss: 0.3123 - val_recall: 0.4309\n",
      "Epoch 257/350\n",
      "405/405 [==============================] - 0s 1ms/step - loss: 0.4082 - recall: 0.2561 - val_loss: 0.3201 - val_recall: 0.4420\n",
      "Epoch 258/350\n",
      "405/405 [==============================] - 0s 1ms/step - loss: 0.4036 - recall: 0.2373 - val_loss: 0.3241 - val_recall: 0.3591\n",
      "Epoch 259/350\n",
      "405/405 [==============================] - 0s 1ms/step - loss: 0.4088 - recall: 0.2185 - val_loss: 0.3189 - val_recall: 0.4199\n",
      "Epoch 260/350\n",
      "405/405 [==============================] - 0s 1ms/step - loss: 0.4079 - recall: 0.2427 - val_loss: 0.3233 - val_recall: 0.4254\n",
      "Epoch 261/350\n",
      "405/405 [==============================] - 0s 1ms/step - loss: 0.4006 - recall: 0.2548 - val_loss: 0.3133 - val_recall: 0.4199\n",
      "Epoch 262/350\n",
      "405/405 [==============================] - 1s 1ms/step - loss: 0.4107 - recall: 0.2355 - val_loss: 0.3197 - val_recall: 0.4088\n",
      "Epoch 263/350\n",
      "405/405 [==============================] - 1s 1ms/step - loss: 0.4066 - recall: 0.2312 - val_loss: 0.3307 - val_recall: 0.3536\n",
      "Epoch 264/350\n",
      "405/405 [==============================] - 1s 2ms/step - loss: 0.4007 - recall: 0.2488 - val_loss: 0.3124 - val_recall: 0.4365\n",
      "Epoch 265/350\n",
      "405/405 [==============================] - 1s 1ms/step - loss: 0.4049 - recall: 0.2561 - val_loss: 0.3231 - val_recall: 0.4309\n",
      "Epoch 266/350\n",
      "405/405 [==============================] - 1s 2ms/step - loss: 0.4036 - recall: 0.2657 - val_loss: 0.3190 - val_recall: 0.4199\n",
      "Epoch 267/350\n",
      "405/405 [==============================] - 1s 3ms/step - loss: 0.4090 - recall: 0.2337 - val_loss: 0.3236 - val_recall: 0.4309\n",
      "Epoch 268/350\n",
      "405/405 [==============================] - 1s 2ms/step - loss: 0.4062 - recall: 0.2548 - val_loss: 0.3223 - val_recall: 0.3812\n",
      "Epoch 269/350\n",
      "405/405 [==============================] - 1s 3ms/step - loss: 0.3981 - recall: 0.2464 - val_loss: 0.3177 - val_recall: 0.4309\n",
      "Epoch 270/350\n",
      "405/405 [==============================] - 1s 2ms/step - loss: 0.4012 - recall: 0.2573 - val_loss: 0.3138 - val_recall: 0.4309\n",
      "Epoch 271/350\n",
      "405/405 [==============================] - 1s 2ms/step - loss: 0.3995 - recall: 0.2639 - val_loss: 0.3172 - val_recall: 0.4365\n",
      "Epoch 272/350\n",
      "405/405 [==============================] - 1s 2ms/step - loss: 0.4031 - recall: 0.2645 - val_loss: 0.3149 - val_recall: 0.4365\n",
      "Epoch 273/350\n",
      "405/405 [==============================] - 0s 1ms/step - loss: 0.3965 - recall: 0.2548 - val_loss: 0.3187 - val_recall: 0.4199\n",
      "Epoch 274/350\n",
      "405/405 [==============================] - 0s 1ms/step - loss: 0.4082 - recall: 0.2591 - val_loss: 0.3201 - val_recall: 0.4144\n",
      "Epoch 275/350\n",
      "405/405 [==============================] - 0s 1ms/step - loss: 0.4034 - recall: 0.2391 - val_loss: 0.3207 - val_recall: 0.4309\n",
      "Epoch 276/350\n",
      "405/405 [==============================] - 0s 1ms/step - loss: 0.3992 - recall: 0.2639 - val_loss: 0.3150 - val_recall: 0.4309\n",
      "Epoch 277/350\n",
      "405/405 [==============================] - 0s 1ms/step - loss: 0.4071 - recall: 0.2524 - val_loss: 0.3203 - val_recall: 0.4254\n",
      "Epoch 278/350\n",
      "405/405 [==============================] - 0s 1ms/step - loss: 0.4089 - recall: 0.2306 - val_loss: 0.3200 - val_recall: 0.4088\n",
      "Epoch 279/350\n",
      "405/405 [==============================] - 0s 1ms/step - loss: 0.4051 - recall: 0.2252 - val_loss: 0.3170 - val_recall: 0.4144\n",
      "Epoch 280/350\n",
      "405/405 [==============================] - 0s 1ms/step - loss: 0.4092 - recall: 0.2331 - val_loss: 0.3207 - val_recall: 0.4033\n",
      "Epoch 281/350\n",
      "405/405 [==============================] - 0s 1ms/step - loss: 0.4080 - recall: 0.2439 - val_loss: 0.3155 - val_recall: 0.4033\n",
      "Epoch 282/350\n",
      "405/405 [==============================] - 0s 1ms/step - loss: 0.4082 - recall: 0.2488 - val_loss: 0.3196 - val_recall: 0.4033\n",
      "Epoch 283/350\n",
      "405/405 [==============================] - 0s 1ms/step - loss: 0.4087 - recall: 0.2494 - val_loss: 0.3234 - val_recall: 0.4033\n",
      "Epoch 284/350\n",
      "405/405 [==============================] - 0s 1ms/step - loss: 0.4025 - recall: 0.2597 - val_loss: 0.3140 - val_recall: 0.4309\n",
      "Epoch 285/350\n",
      "405/405 [==============================] - 0s 1ms/step - loss: 0.3978 - recall: 0.2573 - val_loss: 0.3131 - val_recall: 0.4365\n",
      "Epoch 286/350\n",
      "405/405 [==============================] - 0s 1ms/step - loss: 0.4005 - recall: 0.2676 - val_loss: 0.3156 - val_recall: 0.4365\n",
      "Epoch 287/350\n",
      "405/405 [==============================] - 1s 2ms/step - loss: 0.4080 - recall: 0.2470 - val_loss: 0.3193 - val_recall: 0.3812\n",
      "Epoch 288/350\n",
      "405/405 [==============================] - 1s 2ms/step - loss: 0.4095 - recall: 0.2258 - val_loss: 0.3164 - val_recall: 0.4144\n",
      "Epoch 289/350\n",
      "405/405 [==============================] - 1s 2ms/step - loss: 0.4059 - recall: 0.2548 - val_loss: 0.3140 - val_recall: 0.4199\n",
      "Epoch 290/350\n",
      "405/405 [==============================] - 1s 1ms/step - loss: 0.4071 - recall: 0.2385 - val_loss: 0.3256 - val_recall: 0.3591\n",
      "Epoch 291/350\n"
     ]
    },
    {
     "name": "stdout",
     "output_type": "stream",
     "text": [
      "405/405 [==============================] - 1s 2ms/step - loss: 0.4047 - recall: 0.2379 - val_loss: 0.3214 - val_recall: 0.4144\n",
      "Epoch 292/350\n",
      "405/405 [==============================] - 1s 2ms/step - loss: 0.4106 - recall: 0.2324 - val_loss: 0.3196 - val_recall: 0.3923\n",
      "Epoch 293/350\n",
      "405/405 [==============================] - 1s 2ms/step - loss: 0.4031 - recall: 0.2536 - val_loss: 0.3215 - val_recall: 0.3978\n",
      "Epoch 294/350\n",
      "405/405 [==============================] - 1s 3ms/step - loss: 0.4077 - recall: 0.2512 - val_loss: 0.3201 - val_recall: 0.3812\n",
      "Epoch 295/350\n",
      "405/405 [==============================] - 1s 2ms/step - loss: 0.4074 - recall: 0.2427 - val_loss: 0.3212 - val_recall: 0.3978\n",
      "Epoch 296/350\n",
      "405/405 [==============================] - 1s 2ms/step - loss: 0.4030 - recall: 0.2561 - val_loss: 0.3170 - val_recall: 0.4144\n",
      "Epoch 297/350\n",
      "405/405 [==============================] - 1s 2ms/step - loss: 0.4035 - recall: 0.2573 - val_loss: 0.3132 - val_recall: 0.4254\n",
      "Epoch 298/350\n",
      "405/405 [==============================] - 0s 1ms/step - loss: 0.4071 - recall: 0.2536 - val_loss: 0.3189 - val_recall: 0.3812\n",
      "Epoch 299/350\n",
      "405/405 [==============================] - 0s 1ms/step - loss: 0.4025 - recall: 0.2603 - val_loss: 0.3161 - val_recall: 0.3757\n",
      "Epoch 300/350\n",
      "405/405 [==============================] - 0s 1ms/step - loss: 0.3982 - recall: 0.2439 - val_loss: 0.3211 - val_recall: 0.4033\n",
      "Epoch 301/350\n",
      "405/405 [==============================] - 0s 1ms/step - loss: 0.4110 - recall: 0.2427 - val_loss: 0.3202 - val_recall: 0.3646\n",
      "Epoch 302/350\n",
      "405/405 [==============================] - 0s 1ms/step - loss: 0.4011 - recall: 0.2433 - val_loss: 0.3102 - val_recall: 0.4475\n",
      "Epoch 303/350\n",
      "405/405 [==============================] - 0s 1ms/step - loss: 0.4046 - recall: 0.2524 - val_loss: 0.3192 - val_recall: 0.3923\n",
      "Epoch 304/350\n",
      "405/405 [==============================] - 0s 1ms/step - loss: 0.4022 - recall: 0.2409 - val_loss: 0.3213 - val_recall: 0.3867\n",
      "Epoch 305/350\n",
      "405/405 [==============================] - 0s 1ms/step - loss: 0.4063 - recall: 0.2397 - val_loss: 0.3207 - val_recall: 0.3702\n",
      "Epoch 306/350\n",
      "405/405 [==============================] - 0s 1ms/step - loss: 0.4070 - recall: 0.2276 - val_loss: 0.3095 - val_recall: 0.4088\n",
      "Epoch 307/350\n",
      "405/405 [==============================] - 0s 1ms/step - loss: 0.4101 - recall: 0.2397 - val_loss: 0.3198 - val_recall: 0.4088\n",
      "Epoch 308/350\n",
      "405/405 [==============================] - 0s 1ms/step - loss: 0.4030 - recall: 0.2573 - val_loss: 0.3143 - val_recall: 0.4309\n",
      "Epoch 309/350\n",
      "405/405 [==============================] - 0s 1ms/step - loss: 0.4076 - recall: 0.2482 - val_loss: 0.3201 - val_recall: 0.4144\n",
      "Epoch 310/350\n",
      "405/405 [==============================] - 0s 1ms/step - loss: 0.4031 - recall: 0.2439 - val_loss: 0.3229 - val_recall: 0.3923\n",
      "Epoch 311/350\n",
      "405/405 [==============================] - 0s 1ms/step - loss: 0.4096 - recall: 0.2306 - val_loss: 0.3239 - val_recall: 0.3370\n",
      "Epoch 312/350\n",
      "405/405 [==============================] - 0s 1ms/step - loss: 0.4018 - recall: 0.2506 - val_loss: 0.3074 - val_recall: 0.4199\n",
      "Epoch 313/350\n",
      "405/405 [==============================] - 1s 1ms/step - loss: 0.4071 - recall: 0.2470 - val_loss: 0.3141 - val_recall: 0.4199\n",
      "Epoch 314/350\n",
      "405/405 [==============================] - 1s 2ms/step - loss: 0.4079 - recall: 0.2367 - val_loss: 0.3171 - val_recall: 0.4033\n",
      "Epoch 315/350\n",
      "405/405 [==============================] - 1s 2ms/step - loss: 0.4037 - recall: 0.2482 - val_loss: 0.3238 - val_recall: 0.3425\n",
      "Epoch 316/350\n",
      "405/405 [==============================] - 1s 2ms/step - loss: 0.4031 - recall: 0.2433 - val_loss: 0.3201 - val_recall: 0.4365\n",
      "Epoch 317/350\n",
      "405/405 [==============================] - 1s 2ms/step - loss: 0.4097 - recall: 0.2482 - val_loss: 0.3190 - val_recall: 0.3757\n",
      "Epoch 318/350\n",
      "405/405 [==============================] - 1s 2ms/step - loss: 0.4031 - recall: 0.2536 - val_loss: 0.3157 - val_recall: 0.4088\n",
      "Epoch 319/350\n",
      "405/405 [==============================] - 1s 3ms/step - loss: 0.4105 - recall: 0.2276 - val_loss: 0.3251 - val_recall: 0.4033\n",
      "Epoch 320/350\n",
      "405/405 [==============================] - 1s 3ms/step - loss: 0.4017 - recall: 0.2421 - val_loss: 0.3165 - val_recall: 0.4254\n",
      "Epoch 321/350\n",
      "405/405 [==============================] - 1s 2ms/step - loss: 0.4106 - recall: 0.2536 - val_loss: 0.3170 - val_recall: 0.4144\n",
      "Epoch 322/350\n",
      "405/405 [==============================] - 1s 2ms/step - loss: 0.4028 - recall: 0.2633 - val_loss: 0.3182 - val_recall: 0.4144\n",
      "Epoch 323/350\n",
      "405/405 [==============================] - 1s 2ms/step - loss: 0.4044 - recall: 0.2427 - val_loss: 0.3280 - val_recall: 0.3702\n",
      "Epoch 324/350\n",
      "405/405 [==============================] - 0s 1ms/step - loss: 0.4031 - recall: 0.2288 - val_loss: 0.3217 - val_recall: 0.4144\n",
      "Epoch 325/350\n",
      "405/405 [==============================] - 0s 1ms/step - loss: 0.4045 - recall: 0.2536 - val_loss: 0.3191 - val_recall: 0.3978\n",
      "Epoch 326/350\n",
      "405/405 [==============================] - 0s 1ms/step - loss: 0.4042 - recall: 0.2669 - val_loss: 0.3256 - val_recall: 0.3978\n",
      "Epoch 327/350\n",
      "405/405 [==============================] - 0s 1ms/step - loss: 0.4026 - recall: 0.2579 - val_loss: 0.3197 - val_recall: 0.4199\n",
      "Epoch 328/350\n",
      "405/405 [==============================] - 0s 1ms/step - loss: 0.4074 - recall: 0.2518 - val_loss: 0.3237 - val_recall: 0.3702\n",
      "Epoch 329/350\n",
      "405/405 [==============================] - 1s 2ms/step - loss: 0.4063 - recall: 0.2355 - val_loss: 0.3182 - val_recall: 0.3867\n",
      "Epoch 330/350\n",
      "405/405 [==============================] - 0s 1ms/step - loss: 0.4068 - recall: 0.2385 - val_loss: 0.3176 - val_recall: 0.3923\n",
      "Epoch 331/350\n",
      "405/405 [==============================] - 0s 1ms/step - loss: 0.3986 - recall: 0.2682 - val_loss: 0.3184 - val_recall: 0.3867\n",
      "Epoch 332/350\n",
      "405/405 [==============================] - 0s 1ms/step - loss: 0.4062 - recall: 0.2439 - val_loss: 0.3192 - val_recall: 0.3812\n",
      "Epoch 333/350\n",
      "405/405 [==============================] - 0s 1ms/step - loss: 0.4036 - recall: 0.2470 - val_loss: 0.3194 - val_recall: 0.3757\n",
      "Epoch 334/350\n",
      "405/405 [==============================] - 0s 1ms/step - loss: 0.4025 - recall: 0.2554 - val_loss: 0.3206 - val_recall: 0.4033\n",
      "Epoch 335/350\n",
      "405/405 [==============================] - 0s 1ms/step - loss: 0.4038 - recall: 0.2355 - val_loss: 0.3204 - val_recall: 0.4199\n",
      "Epoch 336/350\n",
      "405/405 [==============================] - 1s 1ms/step - loss: 0.4080 - recall: 0.2452 - val_loss: 0.3254 - val_recall: 0.4033\n",
      "Epoch 337/350\n",
      "405/405 [==============================] - 1s 1ms/step - loss: 0.4075 - recall: 0.2197 - val_loss: 0.3115 - val_recall: 0.4199\n",
      "Epoch 338/350\n",
      "405/405 [==============================] - 1s 1ms/step - loss: 0.4032 - recall: 0.2524 - val_loss: 0.3204 - val_recall: 0.4088\n",
      "Epoch 339/350\n",
      "405/405 [==============================] - 1s 2ms/step - loss: 0.4039 - recall: 0.2494 - val_loss: 0.3192 - val_recall: 0.4144\n",
      "Epoch 340/350\n",
      "405/405 [==============================] - 1s 2ms/step - loss: 0.4102 - recall: 0.2349 - val_loss: 0.3156 - val_recall: 0.4254\n",
      "Epoch 341/350\n",
      "405/405 [==============================] - 1s 2ms/step - loss: 0.4013 - recall: 0.2379 - val_loss: 0.3164 - val_recall: 0.4199\n",
      "Epoch 342/350\n",
      "405/405 [==============================] - 1s 3ms/step - loss: 0.4057 - recall: 0.2561 - val_loss: 0.3178 - val_recall: 0.4033\n",
      "Epoch 343/350\n",
      "405/405 [==============================] - 1s 3ms/step - loss: 0.4021 - recall: 0.2676 - val_loss: 0.3145 - val_recall: 0.3978\n",
      "Epoch 344/350\n",
      "405/405 [==============================] - 1s 3ms/step - loss: 0.4048 - recall: 0.2585 - val_loss: 0.3172 - val_recall: 0.3867\n",
      "Epoch 345/350\n",
      "405/405 [==============================] - 1s 3ms/step - loss: 0.4089 - recall: 0.2482 - val_loss: 0.3128 - val_recall: 0.4420\n",
      "Epoch 346/350\n",
      "405/405 [==============================] - 1s 3ms/step - loss: 0.4065 - recall: 0.2379 - val_loss: 0.3168 - val_recall: 0.4420\n",
      "Epoch 347/350\n",
      "405/405 [==============================] - 1s 2ms/step - loss: 0.4023 - recall: 0.2718 - val_loss: 0.3175 - val_recall: 0.4033\n",
      "Epoch 348/350\n",
      "405/405 [==============================] - 1s 1ms/step - loss: 0.4019 - recall: 0.2542 - val_loss: 0.3129 - val_recall: 0.4420\n",
      "Epoch 349/350\n"
     ]
    },
    {
     "name": "stdout",
     "output_type": "stream",
     "text": [
      "405/405 [==============================] - 1s 1ms/step - loss: 0.4032 - recall: 0.2597 - val_loss: 0.3164 - val_recall: 0.4033\n",
      "Epoch 350/350\n",
      "405/405 [==============================] - 1s 1ms/step - loss: 0.4062 - recall: 0.2700 - val_loss: 0.3151 - val_recall: 0.4309\n"
     ]
    },
    {
     "data": {
      "text/plain": [
       "<keras.callbacks.History at 0x22c2c2168b0>"
      ]
     },
     "execution_count": 83,
     "metadata": {},
     "output_type": "execute_result"
    }
   ],
   "source": [
    "model.fit(x = X_train, y = y_train, validation_split = 0.1, batch_size = 20, epochs = 350, verbose = 1)"
   ]
  },
  {
   "cell_type": "code",
   "execution_count": 84,
   "metadata": {},
   "outputs": [
    {
     "data": {
      "text/plain": [
       "<AxesSubplot:>"
      ]
     },
     "execution_count": 84,
     "metadata": {},
     "output_type": "execute_result"
    },
    {
     "data": {
      "image/png": "[encoded data removed]",
      "text/plain": [
       "<Figure size 720x432 with 1 Axes>"
      ]
     },
     "metadata": {},
     "output_type": "display_data"
    }
   ],
   "source": [
    "loss_df = pd.DataFrame(model.history.history)\n",
    "loss_df.plot()"
   ]
  },
  {
   "cell_type": "code",
   "execution_count": 85,
   "metadata": {},
   "outputs": [
    {
     "name": "stdout",
     "output_type": "stream",
     "text": [
      "32/32 [==============================] - 0s 1ms/step\n",
      "[[783  13]\n",
      " [137  67]]\n",
      "              precision    recall  f1-score   support\n",
      "\n",
      "           0       0.85      0.98      0.91       796\n",
      "           1       0.84      0.33      0.47       204\n",
      "\n",
      "    accuracy                           0.85      1000\n",
      "   macro avg       0.84      0.66      0.69      1000\n",
      "weighted avg       0.85      0.85      0.82      1000\n",
      "\n"
     ]
    }
   ],
   "source": [
    "y_pred = model.predict(X_test) > 0.5\n",
    "#y_pred = model.predict_classes(X_test) for tf 2.5.0\n",
    "print(confusion_matrix(y_test, y_pred))\n",
    "print(classification_report(y_test, y_pred))"
   ]
  }
 ],
 "metadata": {
  "colab": {
   "authorship_tag": "ABX9TyPKBWWuNpSuP7DHsa+Zpo3l",
   "collapsed_sections": [],
   "name": "Untitled0.ipynb",
   "provenance": []
  },
  "interpreter": {
   "hash": "aee8b7b246df8f9039afb4144a1f6fd8d2ca17a180786b69acc140d282b71a49"
  },
  "kernelspec": {
   "display_name": "Python 3 (ipykernel)",
   "language": "python",
   "name": "python3"
  },
  "language_info": {
   "codemirror_mode": {
    "name": "ipython",
    "version": 3
   },
   "file_extension": ".py",
   "mimetype": "text/x-python",
   "name": "python",
   "nbconvert_exporter": "python",
   "pygments_lexer": "ipython3",
   "version": "3.9.7"
  },
  "toc": {
   "base_numbering": 1,
   "nav_menu": {},
   "number_sections": false,
   "sideBar": true,
   "skip_h1_title": false,
   "title_cell": "Table of Contents",
   "title_sidebar": "Contents",
   "toc_cell": false,
   "toc_position": {},
   "toc_section_display": true,
   "toc_window_display": false
  }
 },
 "nbformat": 4,
 "nbformat_minor": 1
}
